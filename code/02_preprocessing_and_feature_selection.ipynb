{
 "cells": [
  {
   "cell_type": "markdown",
   "id": "8cea4624-6867-4626-8fac-16c5c76bfd8d",
   "metadata": {},
   "source": [
    "---\n",
    "\n",
    "# Part 2: Preprocessing Data and Feature Selection"
   ]
  },
  {
   "cell_type": "markdown",
   "id": "63f50e34-6073-4cfb-b170-f0dab6d7825e",
   "metadata": {},
   "source": [
    "---\n",
    "\n",
    "## Notebook Summary\n",
    "\n",
    "This notebooks reads in the cleaned data and goes through some preprocessing of the categorical variables for the purposes of generating an iterative model. Some of the data undergo feature engineering to search for interaction features. The dataset will be train/test split and then scaled for comparing feature variable before running preliminary models and iterating on the most appropriate features. Included in this notebook, the reader will find:\n",
    "\n",
    "* Preprocessing Data\n",
    "* Model Baseline\n",
    "* Polynomial Features\n",
    "* Ridge Regularization\n",
    "* Lasson Regularization\n",
    "* Feature Selection\n",
    "* Notebook Conclusion"
   ]
  },
  {
   "cell_type": "markdown",
   "id": "cbb7e5fc-0d9d-467b-b9ba-c42e090d6d08",
   "metadata": {},
   "source": [
    "---\n",
    "\n",
    "## Preprocessing Data\n",
    "\n",
    "I will begin by dummifying all the categorical variables, so I have the option of running a very overfit model to start. On this model, my plan is to run a ridge and lasso regularization to determine which features might have the most significant impact on the sale price in a less complex model. I will then iterate through different versions of this less complex models to build a final production model and make it interpretable for the purposes of our problem statement.\n",
    "\n",
    "First, I will import the necessary libraries and then read in the numerically cleaned dataset."
   ]
  },
  {
   "cell_type": "code",
   "execution_count": 1,
   "id": "fdabb53d-cb69-4598-aeec-743daff13976",
   "metadata": {},
   "outputs": [],
   "source": [
    "# import requisite libraries and modules for linear regression and feature engineering\n",
    "import pandas as pd\n",
    "import numpy as np\n",
    "\n",
    "from sklearn.linear_model import LinearRegression\n",
    "from sklearn.model_selection import train_test_split, cross_val_score\n",
    "from sklearn.metrics import r2_score\n",
    "from sklearn.preprocessing import StandardScaler, PolynomialFeatures\n",
    "from sklearn.pipeline import Pipeline\n",
    "from sklearn.linear_model import Ridge, RidgeCV, Lasso, LassoCV"
   ]
  },
  {
   "cell_type": "code",
   "execution_count": 2,
   "id": "ae416bb9-bdd2-437f-8533-daf89ee93954",
   "metadata": {
    "tags": []
   },
   "outputs": [
    {
     "data": {
      "text/html": [
       "<div>\n",
       "<style scoped>\n",
       "    .dataframe tbody tr th:only-of-type {\n",
       "        vertical-align: middle;\n",
       "    }\n",
       "\n",
       "    .dataframe tbody tr th {\n",
       "        vertical-align: top;\n",
       "    }\n",
       "\n",
       "    .dataframe thead th {\n",
       "        text-align: right;\n",
       "    }\n",
       "</style>\n",
       "<table border=\"1\" class=\"dataframe\">\n",
       "  <thead>\n",
       "    <tr style=\"text-align: right;\">\n",
       "      <th></th>\n",
       "      <th>Id</th>\n",
       "      <th>PID</th>\n",
       "      <th>MS SubClass</th>\n",
       "      <th>MS Zoning</th>\n",
       "      <th>Lot Frontage</th>\n",
       "      <th>Lot Area</th>\n",
       "      <th>Street</th>\n",
       "      <th>Alley</th>\n",
       "      <th>Lot Shape</th>\n",
       "      <th>Land Contour</th>\n",
       "      <th>...</th>\n",
       "      <th>Screen Porch</th>\n",
       "      <th>Pool Area</th>\n",
       "      <th>Pool QC</th>\n",
       "      <th>Fence</th>\n",
       "      <th>Misc Feature</th>\n",
       "      <th>Misc Val</th>\n",
       "      <th>Mo Sold</th>\n",
       "      <th>Yr Sold</th>\n",
       "      <th>Sale Type</th>\n",
       "      <th>SalePrice</th>\n",
       "    </tr>\n",
       "  </thead>\n",
       "  <tbody>\n",
       "    <tr>\n",
       "      <th>0</th>\n",
       "      <td>109</td>\n",
       "      <td>533352170</td>\n",
       "      <td>60</td>\n",
       "      <td>RL</td>\n",
       "      <td>0.0</td>\n",
       "      <td>13517</td>\n",
       "      <td>Pave</td>\n",
       "      <td>None</td>\n",
       "      <td>IR1</td>\n",
       "      <td>Lvl</td>\n",
       "      <td>...</td>\n",
       "      <td>0</td>\n",
       "      <td>0</td>\n",
       "      <td>None</td>\n",
       "      <td>None</td>\n",
       "      <td>None</td>\n",
       "      <td>0</td>\n",
       "      <td>3</td>\n",
       "      <td>2010</td>\n",
       "      <td>WD</td>\n",
       "      <td>130500</td>\n",
       "    </tr>\n",
       "    <tr>\n",
       "      <th>1</th>\n",
       "      <td>544</td>\n",
       "      <td>531379050</td>\n",
       "      <td>60</td>\n",
       "      <td>RL</td>\n",
       "      <td>43.0</td>\n",
       "      <td>11492</td>\n",
       "      <td>Pave</td>\n",
       "      <td>None</td>\n",
       "      <td>IR1</td>\n",
       "      <td>Lvl</td>\n",
       "      <td>...</td>\n",
       "      <td>0</td>\n",
       "      <td>0</td>\n",
       "      <td>None</td>\n",
       "      <td>None</td>\n",
       "      <td>None</td>\n",
       "      <td>0</td>\n",
       "      <td>4</td>\n",
       "      <td>2009</td>\n",
       "      <td>WD</td>\n",
       "      <td>220000</td>\n",
       "    </tr>\n",
       "    <tr>\n",
       "      <th>2</th>\n",
       "      <td>153</td>\n",
       "      <td>535304180</td>\n",
       "      <td>20</td>\n",
       "      <td>RL</td>\n",
       "      <td>68.0</td>\n",
       "      <td>7922</td>\n",
       "      <td>Pave</td>\n",
       "      <td>None</td>\n",
       "      <td>Reg</td>\n",
       "      <td>Lvl</td>\n",
       "      <td>...</td>\n",
       "      <td>0</td>\n",
       "      <td>0</td>\n",
       "      <td>None</td>\n",
       "      <td>None</td>\n",
       "      <td>None</td>\n",
       "      <td>0</td>\n",
       "      <td>1</td>\n",
       "      <td>2010</td>\n",
       "      <td>WD</td>\n",
       "      <td>109000</td>\n",
       "    </tr>\n",
       "    <tr>\n",
       "      <th>3</th>\n",
       "      <td>318</td>\n",
       "      <td>916386060</td>\n",
       "      <td>60</td>\n",
       "      <td>RL</td>\n",
       "      <td>73.0</td>\n",
       "      <td>9802</td>\n",
       "      <td>Pave</td>\n",
       "      <td>None</td>\n",
       "      <td>Reg</td>\n",
       "      <td>Lvl</td>\n",
       "      <td>...</td>\n",
       "      <td>0</td>\n",
       "      <td>0</td>\n",
       "      <td>None</td>\n",
       "      <td>None</td>\n",
       "      <td>None</td>\n",
       "      <td>0</td>\n",
       "      <td>4</td>\n",
       "      <td>2010</td>\n",
       "      <td>WD</td>\n",
       "      <td>174000</td>\n",
       "    </tr>\n",
       "    <tr>\n",
       "      <th>4</th>\n",
       "      <td>255</td>\n",
       "      <td>906425045</td>\n",
       "      <td>50</td>\n",
       "      <td>RL</td>\n",
       "      <td>82.0</td>\n",
       "      <td>14235</td>\n",
       "      <td>Pave</td>\n",
       "      <td>None</td>\n",
       "      <td>IR1</td>\n",
       "      <td>Lvl</td>\n",
       "      <td>...</td>\n",
       "      <td>0</td>\n",
       "      <td>0</td>\n",
       "      <td>None</td>\n",
       "      <td>None</td>\n",
       "      <td>None</td>\n",
       "      <td>0</td>\n",
       "      <td>3</td>\n",
       "      <td>2010</td>\n",
       "      <td>WD</td>\n",
       "      <td>138500</td>\n",
       "    </tr>\n",
       "  </tbody>\n",
       "</table>\n",
       "<p>5 rows × 81 columns</p>\n",
       "</div>"
      ],
      "text/plain": [
       "    Id        PID  MS SubClass MS Zoning  Lot Frontage  Lot Area Street Alley  \\\n",
       "0  109  533352170           60        RL           0.0     13517   Pave  None   \n",
       "1  544  531379050           60        RL          43.0     11492   Pave  None   \n",
       "2  153  535304180           20        RL          68.0      7922   Pave  None   \n",
       "3  318  916386060           60        RL          73.0      9802   Pave  None   \n",
       "4  255  906425045           50        RL          82.0     14235   Pave  None   \n",
       "\n",
       "  Lot Shape Land Contour  ... Screen Porch Pool Area Pool QC Fence  \\\n",
       "0       IR1          Lvl  ...            0         0    None  None   \n",
       "1       IR1          Lvl  ...            0         0    None  None   \n",
       "2       Reg          Lvl  ...            0         0    None  None   \n",
       "3       Reg          Lvl  ...            0         0    None  None   \n",
       "4       IR1          Lvl  ...            0         0    None  None   \n",
       "\n",
       "  Misc Feature Misc Val Mo Sold Yr Sold  Sale Type  SalePrice  \n",
       "0         None        0       3    2010        WD      130500  \n",
       "1         None        0       4    2009        WD      220000  \n",
       "2         None        0       1    2010        WD      109000  \n",
       "3         None        0       4    2010        WD      174000  \n",
       "4         None        0       3    2010        WD      138500  \n",
       "\n",
       "[5 rows x 81 columns]"
      ]
     },
     "execution_count": 2,
     "metadata": {},
     "output_type": "execute_result"
    }
   ],
   "source": [
    "# read in cleaned dataset from notebook 1 and print out head\n",
    "homes_train = pd.read_csv('../datasets/train_cleaned.csv')\n",
    "\n",
    "homes_train.head()"
   ]
  },
  {
   "cell_type": "markdown",
   "id": "f0594eea-def9-438b-a4f2-d1f6ecb0235d",
   "metadata": {},
   "source": [
    "First, I will go back to those categorical columns misclassified as integers and convert them to strings. Then, I will collect all the string data type columns and dummify the variables all at once."
   ]
  },
  {
   "cell_type": "code",
   "execution_count": 3,
   "id": "2766f287-859d-449f-99fe-680445877b08",
   "metadata": {
    "tags": []
   },
   "outputs": [
    {
     "data": {
      "text/plain": [
       "Id                int64\n",
       "PID               int64\n",
       "MS SubClass      object\n",
       "MS Zoning        object\n",
       "Lot Frontage    float64\n",
       "                 ...   \n",
       "Misc Val          int64\n",
       "Mo Sold          object\n",
       "Yr Sold           int64\n",
       "Sale Type        object\n",
       "SalePrice         int64\n",
       "Length: 81, dtype: object"
      ]
     },
     "execution_count": 3,
     "metadata": {},
     "output_type": "execute_result"
    }
   ],
   "source": [
    "# reclassify data types identified from notebook 1 from numeric to categorical\n",
    "homes_train['MS SubClass'] = homes_train['MS SubClass'].astype(str)\n",
    "homes_train['Mo Sold'] = homes_train['Mo Sold'].astype(str)\n",
    "\n",
    "homes_train.dtypes"
   ]
  },
  {
   "cell_type": "code",
   "execution_count": 4,
   "id": "7fe1e1ac-39c7-4733-a56f-d5a16b70c7f3",
   "metadata": {
    "tags": []
   },
   "outputs": [
    {
     "data": {
      "text/plain": [
       "Index(['MS SubClass', 'MS Zoning', 'Street', 'Alley', 'Lot Shape',\n",
       "       'Land Contour', 'Utilities', 'Lot Config', 'Land Slope', 'Neighborhood',\n",
       "       'Condition 1', 'Condition 2', 'Bldg Type', 'House Style', 'Roof Style',\n",
       "       'Roof Matl', 'Exterior 1st', 'Exterior 2nd', 'Mas Vnr Type',\n",
       "       'Exter Qual', 'Exter Cond', 'Foundation', 'Bsmt Qual', 'Bsmt Cond',\n",
       "       'Bsmt Exposure', 'BsmtFin Type 1', 'BsmtFin Type 2', 'Heating',\n",
       "       'Heating QC', 'Central Air', 'Electrical', 'Kitchen Qual', 'Functional',\n",
       "       'Fireplace Qu', 'Garage Type', 'Garage Finish', 'Garage Qual',\n",
       "       'Garage Cond', 'Paved Drive', 'Pool QC', 'Fence', 'Misc Feature',\n",
       "       'Mo Sold', 'Sale Type'],\n",
       "      dtype='object')"
      ]
     },
     "execution_count": 4,
     "metadata": {},
     "output_type": "execute_result"
    }
   ],
   "source": [
    "# make a list of object data type columns\n",
    "cols_objs = homes_train.select_dtypes('object').columns\n",
    "\n",
    "cols_objs"
   ]
  },
  {
   "cell_type": "code",
   "execution_count": 5,
   "id": "03f52d26-29bc-475b-9ab4-3ce14e0dbeda",
   "metadata": {
    "tags": []
   },
   "outputs": [
    {
     "name": "stdout",
     "output_type": "stream",
     "text": [
      "(2051, 288)\n"
     ]
    },
    {
     "data": {
      "text/html": [
       "<div>\n",
       "<style scoped>\n",
       "    .dataframe tbody tr th:only-of-type {\n",
       "        vertical-align: middle;\n",
       "    }\n",
       "\n",
       "    .dataframe tbody tr th {\n",
       "        vertical-align: top;\n",
       "    }\n",
       "\n",
       "    .dataframe thead th {\n",
       "        text-align: right;\n",
       "    }\n",
       "</style>\n",
       "<table border=\"1\" class=\"dataframe\">\n",
       "  <thead>\n",
       "    <tr style=\"text-align: right;\">\n",
       "      <th></th>\n",
       "      <th>Id</th>\n",
       "      <th>PID</th>\n",
       "      <th>Lot Frontage</th>\n",
       "      <th>Lot Area</th>\n",
       "      <th>Overall Qual</th>\n",
       "      <th>Overall Cond</th>\n",
       "      <th>Year Built</th>\n",
       "      <th>Year Remod/Add</th>\n",
       "      <th>Mas Vnr Area</th>\n",
       "      <th>BsmtFin SF 1</th>\n",
       "      <th>...</th>\n",
       "      <th>Mo Sold_8</th>\n",
       "      <th>Mo Sold_9</th>\n",
       "      <th>Sale Type_CWD</th>\n",
       "      <th>Sale Type_Con</th>\n",
       "      <th>Sale Type_ConLD</th>\n",
       "      <th>Sale Type_ConLI</th>\n",
       "      <th>Sale Type_ConLw</th>\n",
       "      <th>Sale Type_New</th>\n",
       "      <th>Sale Type_Oth</th>\n",
       "      <th>Sale Type_WD</th>\n",
       "    </tr>\n",
       "  </thead>\n",
       "  <tbody>\n",
       "    <tr>\n",
       "      <th>0</th>\n",
       "      <td>109</td>\n",
       "      <td>533352170</td>\n",
       "      <td>0.0</td>\n",
       "      <td>13517</td>\n",
       "      <td>6</td>\n",
       "      <td>8</td>\n",
       "      <td>1976</td>\n",
       "      <td>2005</td>\n",
       "      <td>289.0</td>\n",
       "      <td>533.0</td>\n",
       "      <td>...</td>\n",
       "      <td>0</td>\n",
       "      <td>0</td>\n",
       "      <td>0</td>\n",
       "      <td>0</td>\n",
       "      <td>0</td>\n",
       "      <td>0</td>\n",
       "      <td>0</td>\n",
       "      <td>0</td>\n",
       "      <td>0</td>\n",
       "      <td>1</td>\n",
       "    </tr>\n",
       "    <tr>\n",
       "      <th>1</th>\n",
       "      <td>544</td>\n",
       "      <td>531379050</td>\n",
       "      <td>43.0</td>\n",
       "      <td>11492</td>\n",
       "      <td>7</td>\n",
       "      <td>5</td>\n",
       "      <td>1996</td>\n",
       "      <td>1997</td>\n",
       "      <td>132.0</td>\n",
       "      <td>637.0</td>\n",
       "      <td>...</td>\n",
       "      <td>0</td>\n",
       "      <td>0</td>\n",
       "      <td>0</td>\n",
       "      <td>0</td>\n",
       "      <td>0</td>\n",
       "      <td>0</td>\n",
       "      <td>0</td>\n",
       "      <td>0</td>\n",
       "      <td>0</td>\n",
       "      <td>1</td>\n",
       "    </tr>\n",
       "    <tr>\n",
       "      <th>2</th>\n",
       "      <td>153</td>\n",
       "      <td>535304180</td>\n",
       "      <td>68.0</td>\n",
       "      <td>7922</td>\n",
       "      <td>5</td>\n",
       "      <td>7</td>\n",
       "      <td>1953</td>\n",
       "      <td>2007</td>\n",
       "      <td>0.0</td>\n",
       "      <td>731.0</td>\n",
       "      <td>...</td>\n",
       "      <td>0</td>\n",
       "      <td>0</td>\n",
       "      <td>0</td>\n",
       "      <td>0</td>\n",
       "      <td>0</td>\n",
       "      <td>0</td>\n",
       "      <td>0</td>\n",
       "      <td>0</td>\n",
       "      <td>0</td>\n",
       "      <td>1</td>\n",
       "    </tr>\n",
       "    <tr>\n",
       "      <th>3</th>\n",
       "      <td>318</td>\n",
       "      <td>916386060</td>\n",
       "      <td>73.0</td>\n",
       "      <td>9802</td>\n",
       "      <td>5</td>\n",
       "      <td>5</td>\n",
       "      <td>2006</td>\n",
       "      <td>2007</td>\n",
       "      <td>0.0</td>\n",
       "      <td>0.0</td>\n",
       "      <td>...</td>\n",
       "      <td>0</td>\n",
       "      <td>0</td>\n",
       "      <td>0</td>\n",
       "      <td>0</td>\n",
       "      <td>0</td>\n",
       "      <td>0</td>\n",
       "      <td>0</td>\n",
       "      <td>0</td>\n",
       "      <td>0</td>\n",
       "      <td>1</td>\n",
       "    </tr>\n",
       "    <tr>\n",
       "      <th>4</th>\n",
       "      <td>255</td>\n",
       "      <td>906425045</td>\n",
       "      <td>82.0</td>\n",
       "      <td>14235</td>\n",
       "      <td>6</td>\n",
       "      <td>8</td>\n",
       "      <td>1900</td>\n",
       "      <td>1993</td>\n",
       "      <td>0.0</td>\n",
       "      <td>0.0</td>\n",
       "      <td>...</td>\n",
       "      <td>0</td>\n",
       "      <td>0</td>\n",
       "      <td>0</td>\n",
       "      <td>0</td>\n",
       "      <td>0</td>\n",
       "      <td>0</td>\n",
       "      <td>0</td>\n",
       "      <td>0</td>\n",
       "      <td>0</td>\n",
       "      <td>1</td>\n",
       "    </tr>\n",
       "  </tbody>\n",
       "</table>\n",
       "<p>5 rows × 288 columns</p>\n",
       "</div>"
      ],
      "text/plain": [
       "    Id        PID  Lot Frontage  Lot Area  Overall Qual  Overall Cond  \\\n",
       "0  109  533352170           0.0     13517             6             8   \n",
       "1  544  531379050          43.0     11492             7             5   \n",
       "2  153  535304180          68.0      7922             5             7   \n",
       "3  318  916386060          73.0      9802             5             5   \n",
       "4  255  906425045          82.0     14235             6             8   \n",
       "\n",
       "   Year Built  Year Remod/Add  Mas Vnr Area  BsmtFin SF 1  ...  Mo Sold_8  \\\n",
       "0        1976            2005         289.0         533.0  ...          0   \n",
       "1        1996            1997         132.0         637.0  ...          0   \n",
       "2        1953            2007           0.0         731.0  ...          0   \n",
       "3        2006            2007           0.0           0.0  ...          0   \n",
       "4        1900            1993           0.0           0.0  ...          0   \n",
       "\n",
       "   Mo Sold_9  Sale Type_CWD  Sale Type_Con  Sale Type_ConLD  Sale Type_ConLI  \\\n",
       "0          0              0              0                0                0   \n",
       "1          0              0              0                0                0   \n",
       "2          0              0              0                0                0   \n",
       "3          0              0              0                0                0   \n",
       "4          0              0              0                0                0   \n",
       "\n",
       "   Sale Type_ConLw  Sale Type_New  Sale Type_Oth  Sale Type_WD   \n",
       "0                0              0              0              1  \n",
       "1                0              0              0              1  \n",
       "2                0              0              0              1  \n",
       "3                0              0              0              1  \n",
       "4                0              0              0              1  \n",
       "\n",
       "[5 rows x 288 columns]"
      ]
     },
     "execution_count": 5,
     "metadata": {},
     "output_type": "execute_result"
    }
   ],
   "source": [
    "# dummify all categorical columns and drop first.\n",
    "# print the new dataset to check the shape and head\n",
    "homes_train = pd.get_dummies(data = homes_train, columns = cols_objs, drop_first = True)\n",
    "\n",
    "print(homes_train.shape)\n",
    "\n",
    "homes_train.head()"
   ]
  },
  {
   "cell_type": "markdown",
   "id": "ad792d76-ef69-43e8-811a-d25f0be5ca6a",
   "metadata": {
    "tags": []
   },
   "source": [
    "Our categorical variables have all been dummified, and we now have a dataframe with 288 columns instead of 81."
   ]
  },
  {
   "cell_type": "markdown",
   "id": "054915d7-4341-40c7-aae4-f096d6608091",
   "metadata": {},
   "source": [
    "---\n",
    "\n",
    "## Baseline Model\n",
    "\n",
    "With the data preprocessed, I will begin by creating a baseline model. The baseline model will include all of the features, both numerical and categorical after standard scaling. The baseline model will compare predictions to the mean of the sale price as our target variable. This baseline model like all of the linear regression models which follow will be evaluated based on the Pearson coefficient of determination, the R<sup>2</sup> score."
   ]
  },
  {
   "cell_type": "code",
   "execution_count": 6,
   "id": "5aac2dff-a1f0-4610-9aad-85b829a140c9",
   "metadata": {
    "tags": []
   },
   "outputs": [],
   "source": [
    "# choose features and target for baseline model and do a train/test split\n",
    "X_null = homes_train.drop(columns = ['Id', 'PID', 'SalePrice'])\n",
    "y_null = homes_train['SalePrice']\n",
    "\n",
    "X_train_null, X_test_null, y_train_null, y_test_null = train_test_split(X_null, y_null, random_state = 42)"
   ]
  },
  {
   "cell_type": "code",
   "execution_count": 7,
   "id": "d41775b9-b1b2-440c-be42-29a893b81e56",
   "metadata": {
    "tags": []
   },
   "outputs": [
    {
     "data": {
      "text/plain": [
       "-0.00043273813883448753"
      ]
     },
     "execution_count": 7,
     "metadata": {},
     "output_type": "execute_result"
    }
   ],
   "source": [
    "# Creare a list of y_train mean to compare against the y_test set and find the R2 score\n",
    "base_nulls = [y_train_null.mean()] * len(y_test_null)\n",
    "\n",
    "r2_score(y_test_null, base_nulls)"
   ]
  },
  {
   "cell_type": "markdown",
   "id": "6d4309bb-ef43-4830-8f3e-a652cd4d943d",
   "metadata": {
    "tags": []
   },
   "source": [
    "Already in our baseline model, I can see that just based on the mean of the sale price in the training set, we have an abysmally low negative coefficient of determination at a value of -0.00143. This means that any positive R<sup>2</sup> value is already an improvement over the baseline model, but of course we will attempt to fit our model so the evaluation metric is increasingly closer to one."
   ]
  },
  {
   "cell_type": "markdown",
   "id": "e2c817d8-6ed4-4085-b393-86966604a74b",
   "metadata": {},
   "source": [
    "---\n",
    "\n",
    "## Polynomial Features\n",
    "\n",
    "With all our data preprocessed and a baseline model established, I will create a train/test split in our training data and begin with creating some polynomial features in our dataset and then standard scaling. The goal here is to begin to scan for any interaction features and then, slowly whittle down to some of the most salient features to make a more interpretable production model."
   ]
  },
  {
   "cell_type": "code",
   "execution_count": 8,
   "id": "c72badd4-519f-4077-a83a-fbe423aee697",
   "metadata": {
    "tags": []
   },
   "outputs": [],
   "source": [
    "# choose features and target for polynomial model\n",
    "X = homes_train.drop(columns = ['Id', 'PID', 'SalePrice'])\n",
    "y = homes_train['SalePrice']"
   ]
  },
  {
   "cell_type": "code",
   "execution_count": 9,
   "id": "f35e4811-577b-4fde-841c-df1e31572320",
   "metadata": {
    "tags": []
   },
   "outputs": [
    {
     "data": {
      "text/html": [
       "<style>#sk-container-id-1 {color: black;background-color: white;}#sk-container-id-1 pre{padding: 0;}#sk-container-id-1 div.sk-toggleable {background-color: white;}#sk-container-id-1 label.sk-toggleable__label {cursor: pointer;display: block;width: 100%;margin-bottom: 0;padding: 0.3em;box-sizing: border-box;text-align: center;}#sk-container-id-1 label.sk-toggleable__label-arrow:before {content: \"▸\";float: left;margin-right: 0.25em;color: #696969;}#sk-container-id-1 label.sk-toggleable__label-arrow:hover:before {color: black;}#sk-container-id-1 div.sk-estimator:hover label.sk-toggleable__label-arrow:before {color: black;}#sk-container-id-1 div.sk-toggleable__content {max-height: 0;max-width: 0;overflow: hidden;text-align: left;background-color: #f0f8ff;}#sk-container-id-1 div.sk-toggleable__content pre {margin: 0.2em;color: black;border-radius: 0.25em;background-color: #f0f8ff;}#sk-container-id-1 input.sk-toggleable__control:checked~div.sk-toggleable__content {max-height: 200px;max-width: 100%;overflow: auto;}#sk-container-id-1 input.sk-toggleable__control:checked~label.sk-toggleable__label-arrow:before {content: \"▾\";}#sk-container-id-1 div.sk-estimator input.sk-toggleable__control:checked~label.sk-toggleable__label {background-color: #d4ebff;}#sk-container-id-1 div.sk-label input.sk-toggleable__control:checked~label.sk-toggleable__label {background-color: #d4ebff;}#sk-container-id-1 input.sk-hidden--visually {border: 0;clip: rect(1px 1px 1px 1px);clip: rect(1px, 1px, 1px, 1px);height: 1px;margin: -1px;overflow: hidden;padding: 0;position: absolute;width: 1px;}#sk-container-id-1 div.sk-estimator {font-family: monospace;background-color: #f0f8ff;border: 1px dotted black;border-radius: 0.25em;box-sizing: border-box;margin-bottom: 0.5em;}#sk-container-id-1 div.sk-estimator:hover {background-color: #d4ebff;}#sk-container-id-1 div.sk-parallel-item::after {content: \"\";width: 100%;border-bottom: 1px solid gray;flex-grow: 1;}#sk-container-id-1 div.sk-label:hover label.sk-toggleable__label {background-color: #d4ebff;}#sk-container-id-1 div.sk-serial::before {content: \"\";position: absolute;border-left: 1px solid gray;box-sizing: border-box;top: 0;bottom: 0;left: 50%;z-index: 0;}#sk-container-id-1 div.sk-serial {display: flex;flex-direction: column;align-items: center;background-color: white;padding-right: 0.2em;padding-left: 0.2em;position: relative;}#sk-container-id-1 div.sk-item {position: relative;z-index: 1;}#sk-container-id-1 div.sk-parallel {display: flex;align-items: stretch;justify-content: center;background-color: white;position: relative;}#sk-container-id-1 div.sk-item::before, #sk-container-id-1 div.sk-parallel-item::before {content: \"\";position: absolute;border-left: 1px solid gray;box-sizing: border-box;top: 0;bottom: 0;left: 50%;z-index: -1;}#sk-container-id-1 div.sk-parallel-item {display: flex;flex-direction: column;z-index: 1;position: relative;background-color: white;}#sk-container-id-1 div.sk-parallel-item:first-child::after {align-self: flex-end;width: 50%;}#sk-container-id-1 div.sk-parallel-item:last-child::after {align-self: flex-start;width: 50%;}#sk-container-id-1 div.sk-parallel-item:only-child::after {width: 0;}#sk-container-id-1 div.sk-dashed-wrapped {border: 1px dashed gray;margin: 0 0.4em 0.5em 0.4em;box-sizing: border-box;padding-bottom: 0.4em;background-color: white;}#sk-container-id-1 div.sk-label label {font-family: monospace;font-weight: bold;display: inline-block;line-height: 1.2em;}#sk-container-id-1 div.sk-label-container {text-align: center;}#sk-container-id-1 div.sk-container {/* jupyter's `normalize.less` sets `[hidden] { display: none; }` but bootstrap.min.css set `[hidden] { display: none !important; }` so we also need the `!important` here to be able to override the default hidden behavior on the sphinx rendered scikit-learn.org. See: https://github.com/scikit-learn/scikit-learn/issues/21755 */display: inline-block !important;position: relative;}#sk-container-id-1 div.sk-text-repr-fallback {display: none;}</style><div id=\"sk-container-id-1\" class=\"sk-top-container\"><div class=\"sk-text-repr-fallback\"><pre>Pipeline(steps=[(&#x27;poly&#x27;, PolynomialFeatures(include_bias=False)),\n",
       "                (&#x27;sc&#x27;, StandardScaler()), (&#x27;lr&#x27;, LinearRegression())])</pre><b>In a Jupyter environment, please rerun this cell to show the HTML representation or trust the notebook. <br />On GitHub, the HTML representation is unable to render, please try loading this page with nbviewer.org.</b></div><div class=\"sk-container\" hidden><div class=\"sk-item sk-dashed-wrapped\"><div class=\"sk-label-container\"><div class=\"sk-label sk-toggleable\"><input class=\"sk-toggleable__control sk-hidden--visually\" id=\"sk-estimator-id-1\" type=\"checkbox\" ><label for=\"sk-estimator-id-1\" class=\"sk-toggleable__label sk-toggleable__label-arrow\">Pipeline</label><div class=\"sk-toggleable__content\"><pre>Pipeline(steps=[(&#x27;poly&#x27;, PolynomialFeatures(include_bias=False)),\n",
       "                (&#x27;sc&#x27;, StandardScaler()), (&#x27;lr&#x27;, LinearRegression())])</pre></div></div></div><div class=\"sk-serial\"><div class=\"sk-item\"><div class=\"sk-estimator sk-toggleable\"><input class=\"sk-toggleable__control sk-hidden--visually\" id=\"sk-estimator-id-2\" type=\"checkbox\" ><label for=\"sk-estimator-id-2\" class=\"sk-toggleable__label sk-toggleable__label-arrow\">PolynomialFeatures</label><div class=\"sk-toggleable__content\"><pre>PolynomialFeatures(include_bias=False)</pre></div></div></div><div class=\"sk-item\"><div class=\"sk-estimator sk-toggleable\"><input class=\"sk-toggleable__control sk-hidden--visually\" id=\"sk-estimator-id-3\" type=\"checkbox\" ><label for=\"sk-estimator-id-3\" class=\"sk-toggleable__label sk-toggleable__label-arrow\">StandardScaler</label><div class=\"sk-toggleable__content\"><pre>StandardScaler()</pre></div></div></div><div class=\"sk-item\"><div class=\"sk-estimator sk-toggleable\"><input class=\"sk-toggleable__control sk-hidden--visually\" id=\"sk-estimator-id-4\" type=\"checkbox\" ><label for=\"sk-estimator-id-4\" class=\"sk-toggleable__label sk-toggleable__label-arrow\">LinearRegression</label><div class=\"sk-toggleable__content\"><pre>LinearRegression()</pre></div></div></div></div></div></div></div>"
      ],
      "text/plain": [
       "Pipeline(steps=[('poly', PolynomialFeatures(include_bias=False)),\n",
       "                ('sc', StandardScaler()), ('lr', LinearRegression())])"
      ]
     },
     "execution_count": 9,
     "metadata": {},
     "output_type": "execute_result"
    }
   ],
   "source": [
    "# create a Pipeline which transforms the dataset with polynomial features\n",
    "# transforms all features using a standard scaler\n",
    "# instantiates a linear regression\n",
    "poly_pipe = Pipeline([\n",
    "        ('poly', PolynomialFeatures(include_bias = False)),\n",
    "        ('sc', StandardScaler()),\n",
    "        ('lr', LinearRegression())\n",
    "    ])\n",
    "    \n",
    "X_train, X_test, y_train, y_test = train_test_split(X, y, random_state = 42)\n",
    "    \n",
    "poly_pipe.fit(X_train, y_train)"
   ]
  },
  {
   "cell_type": "code",
   "execution_count": 10,
   "id": "6cdfd149-4e3e-42a5-8051-d61fadb13df9",
   "metadata": {
    "tags": []
   },
   "outputs": [
    {
     "name": "stdout",
     "output_type": "stream",
     "text": [
      "Cross-Validation Score: 0.4395038549537733\n",
      "Cross-Validation Scores: [ 0.84114048 -0.46236391  0.85706834  0.55081694  0.41085743]\n",
      "Training Score: 1.0\n",
      "Test Score: 0.8706088732645141\n"
     ]
    }
   ],
   "source": [
    "# prints out cross-validation and R2 scores for train and test\n",
    "print(f'Cross-Validation Score: {cross_val_score(poly_pipe, X_train, y_train).mean()}')\n",
    "print(f'Cross-Validation Scores: {cross_val_score(poly_pipe, X_train, y_train)}')\n",
    "print(f'Training Score: {poly_pipe.score(X_train, y_train)}')\n",
    "print(f'Test Score: {poly_pipe.score(X_test, y_test)}')"
   ]
  },
  {
   "cell_type": "markdown",
   "id": "99658750-b76f-465e-a5c9-2269079e3694",
   "metadata": {},
   "source": [
    "As suspected, this model is extremely overfit. With over tens of thousands of features, the model performs extremely well in the training dataset with an R<sup>2</sup> value of approximately 1. However, the same model in the test data has an R<sup>2</sup> value of approximately 0.87, failing miserably to predict, and performs even more poorly in cross-validation with a score of 0.44.\n",
    "\n",
    "Next, I want to look more closely at the largest coefficients in magnitude to determine if there are any salient interaction features to try to keep in our final production model. I might also make note of whether specific features keep showing up repeatedly in these high magnitude correlation coefficients to keep them in the final production model as well."
   ]
  },
  {
   "cell_type": "code",
   "execution_count": 11,
   "id": "6524cee2-f5ed-4e52-bdff-e86854f79a53",
   "metadata": {
    "tags": []
   },
   "outputs": [
    {
     "data": {
      "text/plain": [
       "Bsmt Exposure_Gd Mo Sold_3               1222.222964\n",
       "Mas Vnr Type_Stone Garage Finish_RFn     1046.168563\n",
       "Bsmt Full Bath Fireplace Qu_TA           1012.215316\n",
       "Screen Porch Mas Vnr Type_Stone          1002.016080\n",
       "Neighborhood_NridgHt Bsmt Exposure_Gd     970.170756\n",
       "                                            ...     \n",
       "Bldg Type_TwnhsE BsmtFin Type 1_GLQ     -1183.277892\n",
       "Neighborhood_NridgHt Exter Qual_Gd      -1185.228927\n",
       "Neighborhood_NridgHt Bsmt Qual_Gd       -1296.601814\n",
       "Mas Vnr Type_Stone BsmtFin Type 1_GLQ   -1430.856192\n",
       "Lot Frontage Bldg Type_TwnhsE           -1493.835827\n",
       "Length: 41040, dtype: float64"
      ]
     },
     "execution_count": 11,
     "metadata": {},
     "output_type": "execute_result"
    }
   ],
   "source": [
    "# saves the coefficients as a series\n",
    "poly_coefs = pd.Series(poly_pipe['lr'].coef_, index = poly_pipe[:-1].get_feature_names_out()).sort_values(ascending = False)\n",
    "\n",
    "poly_coefs"
   ]
  },
  {
   "cell_type": "code",
   "execution_count": 12,
   "id": "264b9bcc-ca8d-4cc4-920f-36e436c64480",
   "metadata": {
    "tags": []
   },
   "outputs": [
    {
     "data": {
      "text/plain": [
       "Bsmt Exposure_Gd Mo Sold_3                1222.222964\n",
       "Mas Vnr Type_Stone Garage Finish_RFn      1046.168563\n",
       "Bsmt Full Bath Fireplace Qu_TA            1012.215316\n",
       "Screen Porch Mas Vnr Type_Stone           1002.016080\n",
       "Neighborhood_NridgHt Bsmt Exposure_Gd      970.170756\n",
       "Lot Frontage Mas Vnr Type_Stone            943.470048\n",
       "Neighborhood_CollgCr Garage Finish_RFn     932.916922\n",
       "Neighborhood_NridgHt Fence_MnPrv           920.476377\n",
       "Screen Porch Garage Type_BuiltIn           918.634791\n",
       "Mas Vnr Area Mas Vnr Type_Stone            897.012154\n",
       "dtype: float64"
      ]
     },
     "execution_count": 12,
     "metadata": {},
     "output_type": "execute_result"
    }
   ],
   "source": [
    "# sorts 10 largest magnitude positive coefficients\n",
    "poly_coefs.sort_values(ascending = False).head(10)"
   ]
  },
  {
   "cell_type": "code",
   "execution_count": 13,
   "id": "556edff7-59df-44be-8f8b-43bc5f83a6df",
   "metadata": {
    "tags": []
   },
   "outputs": [
    {
     "data": {
      "text/plain": [
       "Lot Frontage Bldg Type_TwnhsE             -1493.835827\n",
       "Mas Vnr Type_Stone BsmtFin Type 1_GLQ     -1430.856192\n",
       "Neighborhood_NridgHt Bsmt Qual_Gd         -1296.601814\n",
       "Neighborhood_NridgHt Exter Qual_Gd        -1185.228927\n",
       "Bldg Type_TwnhsE BsmtFin Type 1_GLQ       -1183.277892\n",
       "Mas Vnr Type_Stone Exter Qual_Gd          -1114.658407\n",
       "Neighborhood_NridgHt Mo Sold_8            -1077.187424\n",
       "Neighborhood_Somerst Sale Type_New        -1073.893851\n",
       "Neighborhood_NridgHt BsmtFin Type 1_GLQ   -1070.990011\n",
       "Neighborhood_NoRidge Heating QC_Gd        -1017.593436\n",
       "dtype: float64"
      ]
     },
     "execution_count": 13,
     "metadata": {},
     "output_type": "execute_result"
    }
   ],
   "source": [
    "# sorts 10 largest magnitude negative coefficients\n",
    "poly_coefs.sort_values().head(10)"
   ]
  },
  {
   "cell_type": "markdown",
   "id": "9789b0b0-b44f-4a33-ab7c-064a2786fc5f",
   "metadata": {},
   "source": [
    "Looking at the interaction features and some of the correlation coefficients associated with them, I plan on using some common patterns to see which features might be useful in fitting my final production model later, even if they are not directly related to my problem statement. I notice that there are a handful of neighborhoods which are either positively or negatively correlated with the sales price across multiple interaction features, including Northridge, Northridge Heights, and College Creek. There also appear to be strong correlations with home sales during March and July. Basement finish type of good living quarters and mason veneer type stone also appear to have a strong correlation. Regarding my problem statement of square footage of home features, only the basement finish square footage and wood deck square footage show up albeit without any discrernible pattern.\n",
    "\n",
    "I will now return to the original features and dummified categorical variables. First, I will just run a multi-linear regression model to establish how overfit the model is with all the features included. After, I will apply Ridge and LASSO regularization methods to avoid overfitting and compare to the original regression model. Additionally with the LASSO method, I intend to zero out as many correlation coefficients as possible to come up with a more simplified, well-fit model and hopefully corroborate some of the interaction features that I am seeing as patterns above."
   ]
  },
  {
   "cell_type": "code",
   "execution_count": 14,
   "id": "9114300b-1fb1-4b72-86fd-5c10aead4f18",
   "metadata": {
    "tags": []
   },
   "outputs": [
    {
     "data": {
      "text/html": [
       "<style>#sk-container-id-2 {color: black;background-color: white;}#sk-container-id-2 pre{padding: 0;}#sk-container-id-2 div.sk-toggleable {background-color: white;}#sk-container-id-2 label.sk-toggleable__label {cursor: pointer;display: block;width: 100%;margin-bottom: 0;padding: 0.3em;box-sizing: border-box;text-align: center;}#sk-container-id-2 label.sk-toggleable__label-arrow:before {content: \"▸\";float: left;margin-right: 0.25em;color: #696969;}#sk-container-id-2 label.sk-toggleable__label-arrow:hover:before {color: black;}#sk-container-id-2 div.sk-estimator:hover label.sk-toggleable__label-arrow:before {color: black;}#sk-container-id-2 div.sk-toggleable__content {max-height: 0;max-width: 0;overflow: hidden;text-align: left;background-color: #f0f8ff;}#sk-container-id-2 div.sk-toggleable__content pre {margin: 0.2em;color: black;border-radius: 0.25em;background-color: #f0f8ff;}#sk-container-id-2 input.sk-toggleable__control:checked~div.sk-toggleable__content {max-height: 200px;max-width: 100%;overflow: auto;}#sk-container-id-2 input.sk-toggleable__control:checked~label.sk-toggleable__label-arrow:before {content: \"▾\";}#sk-container-id-2 div.sk-estimator input.sk-toggleable__control:checked~label.sk-toggleable__label {background-color: #d4ebff;}#sk-container-id-2 div.sk-label input.sk-toggleable__control:checked~label.sk-toggleable__label {background-color: #d4ebff;}#sk-container-id-2 input.sk-hidden--visually {border: 0;clip: rect(1px 1px 1px 1px);clip: rect(1px, 1px, 1px, 1px);height: 1px;margin: -1px;overflow: hidden;padding: 0;position: absolute;width: 1px;}#sk-container-id-2 div.sk-estimator {font-family: monospace;background-color: #f0f8ff;border: 1px dotted black;border-radius: 0.25em;box-sizing: border-box;margin-bottom: 0.5em;}#sk-container-id-2 div.sk-estimator:hover {background-color: #d4ebff;}#sk-container-id-2 div.sk-parallel-item::after {content: \"\";width: 100%;border-bottom: 1px solid gray;flex-grow: 1;}#sk-container-id-2 div.sk-label:hover label.sk-toggleable__label {background-color: #d4ebff;}#sk-container-id-2 div.sk-serial::before {content: \"\";position: absolute;border-left: 1px solid gray;box-sizing: border-box;top: 0;bottom: 0;left: 50%;z-index: 0;}#sk-container-id-2 div.sk-serial {display: flex;flex-direction: column;align-items: center;background-color: white;padding-right: 0.2em;padding-left: 0.2em;position: relative;}#sk-container-id-2 div.sk-item {position: relative;z-index: 1;}#sk-container-id-2 div.sk-parallel {display: flex;align-items: stretch;justify-content: center;background-color: white;position: relative;}#sk-container-id-2 div.sk-item::before, #sk-container-id-2 div.sk-parallel-item::before {content: \"\";position: absolute;border-left: 1px solid gray;box-sizing: border-box;top: 0;bottom: 0;left: 50%;z-index: -1;}#sk-container-id-2 div.sk-parallel-item {display: flex;flex-direction: column;z-index: 1;position: relative;background-color: white;}#sk-container-id-2 div.sk-parallel-item:first-child::after {align-self: flex-end;width: 50%;}#sk-container-id-2 div.sk-parallel-item:last-child::after {align-self: flex-start;width: 50%;}#sk-container-id-2 div.sk-parallel-item:only-child::after {width: 0;}#sk-container-id-2 div.sk-dashed-wrapped {border: 1px dashed gray;margin: 0 0.4em 0.5em 0.4em;box-sizing: border-box;padding-bottom: 0.4em;background-color: white;}#sk-container-id-2 div.sk-label label {font-family: monospace;font-weight: bold;display: inline-block;line-height: 1.2em;}#sk-container-id-2 div.sk-label-container {text-align: center;}#sk-container-id-2 div.sk-container {/* jupyter's `normalize.less` sets `[hidden] { display: none; }` but bootstrap.min.css set `[hidden] { display: none !important; }` so we also need the `!important` here to be able to override the default hidden behavior on the sphinx rendered scikit-learn.org. See: https://github.com/scikit-learn/scikit-learn/issues/21755 */display: inline-block !important;position: relative;}#sk-container-id-2 div.sk-text-repr-fallback {display: none;}</style><div id=\"sk-container-id-2\" class=\"sk-top-container\"><div class=\"sk-text-repr-fallback\"><pre>Pipeline(steps=[(&#x27;sc&#x27;, StandardScaler()), (&#x27;lr&#x27;, LinearRegression())])</pre><b>In a Jupyter environment, please rerun this cell to show the HTML representation or trust the notebook. <br />On GitHub, the HTML representation is unable to render, please try loading this page with nbviewer.org.</b></div><div class=\"sk-container\" hidden><div class=\"sk-item sk-dashed-wrapped\"><div class=\"sk-label-container\"><div class=\"sk-label sk-toggleable\"><input class=\"sk-toggleable__control sk-hidden--visually\" id=\"sk-estimator-id-5\" type=\"checkbox\" ><label for=\"sk-estimator-id-5\" class=\"sk-toggleable__label sk-toggleable__label-arrow\">Pipeline</label><div class=\"sk-toggleable__content\"><pre>Pipeline(steps=[(&#x27;sc&#x27;, StandardScaler()), (&#x27;lr&#x27;, LinearRegression())])</pre></div></div></div><div class=\"sk-serial\"><div class=\"sk-item\"><div class=\"sk-estimator sk-toggleable\"><input class=\"sk-toggleable__control sk-hidden--visually\" id=\"sk-estimator-id-6\" type=\"checkbox\" ><label for=\"sk-estimator-id-6\" class=\"sk-toggleable__label sk-toggleable__label-arrow\">StandardScaler</label><div class=\"sk-toggleable__content\"><pre>StandardScaler()</pre></div></div></div><div class=\"sk-item\"><div class=\"sk-estimator sk-toggleable\"><input class=\"sk-toggleable__control sk-hidden--visually\" id=\"sk-estimator-id-7\" type=\"checkbox\" ><label for=\"sk-estimator-id-7\" class=\"sk-toggleable__label sk-toggleable__label-arrow\">LinearRegression</label><div class=\"sk-toggleable__content\"><pre>LinearRegression()</pre></div></div></div></div></div></div></div>"
      ],
      "text/plain": [
       "Pipeline(steps=[('sc', StandardScaler()), ('lr', LinearRegression())])"
      ]
     },
     "execution_count": 14,
     "metadata": {},
     "output_type": "execute_result"
    }
   ],
   "source": [
    "# creates a pipline to scale features and fit a linear regression\n",
    "ss_pipe = Pipeline([\n",
    "        ('sc', StandardScaler()),\n",
    "        ('lr', LinearRegression())\n",
    "    ])\n",
    "    \n",
    "ss_pipe.fit(X_train, y_train)"
   ]
  },
  {
   "cell_type": "code",
   "execution_count": 15,
   "id": "95143471-978d-4b54-9c4a-498623cd8945",
   "metadata": {
    "tags": []
   },
   "outputs": [
    {
     "name": "stdout",
     "output_type": "stream",
     "text": [
      "Cross-Validation Score: -2.5654403002891895e+20\n",
      "Cross-Validation Score: [-7.32211246e+16 -8.47907477e+16 -1.22837665e+21 -1.58663518e+18\n",
      " -5.25988493e+19]\n",
      "Training Score: 0.9468961977986194\n",
      "Test Score: -3.415939454822445e+21\n"
     ]
    }
   ],
   "source": [
    "# print cross-validation and R2 scores for multi-linear regression with all dataset features  \n",
    "print(f'Cross-Validation Score: {cross_val_score(ss_pipe, X_train, y_train).mean()}')\n",
    "print(f'Cross-Validation Score: {cross_val_score(ss_pipe, X_train, y_train)}')\n",
    "print(f'Training Score: {ss_pipe.score(X_train, y_train)}')\n",
    "print(f'Test Score: {ss_pipe.score(X_test, y_test)}')"
   ]
  },
  {
   "cell_type": "markdown",
   "id": "cda575d5-8ee8-42b1-b33a-f7f0530d24bf",
   "metadata": {},
   "source": [
    "As we can see on the training score of approximately 0.95 in comparison to both the cross-validation score and test score with deeply negative values, this model is severely overfit, far more overfit than even my polynomial features model. I will now use a Ridge regularlization method on this linear regression to correct the overfit."
   ]
  },
  {
   "cell_type": "markdown",
   "id": "5664d71f-da1c-4cf4-ab52-26c981a1a728",
   "metadata": {},
   "source": [
    "---\n",
    "\n",
    "## Ridge Regularization\n",
    "\n",
    "The following Ridge regularization works off my overfit multi-linear regression model above. The goal is to begin to get a better fit model and determine which variables can be eliminated from examination altogether when drafting an initial preliminary model."
   ]
  },
  {
   "cell_type": "code",
   "execution_count": 16,
   "id": "deab9d07-6fa3-4324-80f5-f4c8753bb7b8",
   "metadata": {
    "tags": []
   },
   "outputs": [
    {
     "data": {
      "text/html": [
       "<style>#sk-container-id-3 {color: black;background-color: white;}#sk-container-id-3 pre{padding: 0;}#sk-container-id-3 div.sk-toggleable {background-color: white;}#sk-container-id-3 label.sk-toggleable__label {cursor: pointer;display: block;width: 100%;margin-bottom: 0;padding: 0.3em;box-sizing: border-box;text-align: center;}#sk-container-id-3 label.sk-toggleable__label-arrow:before {content: \"▸\";float: left;margin-right: 0.25em;color: #696969;}#sk-container-id-3 label.sk-toggleable__label-arrow:hover:before {color: black;}#sk-container-id-3 div.sk-estimator:hover label.sk-toggleable__label-arrow:before {color: black;}#sk-container-id-3 div.sk-toggleable__content {max-height: 0;max-width: 0;overflow: hidden;text-align: left;background-color: #f0f8ff;}#sk-container-id-3 div.sk-toggleable__content pre {margin: 0.2em;color: black;border-radius: 0.25em;background-color: #f0f8ff;}#sk-container-id-3 input.sk-toggleable__control:checked~div.sk-toggleable__content {max-height: 200px;max-width: 100%;overflow: auto;}#sk-container-id-3 input.sk-toggleable__control:checked~label.sk-toggleable__label-arrow:before {content: \"▾\";}#sk-container-id-3 div.sk-estimator input.sk-toggleable__control:checked~label.sk-toggleable__label {background-color: #d4ebff;}#sk-container-id-3 div.sk-label input.sk-toggleable__control:checked~label.sk-toggleable__label {background-color: #d4ebff;}#sk-container-id-3 input.sk-hidden--visually {border: 0;clip: rect(1px 1px 1px 1px);clip: rect(1px, 1px, 1px, 1px);height: 1px;margin: -1px;overflow: hidden;padding: 0;position: absolute;width: 1px;}#sk-container-id-3 div.sk-estimator {font-family: monospace;background-color: #f0f8ff;border: 1px dotted black;border-radius: 0.25em;box-sizing: border-box;margin-bottom: 0.5em;}#sk-container-id-3 div.sk-estimator:hover {background-color: #d4ebff;}#sk-container-id-3 div.sk-parallel-item::after {content: \"\";width: 100%;border-bottom: 1px solid gray;flex-grow: 1;}#sk-container-id-3 div.sk-label:hover label.sk-toggleable__label {background-color: #d4ebff;}#sk-container-id-3 div.sk-serial::before {content: \"\";position: absolute;border-left: 1px solid gray;box-sizing: border-box;top: 0;bottom: 0;left: 50%;z-index: 0;}#sk-container-id-3 div.sk-serial {display: flex;flex-direction: column;align-items: center;background-color: white;padding-right: 0.2em;padding-left: 0.2em;position: relative;}#sk-container-id-3 div.sk-item {position: relative;z-index: 1;}#sk-container-id-3 div.sk-parallel {display: flex;align-items: stretch;justify-content: center;background-color: white;position: relative;}#sk-container-id-3 div.sk-item::before, #sk-container-id-3 div.sk-parallel-item::before {content: \"\";position: absolute;border-left: 1px solid gray;box-sizing: border-box;top: 0;bottom: 0;left: 50%;z-index: -1;}#sk-container-id-3 div.sk-parallel-item {display: flex;flex-direction: column;z-index: 1;position: relative;background-color: white;}#sk-container-id-3 div.sk-parallel-item:first-child::after {align-self: flex-end;width: 50%;}#sk-container-id-3 div.sk-parallel-item:last-child::after {align-self: flex-start;width: 50%;}#sk-container-id-3 div.sk-parallel-item:only-child::after {width: 0;}#sk-container-id-3 div.sk-dashed-wrapped {border: 1px dashed gray;margin: 0 0.4em 0.5em 0.4em;box-sizing: border-box;padding-bottom: 0.4em;background-color: white;}#sk-container-id-3 div.sk-label label {font-family: monospace;font-weight: bold;display: inline-block;line-height: 1.2em;}#sk-container-id-3 div.sk-label-container {text-align: center;}#sk-container-id-3 div.sk-container {/* jupyter's `normalize.less` sets `[hidden] { display: none; }` but bootstrap.min.css set `[hidden] { display: none !important; }` so we also need the `!important` here to be able to override the default hidden behavior on the sphinx rendered scikit-learn.org. See: https://github.com/scikit-learn/scikit-learn/issues/21755 */display: inline-block !important;position: relative;}#sk-container-id-3 div.sk-text-repr-fallback {display: none;}</style><div id=\"sk-container-id-3\" class=\"sk-top-container\"><div class=\"sk-text-repr-fallback\"><pre>Pipeline(steps=[(&#x27;sc&#x27;, StandardScaler()), (&#x27;ridge&#x27;, Ridge())])</pre><b>In a Jupyter environment, please rerun this cell to show the HTML representation or trust the notebook. <br />On GitHub, the HTML representation is unable to render, please try loading this page with nbviewer.org.</b></div><div class=\"sk-container\" hidden><div class=\"sk-item sk-dashed-wrapped\"><div class=\"sk-label-container\"><div class=\"sk-label sk-toggleable\"><input class=\"sk-toggleable__control sk-hidden--visually\" id=\"sk-estimator-id-8\" type=\"checkbox\" ><label for=\"sk-estimator-id-8\" class=\"sk-toggleable__label sk-toggleable__label-arrow\">Pipeline</label><div class=\"sk-toggleable__content\"><pre>Pipeline(steps=[(&#x27;sc&#x27;, StandardScaler()), (&#x27;ridge&#x27;, Ridge())])</pre></div></div></div><div class=\"sk-serial\"><div class=\"sk-item\"><div class=\"sk-estimator sk-toggleable\"><input class=\"sk-toggleable__control sk-hidden--visually\" id=\"sk-estimator-id-9\" type=\"checkbox\" ><label for=\"sk-estimator-id-9\" class=\"sk-toggleable__label sk-toggleable__label-arrow\">StandardScaler</label><div class=\"sk-toggleable__content\"><pre>StandardScaler()</pre></div></div></div><div class=\"sk-item\"><div class=\"sk-estimator sk-toggleable\"><input class=\"sk-toggleable__control sk-hidden--visually\" id=\"sk-estimator-id-10\" type=\"checkbox\" ><label for=\"sk-estimator-id-10\" class=\"sk-toggleable__label sk-toggleable__label-arrow\">Ridge</label><div class=\"sk-toggleable__content\"><pre>Ridge()</pre></div></div></div></div></div></div></div>"
      ],
      "text/plain": [
       "Pipeline(steps=[('sc', StandardScaler()), ('ridge', Ridge())])"
      ]
     },
     "execution_count": 16,
     "metadata": {},
     "output_type": "execute_result"
    }
   ],
   "source": [
    "# creates a pipline to scale features and fit a Ridge regularization\n",
    "ridge_pipe = Pipeline([\n",
    "        ('sc', StandardScaler()),\n",
    "        ('ridge', Ridge())\n",
    "    ])\n",
    "\n",
    "ridge_pipe.fit(X_train, y_train)"
   ]
  },
  {
   "cell_type": "code",
   "execution_count": 17,
   "id": "0fa40617-dd1e-4dd1-be00-bcf9a7a09da4",
   "metadata": {
    "tags": []
   },
   "outputs": [
    {
     "name": "stdout",
     "output_type": "stream",
     "text": [
      "Cross-Validation Score: 0.6982081012488933\n",
      "Cross-Validation Scores: [0.92351214 0.64698993 0.59686821 0.78978617 0.53388406]\n",
      "Ridge Training Score: 0.9461734026859759\n",
      "Ridge Test Score: 0.9146628419162716\n"
     ]
    }
   ],
   "source": [
    "# print cross-validation and R2 scores for Ridge regularization with all dataset features  \n",
    "print(f'Cross-Validation Score: {cross_val_score(ridge_pipe, X_train, y_train).mean()}')\n",
    "print(f'Cross-Validation Scores: {cross_val_score(ridge_pipe, X_train, y_train)}')\n",
    "print(f'Ridge Training Score: {ridge_pipe.score(X_train, y_train)}')\n",
    "print(f'Ridge Test Score: {ridge_pipe.score(X_test, y_test)}')"
   ]
  },
  {
   "cell_type": "markdown",
   "id": "4f3274fa-d891-4681-bbad-4836608ebff4",
   "metadata": {},
   "source": [
    "Already just using a Ridge alpha of 1.0 as the default, we can see that the test score has improved dramatically from a negative number to approximately 0.91. The default alpha value has already created a model with much better predictive power than the previous scaled model of polynomial features. The cross-validation score though is stil lower at about 0.70, far removed from the training score of 0.95, so this model still has a high degree of variance. That means that this is likely not an ideal value for alpha. I will now use the Ridge cross-validation method to check multiple values of alpha to optimize the model."
   ]
  },
  {
   "cell_type": "code",
   "execution_count": 18,
   "id": "9a318a9a-7abc-4a5c-a8ab-01330c9ae07a",
   "metadata": {
    "tags": []
   },
   "outputs": [
    {
     "data": {
      "text/html": [
       "<style>#sk-container-id-4 {color: black;background-color: white;}#sk-container-id-4 pre{padding: 0;}#sk-container-id-4 div.sk-toggleable {background-color: white;}#sk-container-id-4 label.sk-toggleable__label {cursor: pointer;display: block;width: 100%;margin-bottom: 0;padding: 0.3em;box-sizing: border-box;text-align: center;}#sk-container-id-4 label.sk-toggleable__label-arrow:before {content: \"▸\";float: left;margin-right: 0.25em;color: #696969;}#sk-container-id-4 label.sk-toggleable__label-arrow:hover:before {color: black;}#sk-container-id-4 div.sk-estimator:hover label.sk-toggleable__label-arrow:before {color: black;}#sk-container-id-4 div.sk-toggleable__content {max-height: 0;max-width: 0;overflow: hidden;text-align: left;background-color: #f0f8ff;}#sk-container-id-4 div.sk-toggleable__content pre {margin: 0.2em;color: black;border-radius: 0.25em;background-color: #f0f8ff;}#sk-container-id-4 input.sk-toggleable__control:checked~div.sk-toggleable__content {max-height: 200px;max-width: 100%;overflow: auto;}#sk-container-id-4 input.sk-toggleable__control:checked~label.sk-toggleable__label-arrow:before {content: \"▾\";}#sk-container-id-4 div.sk-estimator input.sk-toggleable__control:checked~label.sk-toggleable__label {background-color: #d4ebff;}#sk-container-id-4 div.sk-label input.sk-toggleable__control:checked~label.sk-toggleable__label {background-color: #d4ebff;}#sk-container-id-4 input.sk-hidden--visually {border: 0;clip: rect(1px 1px 1px 1px);clip: rect(1px, 1px, 1px, 1px);height: 1px;margin: -1px;overflow: hidden;padding: 0;position: absolute;width: 1px;}#sk-container-id-4 div.sk-estimator {font-family: monospace;background-color: #f0f8ff;border: 1px dotted black;border-radius: 0.25em;box-sizing: border-box;margin-bottom: 0.5em;}#sk-container-id-4 div.sk-estimator:hover {background-color: #d4ebff;}#sk-container-id-4 div.sk-parallel-item::after {content: \"\";width: 100%;border-bottom: 1px solid gray;flex-grow: 1;}#sk-container-id-4 div.sk-label:hover label.sk-toggleable__label {background-color: #d4ebff;}#sk-container-id-4 div.sk-serial::before {content: \"\";position: absolute;border-left: 1px solid gray;box-sizing: border-box;top: 0;bottom: 0;left: 50%;z-index: 0;}#sk-container-id-4 div.sk-serial {display: flex;flex-direction: column;align-items: center;background-color: white;padding-right: 0.2em;padding-left: 0.2em;position: relative;}#sk-container-id-4 div.sk-item {position: relative;z-index: 1;}#sk-container-id-4 div.sk-parallel {display: flex;align-items: stretch;justify-content: center;background-color: white;position: relative;}#sk-container-id-4 div.sk-item::before, #sk-container-id-4 div.sk-parallel-item::before {content: \"\";position: absolute;border-left: 1px solid gray;box-sizing: border-box;top: 0;bottom: 0;left: 50%;z-index: -1;}#sk-container-id-4 div.sk-parallel-item {display: flex;flex-direction: column;z-index: 1;position: relative;background-color: white;}#sk-container-id-4 div.sk-parallel-item:first-child::after {align-self: flex-end;width: 50%;}#sk-container-id-4 div.sk-parallel-item:last-child::after {align-self: flex-start;width: 50%;}#sk-container-id-4 div.sk-parallel-item:only-child::after {width: 0;}#sk-container-id-4 div.sk-dashed-wrapped {border: 1px dashed gray;margin: 0 0.4em 0.5em 0.4em;box-sizing: border-box;padding-bottom: 0.4em;background-color: white;}#sk-container-id-4 div.sk-label label {font-family: monospace;font-weight: bold;display: inline-block;line-height: 1.2em;}#sk-container-id-4 div.sk-label-container {text-align: center;}#sk-container-id-4 div.sk-container {/* jupyter's `normalize.less` sets `[hidden] { display: none; }` but bootstrap.min.css set `[hidden] { display: none !important; }` so we also need the `!important` here to be able to override the default hidden behavior on the sphinx rendered scikit-learn.org. See: https://github.com/scikit-learn/scikit-learn/issues/21755 */display: inline-block !important;position: relative;}#sk-container-id-4 div.sk-text-repr-fallback {display: none;}</style><div id=\"sk-container-id-4\" class=\"sk-top-container\"><div class=\"sk-text-repr-fallback\"><pre>Pipeline(steps=[(&#x27;sc&#x27;, StandardScaler()),\n",
       "                (&#x27;ridge_cv&#x27;,\n",
       "                 RidgeCV(alphas=array([1.00000000e+00, 1.12332403e+00, 1.26185688e+00, 1.41747416e+00,\n",
       "       1.59228279e+00, 1.78864953e+00, 2.00923300e+00, 2.25701972e+00,\n",
       "       2.53536449e+00, 2.84803587e+00, 3.19926714e+00, 3.59381366e+00,\n",
       "       4.03701726e+00, 4.53487851e+00, 5.09413801e+00, 5.72236766e+00,\n",
       "       6.42807312e+00, 7.22080902e+00, 8.1113...\n",
       "       6.89261210e+03, 7.74263683e+03, 8.69749003e+03, 9.77009957e+03,\n",
       "       1.09749877e+04, 1.23284674e+04, 1.38488637e+04, 1.55567614e+04,\n",
       "       1.74752840e+04, 1.96304065e+04, 2.20513074e+04, 2.47707636e+04,\n",
       "       2.78255940e+04, 3.12571585e+04, 3.51119173e+04, 3.94420606e+04,\n",
       "       4.43062146e+04, 4.97702356e+04, 5.59081018e+04, 6.28029144e+04,\n",
       "       7.05480231e+04, 7.92482898e+04, 8.90215085e+04, 1.00000000e+05]),\n",
       "                         cv=5))])</pre><b>In a Jupyter environment, please rerun this cell to show the HTML representation or trust the notebook. <br />On GitHub, the HTML representation is unable to render, please try loading this page with nbviewer.org.</b></div><div class=\"sk-container\" hidden><div class=\"sk-item sk-dashed-wrapped\"><div class=\"sk-label-container\"><div class=\"sk-label sk-toggleable\"><input class=\"sk-toggleable__control sk-hidden--visually\" id=\"sk-estimator-id-11\" type=\"checkbox\" ><label for=\"sk-estimator-id-11\" class=\"sk-toggleable__label sk-toggleable__label-arrow\">Pipeline</label><div class=\"sk-toggleable__content\"><pre>Pipeline(steps=[(&#x27;sc&#x27;, StandardScaler()),\n",
       "                (&#x27;ridge_cv&#x27;,\n",
       "                 RidgeCV(alphas=array([1.00000000e+00, 1.12332403e+00, 1.26185688e+00, 1.41747416e+00,\n",
       "       1.59228279e+00, 1.78864953e+00, 2.00923300e+00, 2.25701972e+00,\n",
       "       2.53536449e+00, 2.84803587e+00, 3.19926714e+00, 3.59381366e+00,\n",
       "       4.03701726e+00, 4.53487851e+00, 5.09413801e+00, 5.72236766e+00,\n",
       "       6.42807312e+00, 7.22080902e+00, 8.1113...\n",
       "       6.89261210e+03, 7.74263683e+03, 8.69749003e+03, 9.77009957e+03,\n",
       "       1.09749877e+04, 1.23284674e+04, 1.38488637e+04, 1.55567614e+04,\n",
       "       1.74752840e+04, 1.96304065e+04, 2.20513074e+04, 2.47707636e+04,\n",
       "       2.78255940e+04, 3.12571585e+04, 3.51119173e+04, 3.94420606e+04,\n",
       "       4.43062146e+04, 4.97702356e+04, 5.59081018e+04, 6.28029144e+04,\n",
       "       7.05480231e+04, 7.92482898e+04, 8.90215085e+04, 1.00000000e+05]),\n",
       "                         cv=5))])</pre></div></div></div><div class=\"sk-serial\"><div class=\"sk-item\"><div class=\"sk-estimator sk-toggleable\"><input class=\"sk-toggleable__control sk-hidden--visually\" id=\"sk-estimator-id-12\" type=\"checkbox\" ><label for=\"sk-estimator-id-12\" class=\"sk-toggleable__label sk-toggleable__label-arrow\">StandardScaler</label><div class=\"sk-toggleable__content\"><pre>StandardScaler()</pre></div></div></div><div class=\"sk-item\"><div class=\"sk-estimator sk-toggleable\"><input class=\"sk-toggleable__control sk-hidden--visually\" id=\"sk-estimator-id-13\" type=\"checkbox\" ><label for=\"sk-estimator-id-13\" class=\"sk-toggleable__label sk-toggleable__label-arrow\">RidgeCV</label><div class=\"sk-toggleable__content\"><pre>RidgeCV(alphas=array([1.00000000e+00, 1.12332403e+00, 1.26185688e+00, 1.41747416e+00,\n",
       "       1.59228279e+00, 1.78864953e+00, 2.00923300e+00, 2.25701972e+00,\n",
       "       2.53536449e+00, 2.84803587e+00, 3.19926714e+00, 3.59381366e+00,\n",
       "       4.03701726e+00, 4.53487851e+00, 5.09413801e+00, 5.72236766e+00,\n",
       "       6.42807312e+00, 7.22080902e+00, 8.11130831e+00, 9.11162756e+00,\n",
       "       1.02353102e+01, 1.14975700e+0...\n",
       "       6.89261210e+03, 7.74263683e+03, 8.69749003e+03, 9.77009957e+03,\n",
       "       1.09749877e+04, 1.23284674e+04, 1.38488637e+04, 1.55567614e+04,\n",
       "       1.74752840e+04, 1.96304065e+04, 2.20513074e+04, 2.47707636e+04,\n",
       "       2.78255940e+04, 3.12571585e+04, 3.51119173e+04, 3.94420606e+04,\n",
       "       4.43062146e+04, 4.97702356e+04, 5.59081018e+04, 6.28029144e+04,\n",
       "       7.05480231e+04, 7.92482898e+04, 8.90215085e+04, 1.00000000e+05]),\n",
       "        cv=5)</pre></div></div></div></div></div></div></div>"
      ],
      "text/plain": [
       "Pipeline(steps=[('sc', StandardScaler()),\n",
       "                ('ridge_cv',\n",
       "                 RidgeCV(alphas=array([1.00000000e+00, 1.12332403e+00, 1.26185688e+00, 1.41747416e+00,\n",
       "       1.59228279e+00, 1.78864953e+00, 2.00923300e+00, 2.25701972e+00,\n",
       "       2.53536449e+00, 2.84803587e+00, 3.19926714e+00, 3.59381366e+00,\n",
       "       4.03701726e+00, 4.53487851e+00, 5.09413801e+00, 5.72236766e+00,\n",
       "       6.42807312e+00, 7.22080902e+00, 8.1113...\n",
       "       6.89261210e+03, 7.74263683e+03, 8.69749003e+03, 9.77009957e+03,\n",
       "       1.09749877e+04, 1.23284674e+04, 1.38488637e+04, 1.55567614e+04,\n",
       "       1.74752840e+04, 1.96304065e+04, 2.20513074e+04, 2.47707636e+04,\n",
       "       2.78255940e+04, 3.12571585e+04, 3.51119173e+04, 3.94420606e+04,\n",
       "       4.43062146e+04, 4.97702356e+04, 5.59081018e+04, 6.28029144e+04,\n",
       "       7.05480231e+04, 7.92482898e+04, 8.90215085e+04, 1.00000000e+05]),\n",
       "                         cv=5))])"
      ]
     },
     "execution_count": 18,
     "metadata": {},
     "output_type": "execute_result"
    }
   ],
   "source": [
    "# creates an array of 100 alpha values to test, scales features, and then runs cross-validation for optimal alpha\n",
    "alphas = np.logspace(0, 5, 100)\n",
    "\n",
    "ridge_cv_pipe = Pipeline([\n",
    "        ('sc', StandardScaler()),\n",
    "        ('ridge_cv', RidgeCV(alphas = alphas, cv = 5))\n",
    "    ])\n",
    "\n",
    "ridge_cv_pipe.fit(X_train, y_train)"
   ]
  },
  {
   "cell_type": "code",
   "execution_count": 19,
   "id": "28b48fba-2163-4895-ae61-7bd59e113605",
   "metadata": {
    "tags": []
   },
   "outputs": [
    {
     "name": "stdout",
     "output_type": "stream",
     "text": [
      "Ridge Optimal Alpha: 599.4842503189409\n",
      "Ridge Best Score: 0.8389597241618055\n"
     ]
    }
   ],
   "source": [
    "# prints optimal alpha and cross-validation score\n",
    "print(f\"Ridge Optimal Alpha: {ridge_cv_pipe['ridge_cv'].alpha_}\")\n",
    "print(f\"Ridge Best Score: {ridge_cv_pipe['ridge_cv'].best_score_}\")"
   ]
  },
  {
   "cell_type": "code",
   "execution_count": 20,
   "id": "4841a562-18d3-43b8-ab04-ffa9d345d7d9",
   "metadata": {
    "tags": []
   },
   "outputs": [
    {
     "name": "stdout",
     "output_type": "stream",
     "text": [
      "Ridge Optimal Alpha Training Score: 0.9038950228984197\n",
      "Ridge Optimal Alpha Test Score: 0.8897218904154145\n"
     ]
    }
   ],
   "source": [
    "# print optimal alpha training and test scores\n",
    "print(f'Ridge Optimal Alpha Training Score: {ridge_cv_pipe.score(X_train, y_train)}')\n",
    "print(f'Ridge Optimal Alpha Test Score: {ridge_cv_pipe.score(X_test, y_test)}')"
   ]
  },
  {
   "cell_type": "markdown",
   "id": "fb0f8ccd-078d-4cf0-9b6a-9a0b6b3c658d",
   "metadata": {},
   "source": [
    "First, this optimal alpha vaue of approximately 599, has a best cross-validation score of ~0.84 with training and test scores at 0.90 and 0.89, respectively. This means that with the Ridge regularization, the model is a much better fit. It is still slightly overfit since the cross-validation score is somewhat removed our training score.\n",
    "\n",
    "Now, I will look at the strong positive and negative correlation coefficients to establish any patterns for model tuning."
   ]
  },
  {
   "cell_type": "code",
   "execution_count": 21,
   "id": "68c1808e-55db-4e02-8631-e951c4cca737",
   "metadata": {
    "tags": []
   },
   "outputs": [
    {
     "data": {
      "text/plain": [
       "Overall Qual            8499.681380\n",
       "Gr Liv Area             6544.143495\n",
       "Neighborhood_NridgHt    6530.237833\n",
       "Neighborhood_StoneBr    5317.875231\n",
       "1st Flr SF              4843.047085\n",
       "                           ...     \n",
       "Kitchen Qual_Gd        -3277.845387\n",
       "Bsmt Qual_Gd           -3601.363348\n",
       "Exter Qual_TA          -4030.414578\n",
       "Kitchen Qual_TA        -4070.545863\n",
       "Misc Val               -5569.128251\n",
       "Length: 285, dtype: float64"
      ]
     },
     "execution_count": 21,
     "metadata": {},
     "output_type": "execute_result"
    }
   ],
   "source": [
    "# saves the coefficients as a series\n",
    "ridge_cv_coefs = pd.Series(ridge_cv_pipe['ridge_cv'].coef_, \n",
    "                           index = ridge_cv_pipe[:-1]\\\n",
    "                           .get_feature_names_out()\n",
    "                          ).sort_values(ascending = False)\n",
    "\n",
    "ridge_cv_coefs"
   ]
  },
  {
   "cell_type": "code",
   "execution_count": 22,
   "id": "d70bf50a-7fb0-4f58-914b-e12dca7f6c45",
   "metadata": {
    "tags": []
   },
   "outputs": [
    {
     "data": {
      "text/plain": [
       "Overall Qual            8499.681380\n",
       "Gr Liv Area             6544.143495\n",
       "Neighborhood_NridgHt    6530.237833\n",
       "Neighborhood_StoneBr    5317.875231\n",
       "1st Flr SF              4843.047085\n",
       "dtype: float64"
      ]
     },
     "execution_count": 22,
     "metadata": {},
     "output_type": "execute_result"
    }
   ],
   "source": [
    "# sorts 5 largest magnitude positive coefficients\n",
    "ridge_cv_coefs.sort_values(ascending = False).head(5)"
   ]
  },
  {
   "cell_type": "code",
   "execution_count": 23,
   "id": "3c2f2094-73fb-4923-b88d-6287c55d40b3",
   "metadata": {
    "tags": []
   },
   "outputs": [
    {
     "data": {
      "text/plain": [
       "Misc Val          -5569.128251\n",
       "Kitchen Qual_TA   -4070.545863\n",
       "Exter Qual_TA     -4030.414578\n",
       "Bsmt Qual_Gd      -3601.363348\n",
       "Kitchen Qual_Gd   -3277.845387\n",
       "dtype: float64"
      ]
     },
     "execution_count": 23,
     "metadata": {},
     "output_type": "execute_result"
    }
   ],
   "source": [
    "# sorts 5 largest magnitude negative coefficients\n",
    "ridge_cv_coefs.sort_values().head(5)"
   ]
  },
  {
   "cell_type": "code",
   "execution_count": 24,
   "id": "bc57a0f8-d26e-4224-b755-612e22cd0b4b",
   "metadata": {
    "tags": []
   },
   "outputs": [
    {
     "data": {
      "text/plain": [
       "Utilities_NoSewr     0.0\n",
       "Condition 2_RRAe     0.0\n",
       "MS Zoning_I (all)    0.0\n",
       "Utilities_NoSeWa     0.0\n",
       "dtype: float64"
      ]
     },
     "execution_count": 24,
     "metadata": {},
     "output_type": "execute_result"
    }
   ],
   "source": [
    "# sorts coefficients equal to zero after Ridge\n",
    "ridge_cv_coefs[ridge_cv_coefs == 0]"
   ]
  },
  {
   "cell_type": "markdown",
   "id": "baa571f4-d124-44c2-a12d-2a3a288a8642",
   "metadata": {},
   "source": [
    "Upon inspecting the correlation coefficients, I am noticing some common patterns from my exploratory data analysis. First, a lot of the same numerical features from my EDA have strong correlation coefficients with the sale price, namely overal quality, above ground living area, 1st floor square footage, masonry veneer area, and total basement square footage. I can also see that some of the neighorhoods noted in the polynomials features with a recurring patter, including Northridge Heights and Northridge show up with strong positive correlation coefficients. Regarding negative correlations, virtually all of the strongest negative correlations have to do with typical or average quality in the condition of parts of the home, including kitchen, basement, and exterior. Lastly, the Ridge regularization has selected out only four features listed above.\n",
    "\n",
    "Next, I will run a LASSO regularization model to see if it is a better fit than the Ridge regularalization and if possible, I will also eliminate as many coefficients as possible."
   ]
  },
  {
   "cell_type": "markdown",
   "id": "d060aa1d-866d-4236-9dff-f64917fc70a7",
   "metadata": {},
   "source": [
    "---\n",
    "\n",
    "## LASSO Regularization\n",
    "\n",
    "In this section, I will begin once again with the same features from the overfit multi-linear regression model and fit and cross-validate a LASSO regularization. By the end of this section, I should have generated a list of features which zero out after cross-validation and drop them from my preliminary model for tuning in the next notebook."
   ]
  },
  {
   "cell_type": "code",
   "execution_count": 25,
   "id": "637958c2-1f3d-4851-8015-6655903248d9",
   "metadata": {
    "tags": []
   },
   "outputs": [],
   "source": [
    "# import warnings to ignore warning in LASSO Pipeline\n",
    "import warnings\n",
    "\n",
    "warnings.filterwarnings('ignore')"
   ]
  },
  {
   "cell_type": "code",
   "execution_count": 26,
   "id": "5f5f121f-9571-4e75-acdf-bc62d03a4176",
   "metadata": {
    "tags": []
   },
   "outputs": [
    {
     "data": {
      "text/html": [
       "<style>#sk-container-id-5 {color: black;background-color: white;}#sk-container-id-5 pre{padding: 0;}#sk-container-id-5 div.sk-toggleable {background-color: white;}#sk-container-id-5 label.sk-toggleable__label {cursor: pointer;display: block;width: 100%;margin-bottom: 0;padding: 0.3em;box-sizing: border-box;text-align: center;}#sk-container-id-5 label.sk-toggleable__label-arrow:before {content: \"▸\";float: left;margin-right: 0.25em;color: #696969;}#sk-container-id-5 label.sk-toggleable__label-arrow:hover:before {color: black;}#sk-container-id-5 div.sk-estimator:hover label.sk-toggleable__label-arrow:before {color: black;}#sk-container-id-5 div.sk-toggleable__content {max-height: 0;max-width: 0;overflow: hidden;text-align: left;background-color: #f0f8ff;}#sk-container-id-5 div.sk-toggleable__content pre {margin: 0.2em;color: black;border-radius: 0.25em;background-color: #f0f8ff;}#sk-container-id-5 input.sk-toggleable__control:checked~div.sk-toggleable__content {max-height: 200px;max-width: 100%;overflow: auto;}#sk-container-id-5 input.sk-toggleable__control:checked~label.sk-toggleable__label-arrow:before {content: \"▾\";}#sk-container-id-5 div.sk-estimator input.sk-toggleable__control:checked~label.sk-toggleable__label {background-color: #d4ebff;}#sk-container-id-5 div.sk-label input.sk-toggleable__control:checked~label.sk-toggleable__label {background-color: #d4ebff;}#sk-container-id-5 input.sk-hidden--visually {border: 0;clip: rect(1px 1px 1px 1px);clip: rect(1px, 1px, 1px, 1px);height: 1px;margin: -1px;overflow: hidden;padding: 0;position: absolute;width: 1px;}#sk-container-id-5 div.sk-estimator {font-family: monospace;background-color: #f0f8ff;border: 1px dotted black;border-radius: 0.25em;box-sizing: border-box;margin-bottom: 0.5em;}#sk-container-id-5 div.sk-estimator:hover {background-color: #d4ebff;}#sk-container-id-5 div.sk-parallel-item::after {content: \"\";width: 100%;border-bottom: 1px solid gray;flex-grow: 1;}#sk-container-id-5 div.sk-label:hover label.sk-toggleable__label {background-color: #d4ebff;}#sk-container-id-5 div.sk-serial::before {content: \"\";position: absolute;border-left: 1px solid gray;box-sizing: border-box;top: 0;bottom: 0;left: 50%;z-index: 0;}#sk-container-id-5 div.sk-serial {display: flex;flex-direction: column;align-items: center;background-color: white;padding-right: 0.2em;padding-left: 0.2em;position: relative;}#sk-container-id-5 div.sk-item {position: relative;z-index: 1;}#sk-container-id-5 div.sk-parallel {display: flex;align-items: stretch;justify-content: center;background-color: white;position: relative;}#sk-container-id-5 div.sk-item::before, #sk-container-id-5 div.sk-parallel-item::before {content: \"\";position: absolute;border-left: 1px solid gray;box-sizing: border-box;top: 0;bottom: 0;left: 50%;z-index: -1;}#sk-container-id-5 div.sk-parallel-item {display: flex;flex-direction: column;z-index: 1;position: relative;background-color: white;}#sk-container-id-5 div.sk-parallel-item:first-child::after {align-self: flex-end;width: 50%;}#sk-container-id-5 div.sk-parallel-item:last-child::after {align-self: flex-start;width: 50%;}#sk-container-id-5 div.sk-parallel-item:only-child::after {width: 0;}#sk-container-id-5 div.sk-dashed-wrapped {border: 1px dashed gray;margin: 0 0.4em 0.5em 0.4em;box-sizing: border-box;padding-bottom: 0.4em;background-color: white;}#sk-container-id-5 div.sk-label label {font-family: monospace;font-weight: bold;display: inline-block;line-height: 1.2em;}#sk-container-id-5 div.sk-label-container {text-align: center;}#sk-container-id-5 div.sk-container {/* jupyter's `normalize.less` sets `[hidden] { display: none; }` but bootstrap.min.css set `[hidden] { display: none !important; }` so we also need the `!important` here to be able to override the default hidden behavior on the sphinx rendered scikit-learn.org. See: https://github.com/scikit-learn/scikit-learn/issues/21755 */display: inline-block !important;position: relative;}#sk-container-id-5 div.sk-text-repr-fallback {display: none;}</style><div id=\"sk-container-id-5\" class=\"sk-top-container\"><div class=\"sk-text-repr-fallback\"><pre>Pipeline(steps=[(&#x27;sc&#x27;, StandardScaler()), (&#x27;lasso&#x27;, Lasso())])</pre><b>In a Jupyter environment, please rerun this cell to show the HTML representation or trust the notebook. <br />On GitHub, the HTML representation is unable to render, please try loading this page with nbviewer.org.</b></div><div class=\"sk-container\" hidden><div class=\"sk-item sk-dashed-wrapped\"><div class=\"sk-label-container\"><div class=\"sk-label sk-toggleable\"><input class=\"sk-toggleable__control sk-hidden--visually\" id=\"sk-estimator-id-14\" type=\"checkbox\" ><label for=\"sk-estimator-id-14\" class=\"sk-toggleable__label sk-toggleable__label-arrow\">Pipeline</label><div class=\"sk-toggleable__content\"><pre>Pipeline(steps=[(&#x27;sc&#x27;, StandardScaler()), (&#x27;lasso&#x27;, Lasso())])</pre></div></div></div><div class=\"sk-serial\"><div class=\"sk-item\"><div class=\"sk-estimator sk-toggleable\"><input class=\"sk-toggleable__control sk-hidden--visually\" id=\"sk-estimator-id-15\" type=\"checkbox\" ><label for=\"sk-estimator-id-15\" class=\"sk-toggleable__label sk-toggleable__label-arrow\">StandardScaler</label><div class=\"sk-toggleable__content\"><pre>StandardScaler()</pre></div></div></div><div class=\"sk-item\"><div class=\"sk-estimator sk-toggleable\"><input class=\"sk-toggleable__control sk-hidden--visually\" id=\"sk-estimator-id-16\" type=\"checkbox\" ><label for=\"sk-estimator-id-16\" class=\"sk-toggleable__label sk-toggleable__label-arrow\">Lasso</label><div class=\"sk-toggleable__content\"><pre>Lasso()</pre></div></div></div></div></div></div></div>"
      ],
      "text/plain": [
       "Pipeline(steps=[('sc', StandardScaler()), ('lasso', Lasso())])"
      ]
     },
     "execution_count": 26,
     "metadata": {},
     "output_type": "execute_result"
    }
   ],
   "source": [
    "# creates a pipline to scale features and fit a LASSO regularization\n",
    "lasso_pipe = Pipeline([\n",
    "        ('sc', StandardScaler()),\n",
    "        ('lasso', Lasso())\n",
    "    ])\n",
    "\n",
    "lasso_pipe.fit(X_train, y_train)"
   ]
  },
  {
   "cell_type": "code",
   "execution_count": 27,
   "id": "6fbd9ea4-fb77-4b21-a3e8-dd155fa01fea",
   "metadata": {
    "tags": []
   },
   "outputs": [
    {
     "name": "stdout",
     "output_type": "stream",
     "text": [
      "Cross-Validation Score: 0.6195633595323418\n",
      "Cross-Validation Scores: [0.92508079 0.58180246 0.29153595 0.78287194 0.51652566]\n",
      "LASSO Training Score: 0.9467966740087187\n",
      "LASSO Test Score: 0.9124630525214338\n"
     ]
    }
   ],
   "source": [
    "# print cross-validation and R2 scores for LASSO regularization with all dataset features \n",
    "print(f'Cross-Validation Score: {cross_val_score(lasso_pipe, X_train, y_train).mean()}')\n",
    "print(f'Cross-Validation Scores: {cross_val_score(lasso_pipe, X_train, y_train)}')\n",
    "print(f'LASSO Training Score: {lasso_pipe.score(X_train, y_train)}')\n",
    "print(f'LASSO Test Score: {lasso_pipe.score(X_test, y_test)}')"
   ]
  },
  {
   "cell_type": "markdown",
   "id": "ada7f5c2-9f04-4c82-8318-2a083c3b49cf",
   "metadata": {},
   "source": [
    "In this first run of this LASSO regluarization with a default alpha value of 1.0, I can already see a better fit than the multi-linear regression model. Also, the LASSO regularization is performing about the same degree of overfit as the original Ridge regluarization with the same default alpha value, both having high training and test scores but lower performing cross-validation scores.\n",
    "\n",
    "Just as with the Ridge regularization, I will now be using the LASSO cross-validation to find the optimal alpha value."
   ]
  },
  {
   "cell_type": "code",
   "execution_count": 28,
   "id": "5d958948-a7ba-4604-bbfb-72528c9010b4",
   "metadata": {
    "tags": []
   },
   "outputs": [
    {
     "data": {
      "text/html": [
       "<style>#sk-container-id-6 {color: black;background-color: white;}#sk-container-id-6 pre{padding: 0;}#sk-container-id-6 div.sk-toggleable {background-color: white;}#sk-container-id-6 label.sk-toggleable__label {cursor: pointer;display: block;width: 100%;margin-bottom: 0;padding: 0.3em;box-sizing: border-box;text-align: center;}#sk-container-id-6 label.sk-toggleable__label-arrow:before {content: \"▸\";float: left;margin-right: 0.25em;color: #696969;}#sk-container-id-6 label.sk-toggleable__label-arrow:hover:before {color: black;}#sk-container-id-6 div.sk-estimator:hover label.sk-toggleable__label-arrow:before {color: black;}#sk-container-id-6 div.sk-toggleable__content {max-height: 0;max-width: 0;overflow: hidden;text-align: left;background-color: #f0f8ff;}#sk-container-id-6 div.sk-toggleable__content pre {margin: 0.2em;color: black;border-radius: 0.25em;background-color: #f0f8ff;}#sk-container-id-6 input.sk-toggleable__control:checked~div.sk-toggleable__content {max-height: 200px;max-width: 100%;overflow: auto;}#sk-container-id-6 input.sk-toggleable__control:checked~label.sk-toggleable__label-arrow:before {content: \"▾\";}#sk-container-id-6 div.sk-estimator input.sk-toggleable__control:checked~label.sk-toggleable__label {background-color: #d4ebff;}#sk-container-id-6 div.sk-label input.sk-toggleable__control:checked~label.sk-toggleable__label {background-color: #d4ebff;}#sk-container-id-6 input.sk-hidden--visually {border: 0;clip: rect(1px 1px 1px 1px);clip: rect(1px, 1px, 1px, 1px);height: 1px;margin: -1px;overflow: hidden;padding: 0;position: absolute;width: 1px;}#sk-container-id-6 div.sk-estimator {font-family: monospace;background-color: #f0f8ff;border: 1px dotted black;border-radius: 0.25em;box-sizing: border-box;margin-bottom: 0.5em;}#sk-container-id-6 div.sk-estimator:hover {background-color: #d4ebff;}#sk-container-id-6 div.sk-parallel-item::after {content: \"\";width: 100%;border-bottom: 1px solid gray;flex-grow: 1;}#sk-container-id-6 div.sk-label:hover label.sk-toggleable__label {background-color: #d4ebff;}#sk-container-id-6 div.sk-serial::before {content: \"\";position: absolute;border-left: 1px solid gray;box-sizing: border-box;top: 0;bottom: 0;left: 50%;z-index: 0;}#sk-container-id-6 div.sk-serial {display: flex;flex-direction: column;align-items: center;background-color: white;padding-right: 0.2em;padding-left: 0.2em;position: relative;}#sk-container-id-6 div.sk-item {position: relative;z-index: 1;}#sk-container-id-6 div.sk-parallel {display: flex;align-items: stretch;justify-content: center;background-color: white;position: relative;}#sk-container-id-6 div.sk-item::before, #sk-container-id-6 div.sk-parallel-item::before {content: \"\";position: absolute;border-left: 1px solid gray;box-sizing: border-box;top: 0;bottom: 0;left: 50%;z-index: -1;}#sk-container-id-6 div.sk-parallel-item {display: flex;flex-direction: column;z-index: 1;position: relative;background-color: white;}#sk-container-id-6 div.sk-parallel-item:first-child::after {align-self: flex-end;width: 50%;}#sk-container-id-6 div.sk-parallel-item:last-child::after {align-self: flex-start;width: 50%;}#sk-container-id-6 div.sk-parallel-item:only-child::after {width: 0;}#sk-container-id-6 div.sk-dashed-wrapped {border: 1px dashed gray;margin: 0 0.4em 0.5em 0.4em;box-sizing: border-box;padding-bottom: 0.4em;background-color: white;}#sk-container-id-6 div.sk-label label {font-family: monospace;font-weight: bold;display: inline-block;line-height: 1.2em;}#sk-container-id-6 div.sk-label-container {text-align: center;}#sk-container-id-6 div.sk-container {/* jupyter's `normalize.less` sets `[hidden] { display: none; }` but bootstrap.min.css set `[hidden] { display: none !important; }` so we also need the `!important` here to be able to override the default hidden behavior on the sphinx rendered scikit-learn.org. See: https://github.com/scikit-learn/scikit-learn/issues/21755 */display: inline-block !important;position: relative;}#sk-container-id-6 div.sk-text-repr-fallback {display: none;}</style><div id=\"sk-container-id-6\" class=\"sk-top-container\"><div class=\"sk-text-repr-fallback\"><pre>Pipeline(steps=[(&#x27;sc&#x27;, StandardScaler()),\n",
       "                (&#x27;lasso_cv&#x27;,\n",
       "                 LassoCV(alphas=array([1.00000000e+00, 1.12332403e+00, 1.26185688e+00, 1.41747416e+00,\n",
       "       1.59228279e+00, 1.78864953e+00, 2.00923300e+00, 2.25701972e+00,\n",
       "       2.53536449e+00, 2.84803587e+00, 3.19926714e+00, 3.59381366e+00,\n",
       "       4.03701726e+00, 4.53487851e+00, 5.09413801e+00, 5.72236766e+00,\n",
       "       6.42807312e+00, 7.22080902e+00, 8.1113...\n",
       "       6.89261210e+03, 7.74263683e+03, 8.69749003e+03, 9.77009957e+03,\n",
       "       1.09749877e+04, 1.23284674e+04, 1.38488637e+04, 1.55567614e+04,\n",
       "       1.74752840e+04, 1.96304065e+04, 2.20513074e+04, 2.47707636e+04,\n",
       "       2.78255940e+04, 3.12571585e+04, 3.51119173e+04, 3.94420606e+04,\n",
       "       4.43062146e+04, 4.97702356e+04, 5.59081018e+04, 6.28029144e+04,\n",
       "       7.05480231e+04, 7.92482898e+04, 8.90215085e+04, 1.00000000e+05])))])</pre><b>In a Jupyter environment, please rerun this cell to show the HTML representation or trust the notebook. <br />On GitHub, the HTML representation is unable to render, please try loading this page with nbviewer.org.</b></div><div class=\"sk-container\" hidden><div class=\"sk-item sk-dashed-wrapped\"><div class=\"sk-label-container\"><div class=\"sk-label sk-toggleable\"><input class=\"sk-toggleable__control sk-hidden--visually\" id=\"sk-estimator-id-17\" type=\"checkbox\" ><label for=\"sk-estimator-id-17\" class=\"sk-toggleable__label sk-toggleable__label-arrow\">Pipeline</label><div class=\"sk-toggleable__content\"><pre>Pipeline(steps=[(&#x27;sc&#x27;, StandardScaler()),\n",
       "                (&#x27;lasso_cv&#x27;,\n",
       "                 LassoCV(alphas=array([1.00000000e+00, 1.12332403e+00, 1.26185688e+00, 1.41747416e+00,\n",
       "       1.59228279e+00, 1.78864953e+00, 2.00923300e+00, 2.25701972e+00,\n",
       "       2.53536449e+00, 2.84803587e+00, 3.19926714e+00, 3.59381366e+00,\n",
       "       4.03701726e+00, 4.53487851e+00, 5.09413801e+00, 5.72236766e+00,\n",
       "       6.42807312e+00, 7.22080902e+00, 8.1113...\n",
       "       6.89261210e+03, 7.74263683e+03, 8.69749003e+03, 9.77009957e+03,\n",
       "       1.09749877e+04, 1.23284674e+04, 1.38488637e+04, 1.55567614e+04,\n",
       "       1.74752840e+04, 1.96304065e+04, 2.20513074e+04, 2.47707636e+04,\n",
       "       2.78255940e+04, 3.12571585e+04, 3.51119173e+04, 3.94420606e+04,\n",
       "       4.43062146e+04, 4.97702356e+04, 5.59081018e+04, 6.28029144e+04,\n",
       "       7.05480231e+04, 7.92482898e+04, 8.90215085e+04, 1.00000000e+05])))])</pre></div></div></div><div class=\"sk-serial\"><div class=\"sk-item\"><div class=\"sk-estimator sk-toggleable\"><input class=\"sk-toggleable__control sk-hidden--visually\" id=\"sk-estimator-id-18\" type=\"checkbox\" ><label for=\"sk-estimator-id-18\" class=\"sk-toggleable__label sk-toggleable__label-arrow\">StandardScaler</label><div class=\"sk-toggleable__content\"><pre>StandardScaler()</pre></div></div></div><div class=\"sk-item\"><div class=\"sk-estimator sk-toggleable\"><input class=\"sk-toggleable__control sk-hidden--visually\" id=\"sk-estimator-id-19\" type=\"checkbox\" ><label for=\"sk-estimator-id-19\" class=\"sk-toggleable__label sk-toggleable__label-arrow\">LassoCV</label><div class=\"sk-toggleable__content\"><pre>LassoCV(alphas=array([1.00000000e+00, 1.12332403e+00, 1.26185688e+00, 1.41747416e+00,\n",
       "       1.59228279e+00, 1.78864953e+00, 2.00923300e+00, 2.25701972e+00,\n",
       "       2.53536449e+00, 2.84803587e+00, 3.19926714e+00, 3.59381366e+00,\n",
       "       4.03701726e+00, 4.53487851e+00, 5.09413801e+00, 5.72236766e+00,\n",
       "       6.42807312e+00, 7.22080902e+00, 8.11130831e+00, 9.11162756e+00,\n",
       "       1.02353102e+01, 1.14975700e+0...\n",
       "       6.89261210e+03, 7.74263683e+03, 8.69749003e+03, 9.77009957e+03,\n",
       "       1.09749877e+04, 1.23284674e+04, 1.38488637e+04, 1.55567614e+04,\n",
       "       1.74752840e+04, 1.96304065e+04, 2.20513074e+04, 2.47707636e+04,\n",
       "       2.78255940e+04, 3.12571585e+04, 3.51119173e+04, 3.94420606e+04,\n",
       "       4.43062146e+04, 4.97702356e+04, 5.59081018e+04, 6.28029144e+04,\n",
       "       7.05480231e+04, 7.92482898e+04, 8.90215085e+04, 1.00000000e+05]))</pre></div></div></div></div></div></div></div>"
      ],
      "text/plain": [
       "Pipeline(steps=[('sc', StandardScaler()),\n",
       "                ('lasso_cv',\n",
       "                 LassoCV(alphas=array([1.00000000e+00, 1.12332403e+00, 1.26185688e+00, 1.41747416e+00,\n",
       "       1.59228279e+00, 1.78864953e+00, 2.00923300e+00, 2.25701972e+00,\n",
       "       2.53536449e+00, 2.84803587e+00, 3.19926714e+00, 3.59381366e+00,\n",
       "       4.03701726e+00, 4.53487851e+00, 5.09413801e+00, 5.72236766e+00,\n",
       "       6.42807312e+00, 7.22080902e+00, 8.1113...\n",
       "       6.89261210e+03, 7.74263683e+03, 8.69749003e+03, 9.77009957e+03,\n",
       "       1.09749877e+04, 1.23284674e+04, 1.38488637e+04, 1.55567614e+04,\n",
       "       1.74752840e+04, 1.96304065e+04, 2.20513074e+04, 2.47707636e+04,\n",
       "       2.78255940e+04, 3.12571585e+04, 3.51119173e+04, 3.94420606e+04,\n",
       "       4.43062146e+04, 4.97702356e+04, 5.59081018e+04, 6.28029144e+04,\n",
       "       7.05480231e+04, 7.92482898e+04, 8.90215085e+04, 1.00000000e+05])))])"
      ]
     },
     "execution_count": 28,
     "metadata": {},
     "output_type": "execute_result"
    }
   ],
   "source": [
    "# creates an array of 100 alpha values to test, scales features, and then runs cross-validation for optimal alpha\n",
    "l_alphas = np.logspace(0, 5, 100)\n",
    "\n",
    "lasso_cv_pipe = Pipeline([\n",
    "        ('sc', StandardScaler()),\n",
    "        ('lasso_cv', LassoCV(alphas = l_alphas))\n",
    "    ])\n",
    "\n",
    "lasso_cv_pipe.fit(X_train, y_train)"
   ]
  },
  {
   "cell_type": "code",
   "execution_count": 29,
   "id": "2639da3f-e690-4d14-b303-8f331e0d6175",
   "metadata": {
    "tags": []
   },
   "outputs": [
    {
     "name": "stdout",
     "output_type": "stream",
     "text": [
      "LASSO Optimal Alpha: 673.4150657750821\n",
      "LASSO Optimal Alpha Training Score: 0.909976944308284\n",
      "LASSO Optimal Alpha Test Score: 0.909976944308284\n"
     ]
    }
   ],
   "source": [
    "# print optimal alpha training and test scores\n",
    "print(f\"LASSO Optimal Alpha: {lasso_cv_pipe['lasso_cv'].alpha_}\")\n",
    "print(f'LASSO Optimal Alpha Training Score: {lasso_cv_pipe.score(X_train, y_train)}')\n",
    "print(f'LASSO Optimal Alpha Test Score: {lasso_cv_pipe.score(X_train, y_train)}')"
   ]
  },
  {
   "cell_type": "code",
   "execution_count": 30,
   "id": "f840cb15-72a0-4baf-a278-3e24920f3e6b",
   "metadata": {},
   "outputs": [
    {
     "data": {
      "text/plain": [
       "Gr Liv Area             18381.475386\n",
       "Overall Qual            14927.034292\n",
       "Neighborhood_NridgHt     8799.617145\n",
       "Year Built               6847.324612\n",
       "Neighborhood_StoneBr     6700.939812\n",
       "                            ...     \n",
       "Pool QC_Gd              -5243.874555\n",
       "Exter Qual_TA           -5500.408802\n",
       "Kitchen Qual_Gd         -7002.361382\n",
       "Kitchen Qual_TA         -7980.283107\n",
       "Misc Val                -8755.355828\n",
       "Length: 285, dtype: float64"
      ]
     },
     "execution_count": 30,
     "metadata": {},
     "output_type": "execute_result"
    }
   ],
   "source": [
    "# saves the coefficients as a series\n",
    "lasso_cv_coefs = pd.Series(lasso_cv_pipe['lasso_cv'].coef_, \n",
    "                           index = lasso_cv_pipe[:-1]\\\n",
    "                           .get_feature_names_out()\n",
    "                          ).sort_values(ascending = False)\n",
    "\n",
    "lasso_cv_coefs"
   ]
  },
  {
   "cell_type": "code",
   "execution_count": 31,
   "id": "41026a8e-ba15-4c62-a187-f88a46907e0c",
   "metadata": {
    "tags": []
   },
   "outputs": [
    {
     "data": {
      "text/plain": [
       "Gr Liv Area             18381.475386\n",
       "Overall Qual            14927.034292\n",
       "Neighborhood_NridgHt     8799.617145\n",
       "Year Built               6847.324612\n",
       "Neighborhood_StoneBr     6700.939812\n",
       "dtype: float64"
      ]
     },
     "execution_count": 31,
     "metadata": {},
     "output_type": "execute_result"
    }
   ],
   "source": [
    "# sorts 5 largest magnitude positive coefficients\n",
    "lasso_cv_coefs.sort_values(ascending = False).head(5)"
   ]
  },
  {
   "cell_type": "code",
   "execution_count": 32,
   "id": "cab4f82e-8b14-4f1f-813b-4418bc4b6fbe",
   "metadata": {
    "tags": []
   },
   "outputs": [
    {
     "data": {
      "text/plain": [
       "Misc Val          -8755.355828\n",
       "Kitchen Qual_TA   -7980.283107\n",
       "Kitchen Qual_Gd   -7002.361382\n",
       "Exter Qual_TA     -5500.408802\n",
       "Pool QC_Gd        -5243.874555\n",
       "dtype: float64"
      ]
     },
     "execution_count": 32,
     "metadata": {},
     "output_type": "execute_result"
    }
   ],
   "source": [
    "# sorts 5 largest magnitude negative coefficients\n",
    "lasso_cv_coefs.sort_values().head(5)"
   ]
  },
  {
   "cell_type": "code",
   "execution_count": 33,
   "id": "2b1abd95-1437-450b-bf7a-9dd6c37d30d8",
   "metadata": {
    "tags": []
   },
   "outputs": [
    {
     "data": {
      "text/plain": [
       "BsmtFin Type 1_None    -0.0\n",
       "BsmtFin Type 2_Rec     -0.0\n",
       "BsmtFin Type 1_LwQ     -0.0\n",
       "BsmtFin Type 2_None    -0.0\n",
       "BsmtFin Type 1_BLQ      0.0\n",
       "                       ... \n",
       "Condition 1_RRNe       -0.0\n",
       "Exterior 2nd_Brk Cmn    0.0\n",
       "Exterior 2nd_AsphShn    0.0\n",
       "Condition 1_RRNn       -0.0\n",
       "House Style_1Story      0.0\n",
       "Length: 168, dtype: float64"
      ]
     },
     "execution_count": 33,
     "metadata": {},
     "output_type": "execute_result"
    }
   ],
   "source": [
    "# stores zeroed out coefficient from LASSO cv\n",
    "lasso_cv_zeros = lasso_cv_coefs[lasso_cv_coefs == 0]\n",
    "\n",
    "lasso_cv_zeros"
   ]
  },
  {
   "cell_type": "markdown",
   "id": "9b2378a1-ccee-49bd-9226-2430b9ea58ed",
   "metadata": {},
   "source": [
    "With an optimal alpha value of approximately 673, this LASSO regularization is now outperforming the Ridge regularization with both training and test scores at aproximately 0.91. Also, while Ridge only eliminated four features, this LASSO cross-validation optimization eliminated 168, whittling down our features by more than half. I will return to this finding in feature selection shortly. Once again, just like the Ridge regularization, many of the same highly positively and negatively correlated variables show up again. Using what we have learned from the Ridge and LASSO regularization, it is time to make some base decisions of feature selection related to the problem statement at hand."
   ]
  },
  {
   "cell_type": "markdown",
   "id": "f00109d0-7b5d-42fc-ba85-3e9a82e401a7",
   "metadata": {},
   "source": [
    "---\n",
    "\n",
    "## Feature Selection\n",
    "\n",
    "Before continuing with our model tuning in the next notebook, I will attempt to automate some feature selection. First, since my problem statement is related to which home features' areas should be maximized or minimized for improved home sales prices, I will make sure to include virtually all the measurements of feature area to start. I will use the zeroed out features from Ridge and LASSO to eliminate extraneous features from our model as long as they are not area-related features. Then, I will also use the ten largest magnitude features from both the Ridge and LASSO regularizations to draw up a preliminary, better fit and interpretable model."
   ]
  },
  {
   "cell_type": "code",
   "execution_count": 34,
   "id": "b12da84a-556e-44c5-89cc-2746db4ef347",
   "metadata": {
    "tags": []
   },
   "outputs": [
    {
     "data": {
      "text/plain": [
       "['Lot Area',\n",
       " 'Mas Vnr Area',\n",
       " 'BsmtFin SF 1',\n",
       " 'BsmtFin SF 2',\n",
       " 'Bsmt Unf SF',\n",
       " 'Total Bsmt SF',\n",
       " '1st Flr SF',\n",
       " '2nd Flr SF',\n",
       " 'Low Qual Fin SF',\n",
       " 'Gr Liv Area',\n",
       " 'Garage Area',\n",
       " 'Wood Deck SF',\n",
       " 'Open Porch SF',\n",
       " 'Pool Area',\n",
       " 'House Style_SFoyer']"
      ]
     },
     "execution_count": 34,
     "metadata": {},
     "output_type": "execute_result"
    }
   ],
   "source": [
    "# creates a list of all the features which include square footage or area in the column name\n",
    "sf_features = [col for col in homes_train.columns if ('SF' in col) or ('Area' in col)]\n",
    "\n",
    "sf_features"
   ]
  },
  {
   "cell_type": "code",
   "execution_count": 35,
   "id": "0db6a146-6c45-4e93-9bfb-f3642308551e",
   "metadata": {
    "tags": []
   },
   "outputs": [
    {
     "data": {
      "text/plain": [
       "['Lot Area',\n",
       " 'Mas Vnr Area',\n",
       " 'BsmtFin SF 1',\n",
       " 'BsmtFin SF 2',\n",
       " 'Bsmt Unf SF',\n",
       " 'Total Bsmt SF',\n",
       " '1st Flr SF',\n",
       " '2nd Flr SF',\n",
       " 'Low Qual Fin SF',\n",
       " 'Gr Liv Area',\n",
       " 'Garage Area',\n",
       " 'Wood Deck SF',\n",
       " 'Open Porch SF',\n",
       " 'Pool Area']"
      ]
     },
     "execution_count": 35,
     "metadata": {},
     "output_type": "execute_result"
    }
   ],
   "source": [
    "# removes the House Style_SFoyer from the list since it is not a square footage feature\n",
    "sf_features.pop()\n",
    "\n",
    "sf_features"
   ]
  },
  {
   "cell_type": "code",
   "execution_count": 36,
   "id": "db47ac06-b273-4bf6-befb-cffeaab48d8f",
   "metadata": {
    "tags": []
   },
   "outputs": [
    {
     "data": {
      "text/plain": [
       "['Lot Area',\n",
       " 'Mas Vnr Area',\n",
       " 'BsmtFin SF 1',\n",
       " 'BsmtFin SF 2',\n",
       " 'Bsmt Unf SF',\n",
       " 'Total Bsmt SF',\n",
       " '1st Flr SF',\n",
       " '2nd Flr SF',\n",
       " 'Low Qual Fin SF',\n",
       " 'Gr Liv Area',\n",
       " 'Garage Area',\n",
       " 'Wood Deck SF',\n",
       " 'Open Porch SF',\n",
       " 'Pool Area',\n",
       " 'Enclosed Porch',\n",
       " '3Ssn Porch',\n",
       " 'Screen Porch']"
      ]
     },
     "execution_count": 36,
     "metadata": {},
     "output_type": "execute_result"
    }
   ],
   "source": [
    "# appends three area features to square footage list which do not have SF in their column name.\n",
    "area = ['Enclosed Porch', '3Ssn Porch', 'Screen Porch']\n",
    "\n",
    "for feature in area:\n",
    "    sf_features.append(feature)\n",
    "    \n",
    "sf_features"
   ]
  },
  {
   "cell_type": "code",
   "execution_count": 37,
   "id": "b31c095f-5050-4d7d-a4d3-b9b020d700f0",
   "metadata": {
    "tags": []
   },
   "outputs": [
    {
     "name": "stdout",
     "output_type": "stream",
     "text": [
      "161\n"
     ]
    }
   ],
   "source": [
    "# create a list of features which are zeroed out in LASSO cross-validation but exludes the square footage list.\n",
    "drop_features = [col for col in lasso_cv_zeros.index if col not in sf_features]\n",
    "\n",
    "print(len(drop_features))"
   ]
  },
  {
   "cell_type": "code",
   "execution_count": 38,
   "id": "d7237e1f-2f62-42b5-a714-15763fc858e3",
   "metadata": {
    "tags": []
   },
   "outputs": [
    {
     "data": {
      "text/html": [
       "<div>\n",
       "<style scoped>\n",
       "    .dataframe tbody tr th:only-of-type {\n",
       "        vertical-align: middle;\n",
       "    }\n",
       "\n",
       "    .dataframe tbody tr th {\n",
       "        vertical-align: top;\n",
       "    }\n",
       "\n",
       "    .dataframe thead th {\n",
       "        text-align: right;\n",
       "    }\n",
       "</style>\n",
       "<table border=\"1\" class=\"dataframe\">\n",
       "  <thead>\n",
       "    <tr style=\"text-align: right;\">\n",
       "      <th></th>\n",
       "      <th>Id</th>\n",
       "      <th>PID</th>\n",
       "      <th>Lot Area</th>\n",
       "      <th>Overall Qual</th>\n",
       "      <th>Overall Cond</th>\n",
       "      <th>Year Built</th>\n",
       "      <th>Year Remod/Add</th>\n",
       "      <th>Mas Vnr Area</th>\n",
       "      <th>BsmtFin SF 1</th>\n",
       "      <th>BsmtFin SF 2</th>\n",
       "      <th>...</th>\n",
       "      <th>Misc Feature_Gar2</th>\n",
       "      <th>Misc Feature_Othr</th>\n",
       "      <th>Misc Feature_Shed</th>\n",
       "      <th>Mo Sold_10</th>\n",
       "      <th>Mo Sold_5</th>\n",
       "      <th>Mo Sold_7</th>\n",
       "      <th>Mo Sold_8</th>\n",
       "      <th>Sale Type_Con</th>\n",
       "      <th>Sale Type_New</th>\n",
       "      <th>Sale Type_Oth</th>\n",
       "    </tr>\n",
       "  </thead>\n",
       "  <tbody>\n",
       "    <tr>\n",
       "      <th>0</th>\n",
       "      <td>109</td>\n",
       "      <td>533352170</td>\n",
       "      <td>13517</td>\n",
       "      <td>6</td>\n",
       "      <td>8</td>\n",
       "      <td>1976</td>\n",
       "      <td>2005</td>\n",
       "      <td>289.0</td>\n",
       "      <td>533.0</td>\n",
       "      <td>0.0</td>\n",
       "      <td>...</td>\n",
       "      <td>0</td>\n",
       "      <td>0</td>\n",
       "      <td>0</td>\n",
       "      <td>0</td>\n",
       "      <td>0</td>\n",
       "      <td>0</td>\n",
       "      <td>0</td>\n",
       "      <td>0</td>\n",
       "      <td>0</td>\n",
       "      <td>0</td>\n",
       "    </tr>\n",
       "    <tr>\n",
       "      <th>1</th>\n",
       "      <td>544</td>\n",
       "      <td>531379050</td>\n",
       "      <td>11492</td>\n",
       "      <td>7</td>\n",
       "      <td>5</td>\n",
       "      <td>1996</td>\n",
       "      <td>1997</td>\n",
       "      <td>132.0</td>\n",
       "      <td>637.0</td>\n",
       "      <td>0.0</td>\n",
       "      <td>...</td>\n",
       "      <td>0</td>\n",
       "      <td>0</td>\n",
       "      <td>0</td>\n",
       "      <td>0</td>\n",
       "      <td>0</td>\n",
       "      <td>0</td>\n",
       "      <td>0</td>\n",
       "      <td>0</td>\n",
       "      <td>0</td>\n",
       "      <td>0</td>\n",
       "    </tr>\n",
       "    <tr>\n",
       "      <th>2</th>\n",
       "      <td>153</td>\n",
       "      <td>535304180</td>\n",
       "      <td>7922</td>\n",
       "      <td>5</td>\n",
       "      <td>7</td>\n",
       "      <td>1953</td>\n",
       "      <td>2007</td>\n",
       "      <td>0.0</td>\n",
       "      <td>731.0</td>\n",
       "      <td>0.0</td>\n",
       "      <td>...</td>\n",
       "      <td>0</td>\n",
       "      <td>0</td>\n",
       "      <td>0</td>\n",
       "      <td>0</td>\n",
       "      <td>0</td>\n",
       "      <td>0</td>\n",
       "      <td>0</td>\n",
       "      <td>0</td>\n",
       "      <td>0</td>\n",
       "      <td>0</td>\n",
       "    </tr>\n",
       "    <tr>\n",
       "      <th>3</th>\n",
       "      <td>318</td>\n",
       "      <td>916386060</td>\n",
       "      <td>9802</td>\n",
       "      <td>5</td>\n",
       "      <td>5</td>\n",
       "      <td>2006</td>\n",
       "      <td>2007</td>\n",
       "      <td>0.0</td>\n",
       "      <td>0.0</td>\n",
       "      <td>0.0</td>\n",
       "      <td>...</td>\n",
       "      <td>0</td>\n",
       "      <td>0</td>\n",
       "      <td>0</td>\n",
       "      <td>0</td>\n",
       "      <td>0</td>\n",
       "      <td>0</td>\n",
       "      <td>0</td>\n",
       "      <td>0</td>\n",
       "      <td>0</td>\n",
       "      <td>0</td>\n",
       "    </tr>\n",
       "    <tr>\n",
       "      <th>4</th>\n",
       "      <td>255</td>\n",
       "      <td>906425045</td>\n",
       "      <td>14235</td>\n",
       "      <td>6</td>\n",
       "      <td>8</td>\n",
       "      <td>1900</td>\n",
       "      <td>1993</td>\n",
       "      <td>0.0</td>\n",
       "      <td>0.0</td>\n",
       "      <td>0.0</td>\n",
       "      <td>...</td>\n",
       "      <td>0</td>\n",
       "      <td>0</td>\n",
       "      <td>0</td>\n",
       "      <td>0</td>\n",
       "      <td>0</td>\n",
       "      <td>0</td>\n",
       "      <td>0</td>\n",
       "      <td>0</td>\n",
       "      <td>0</td>\n",
       "      <td>0</td>\n",
       "    </tr>\n",
       "  </tbody>\n",
       "</table>\n",
       "<p>5 rows × 127 columns</p>\n",
       "</div>"
      ],
      "text/plain": [
       "    Id        PID  Lot Area  Overall Qual  Overall Cond  Year Built  \\\n",
       "0  109  533352170     13517             6             8        1976   \n",
       "1  544  531379050     11492             7             5        1996   \n",
       "2  153  535304180      7922             5             7        1953   \n",
       "3  318  916386060      9802             5             5        2006   \n",
       "4  255  906425045     14235             6             8        1900   \n",
       "\n",
       "   Year Remod/Add  Mas Vnr Area  BsmtFin SF 1  BsmtFin SF 2  ...  \\\n",
       "0            2005         289.0         533.0           0.0  ...   \n",
       "1            1997         132.0         637.0           0.0  ...   \n",
       "2            2007           0.0         731.0           0.0  ...   \n",
       "3            2007           0.0           0.0           0.0  ...   \n",
       "4            1993           0.0           0.0           0.0  ...   \n",
       "\n",
       "   Misc Feature_Gar2  Misc Feature_Othr  Misc Feature_Shed  Mo Sold_10  \\\n",
       "0                  0                  0                  0           0   \n",
       "1                  0                  0                  0           0   \n",
       "2                  0                  0                  0           0   \n",
       "3                  0                  0                  0           0   \n",
       "4                  0                  0                  0           0   \n",
       "\n",
       "   Mo Sold_5  Mo Sold_7  Mo Sold_8  Sale Type_Con  Sale Type_New  \\\n",
       "0          0          0          0              0              0   \n",
       "1          0          0          0              0              0   \n",
       "2          0          0          0              0              0   \n",
       "3          0          0          0              0              0   \n",
       "4          0          0          0              0              0   \n",
       "\n",
       "   Sale Type_Oth  \n",
       "0              0  \n",
       "1              0  \n",
       "2              0  \n",
       "3              0  \n",
       "4              0  \n",
       "\n",
       "[5 rows x 127 columns]"
      ]
     },
     "execution_count": 38,
     "metadata": {},
     "output_type": "execute_result"
    }
   ],
   "source": [
    "# drops all the columns which were zeroed out in LASSO\n",
    "homes_train.drop(columns = drop_features, inplace = True)\n",
    "\n",
    "homes_train.head()"
   ]
  },
  {
   "cell_type": "markdown",
   "id": "d6ba9f3f-4032-4c15-8d8c-be47340f087b",
   "metadata": {
    "tags": []
   },
   "source": [
    "After controlling for all the selected square footage and area features to maintain in our dataset, I removed all 162 features which ended up with a zero correlation coefficient after the LASSO cross-validation. I will now use the largest magnitude coefficients from both the Ridge and the LASSO cross validation models to generate the first model aimed at identifying the key features whole square footage most tightly correlates with home sale price."
   ]
  },
  {
   "cell_type": "code",
   "execution_count": 39,
   "id": "abe63705-ce7d-401a-a34c-3c7a2d534494",
   "metadata": {
    "tags": []
   },
   "outputs": [
    {
     "data": {
      "text/plain": [
       "Overall Qual            8499.681380\n",
       "Gr Liv Area             6544.143495\n",
       "Neighborhood_NridgHt    6530.237833\n",
       "Misc Val                5569.128251\n",
       "Neighborhood_StoneBr    5317.875231\n",
       "1st Flr SF              4843.047085\n",
       "Mas Vnr Area            4524.029949\n",
       "TotRms AbvGrd           4415.408926\n",
       "Neighborhood_NoRidge    4229.534340\n",
       "Total Bsmt SF           4210.964463\n",
       "dtype: float64"
      ]
     },
     "execution_count": 39,
     "metadata": {},
     "output_type": "execute_result"
    }
   ],
   "source": [
    "#creates a Series with the 10 highest magnitude coefficients from Ridge cross-validation above.\n",
    "big_ridge = abs(ridge_cv_coefs).sort_values(ascending = False).head(10)\n",
    "\n",
    "big_ridge"
   ]
  },
  {
   "cell_type": "code",
   "execution_count": 40,
   "id": "ad3a2fe0-deac-4e2e-8f97-92116d90cc3b",
   "metadata": {
    "tags": []
   },
   "outputs": [
    {
     "data": {
      "text/plain": [
       "Gr Liv Area             18381.475386\n",
       "Overall Qual            14927.034292\n",
       "Neighborhood_NridgHt     8799.617145\n",
       "Misc Val                 8755.355828\n",
       "Kitchen Qual_TA          7980.283107\n",
       "Kitchen Qual_Gd          7002.361382\n",
       "Year Built               6847.324612\n",
       "Neighborhood_StoneBr     6700.939812\n",
       "Exter Qual_TA            5500.408802\n",
       "Total Bsmt SF            5276.933324\n",
       "dtype: float64"
      ]
     },
     "execution_count": 40,
     "metadata": {},
     "output_type": "execute_result"
    }
   ],
   "source": [
    "#creates a Series with the 10 highest magnitude coefficients from LASSO cross-validation above.\n",
    "big_lasso = abs(lasso_cv_coefs).sort_values(ascending = False).head(10)\n",
    "\n",
    "big_lasso"
   ]
  },
  {
   "cell_type": "code",
   "execution_count": 41,
   "id": "9f96f1e9-bd78-4d36-81f0-b9d9dc313b89",
   "metadata": {
    "tags": []
   },
   "outputs": [
    {
     "name": "stdout",
     "output_type": "stream",
     "text": [
      "27\n"
     ]
    },
    {
     "data": {
      "text/plain": [
       "['Exter Qual_TA',\n",
       " 'Neighborhood_NridgHt',\n",
       " 'Lot Area',\n",
       " 'Open Porch SF',\n",
       " 'Garage Area',\n",
       " '2nd Flr SF',\n",
       " 'BsmtFin SF 2',\n",
       " 'Neighborhood_NoRidge',\n",
       " 'Gr Liv Area',\n",
       " 'Bsmt Unf SF',\n",
       " 'Pool Area',\n",
       " 'BsmtFin SF 1',\n",
       " 'Low Qual Fin SF',\n",
       " 'Misc Val',\n",
       " 'Overall Qual',\n",
       " 'Enclosed Porch',\n",
       " 'Total Bsmt SF',\n",
       " 'Kitchen Qual_Gd',\n",
       " 'Wood Deck SF',\n",
       " '1st Flr SF',\n",
       " 'Neighborhood_StoneBr',\n",
       " 'TotRms AbvGrd',\n",
       " 'Kitchen Qual_TA',\n",
       " 'Mas Vnr Area',\n",
       " '3Ssn Porch',\n",
       " 'Year Built',\n",
       " 'Screen Porch']"
      ]
     },
     "execution_count": 41,
     "metadata": {},
     "output_type": "execute_result"
    }
   ],
   "source": [
    "# create initial list of features for preliminary model\n",
    "features = list(set(big_ridge.index).union(set(big_lasso.index).union(set(sf_features))))\n",
    "\n",
    "print(len(features))\n",
    "\n",
    "features"
   ]
  },
  {
   "cell_type": "markdown",
   "id": "e5877b58-078a-477e-b7bb-bbc1f84b817b",
   "metadata": {},
   "source": [
    "I have now whittled my model features down to 27, which include all the square footage and area features, as well as any of the highest magnitude correlation coefficients from either our Ridge or LASSO models above. I will now fit this first preliminary model and use it to iterate in the next notebook for model tuning and a finalized production model."
   ]
  },
  {
   "cell_type": "code",
   "execution_count": 42,
   "id": "ea6cee3a-a0b2-4d96-9c14-d332bdc328f7",
   "metadata": {
    "tags": []
   },
   "outputs": [
    {
     "data": {
      "text/html": [
       "<style>#sk-container-id-7 {color: black;background-color: white;}#sk-container-id-7 pre{padding: 0;}#sk-container-id-7 div.sk-toggleable {background-color: white;}#sk-container-id-7 label.sk-toggleable__label {cursor: pointer;display: block;width: 100%;margin-bottom: 0;padding: 0.3em;box-sizing: border-box;text-align: center;}#sk-container-id-7 label.sk-toggleable__label-arrow:before {content: \"▸\";float: left;margin-right: 0.25em;color: #696969;}#sk-container-id-7 label.sk-toggleable__label-arrow:hover:before {color: black;}#sk-container-id-7 div.sk-estimator:hover label.sk-toggleable__label-arrow:before {color: black;}#sk-container-id-7 div.sk-toggleable__content {max-height: 0;max-width: 0;overflow: hidden;text-align: left;background-color: #f0f8ff;}#sk-container-id-7 div.sk-toggleable__content pre {margin: 0.2em;color: black;border-radius: 0.25em;background-color: #f0f8ff;}#sk-container-id-7 input.sk-toggleable__control:checked~div.sk-toggleable__content {max-height: 200px;max-width: 100%;overflow: auto;}#sk-container-id-7 input.sk-toggleable__control:checked~label.sk-toggleable__label-arrow:before {content: \"▾\";}#sk-container-id-7 div.sk-estimator input.sk-toggleable__control:checked~label.sk-toggleable__label {background-color: #d4ebff;}#sk-container-id-7 div.sk-label input.sk-toggleable__control:checked~label.sk-toggleable__label {background-color: #d4ebff;}#sk-container-id-7 input.sk-hidden--visually {border: 0;clip: rect(1px 1px 1px 1px);clip: rect(1px, 1px, 1px, 1px);height: 1px;margin: -1px;overflow: hidden;padding: 0;position: absolute;width: 1px;}#sk-container-id-7 div.sk-estimator {font-family: monospace;background-color: #f0f8ff;border: 1px dotted black;border-radius: 0.25em;box-sizing: border-box;margin-bottom: 0.5em;}#sk-container-id-7 div.sk-estimator:hover {background-color: #d4ebff;}#sk-container-id-7 div.sk-parallel-item::after {content: \"\";width: 100%;border-bottom: 1px solid gray;flex-grow: 1;}#sk-container-id-7 div.sk-label:hover label.sk-toggleable__label {background-color: #d4ebff;}#sk-container-id-7 div.sk-serial::before {content: \"\";position: absolute;border-left: 1px solid gray;box-sizing: border-box;top: 0;bottom: 0;left: 50%;z-index: 0;}#sk-container-id-7 div.sk-serial {display: flex;flex-direction: column;align-items: center;background-color: white;padding-right: 0.2em;padding-left: 0.2em;position: relative;}#sk-container-id-7 div.sk-item {position: relative;z-index: 1;}#sk-container-id-7 div.sk-parallel {display: flex;align-items: stretch;justify-content: center;background-color: white;position: relative;}#sk-container-id-7 div.sk-item::before, #sk-container-id-7 div.sk-parallel-item::before {content: \"\";position: absolute;border-left: 1px solid gray;box-sizing: border-box;top: 0;bottom: 0;left: 50%;z-index: -1;}#sk-container-id-7 div.sk-parallel-item {display: flex;flex-direction: column;z-index: 1;position: relative;background-color: white;}#sk-container-id-7 div.sk-parallel-item:first-child::after {align-self: flex-end;width: 50%;}#sk-container-id-7 div.sk-parallel-item:last-child::after {align-self: flex-start;width: 50%;}#sk-container-id-7 div.sk-parallel-item:only-child::after {width: 0;}#sk-container-id-7 div.sk-dashed-wrapped {border: 1px dashed gray;margin: 0 0.4em 0.5em 0.4em;box-sizing: border-box;padding-bottom: 0.4em;background-color: white;}#sk-container-id-7 div.sk-label label {font-family: monospace;font-weight: bold;display: inline-block;line-height: 1.2em;}#sk-container-id-7 div.sk-label-container {text-align: center;}#sk-container-id-7 div.sk-container {/* jupyter's `normalize.less` sets `[hidden] { display: none; }` but bootstrap.min.css set `[hidden] { display: none !important; }` so we also need the `!important` here to be able to override the default hidden behavior on the sphinx rendered scikit-learn.org. See: https://github.com/scikit-learn/scikit-learn/issues/21755 */display: inline-block !important;position: relative;}#sk-container-id-7 div.sk-text-repr-fallback {display: none;}</style><div id=\"sk-container-id-7\" class=\"sk-top-container\"><div class=\"sk-text-repr-fallback\"><pre>Pipeline(steps=[(&#x27;sc&#x27;, StandardScaler()), (&#x27;lr&#x27;, LinearRegression())])</pre><b>In a Jupyter environment, please rerun this cell to show the HTML representation or trust the notebook. <br />On GitHub, the HTML representation is unable to render, please try loading this page with nbviewer.org.</b></div><div class=\"sk-container\" hidden><div class=\"sk-item sk-dashed-wrapped\"><div class=\"sk-label-container\"><div class=\"sk-label sk-toggleable\"><input class=\"sk-toggleable__control sk-hidden--visually\" id=\"sk-estimator-id-20\" type=\"checkbox\" ><label for=\"sk-estimator-id-20\" class=\"sk-toggleable__label sk-toggleable__label-arrow\">Pipeline</label><div class=\"sk-toggleable__content\"><pre>Pipeline(steps=[(&#x27;sc&#x27;, StandardScaler()), (&#x27;lr&#x27;, LinearRegression())])</pre></div></div></div><div class=\"sk-serial\"><div class=\"sk-item\"><div class=\"sk-estimator sk-toggleable\"><input class=\"sk-toggleable__control sk-hidden--visually\" id=\"sk-estimator-id-21\" type=\"checkbox\" ><label for=\"sk-estimator-id-21\" class=\"sk-toggleable__label sk-toggleable__label-arrow\">StandardScaler</label><div class=\"sk-toggleable__content\"><pre>StandardScaler()</pre></div></div></div><div class=\"sk-item\"><div class=\"sk-estimator sk-toggleable\"><input class=\"sk-toggleable__control sk-hidden--visually\" id=\"sk-estimator-id-22\" type=\"checkbox\" ><label for=\"sk-estimator-id-22\" class=\"sk-toggleable__label sk-toggleable__label-arrow\">LinearRegression</label><div class=\"sk-toggleable__content\"><pre>LinearRegression()</pre></div></div></div></div></div></div></div>"
      ],
      "text/plain": [
       "Pipeline(steps=[('sc', StandardScaler()), ('lr', LinearRegression())])"
      ]
     },
     "execution_count": 42,
     "metadata": {},
     "output_type": "execute_result"
    }
   ],
   "source": [
    "# Sets the features and target variable, does a train/test split, scales data, and then fits to linear regression.\n",
    "X_prelim = homes_train[features]\n",
    "y_prelim = homes_train['SalePrice']\n",
    "\n",
    "X_train_pl, X_test_pl, y_train_pl, y_test_pl = train_test_split(X_prelim, y_prelim, random_state = 42)\n",
    "    \n",
    "ss_pipe.fit(X_train_pl, y_train_pl)"
   ]
  },
  {
   "cell_type": "code",
   "execution_count": 43,
   "id": "8865190d-5043-4221-be24-672acbfdf86f",
   "metadata": {
    "tags": []
   },
   "outputs": [
    {
     "name": "stdout",
     "output_type": "stream",
     "text": [
      "Cross-Validation Score: 0.7973174490897842\n",
      "Cross-Validation Score: [0.86032016 0.84762428 0.85748197 0.80349784 0.617663  ]\n",
      "Training Score: 0.8452523357807902\n",
      "Test Score: 0.8730639392307981\n"
     ]
    }
   ],
   "source": [
    "print(f'Cross-Validation Score: {cross_val_score(ss_pipe, X_train_pl, y_train_pl).mean()}')\n",
    "print(f'Cross-Validation Score: {cross_val_score(ss_pipe, X_train_pl, y_train_pl)}')\n",
    "print(f'Training Score: {ss_pipe.score(X_train_pl, y_train_pl)}')\n",
    "print(f'Test Score: {ss_pipe.score(X_test_pl, y_test_pl)}')"
   ]
  },
  {
   "cell_type": "markdown",
   "id": "bf5461cd-b7a0-44b4-aecc-fa64ede6b92b",
   "metadata": {},
   "source": [
    "Based on the square footage features and the highest magnitude features from the Ridge LASSO models, this preliminary model manages to achive a pretty successful R<sup>2</sup> of approximately 0.85 on the training and 0.87 on the test. Therefore, this is already a pretty well-fit model for making inferences and predictions about our housing data in Ames, IA. Let's take a quick look at the correlation coefficients in the multi-linear regression model, just to get a glimpse into which square footage features appear to have an outsized impact on the sale price. Then in the next notebook, I will use repeated LASSO regularization to begin to eliminate features and refine towards a final production model."
   ]
  },
  {
   "cell_type": "code",
   "execution_count": 44,
   "id": "90a2aab4-b9ad-4836-bf03-627769884e7d",
   "metadata": {
    "tags": []
   },
   "outputs": [
    {
     "data": {
      "text/plain": [
       "Gr Liv Area             6.220324e+16\n",
       "Total Bsmt SF           2.449806e+16\n",
       "Overall Qual            2.456440e+04\n",
       "Year Built              1.010978e+04\n",
       "Neighborhood_NridgHt    9.020234e+03\n",
       "Neighborhood_StoneBr    7.219785e+03\n",
       "Lot Area                6.486699e+03\n",
       "Screen Porch            5.989820e+03\n",
       "Garage Area             5.913997e+03\n",
       "TotRms AbvGrd           5.649033e+03\n",
       "Neighborhood_NoRidge    5.613988e+03\n",
       "Wood Deck SF            3.860186e+03\n",
       "Mas Vnr Area            2.379791e+03\n",
       "3Ssn Porch              2.063072e+03\n",
       "Enclosed Porch          1.769038e+03\n",
       "Open Porch SF           1.559964e+03\n",
       "Exter Qual_TA          -3.276835e+03\n",
       "Pool Area              -4.968268e+03\n",
       "Misc Val               -7.444213e+03\n",
       "Kitchen Qual_Gd        -1.232711e+04\n",
       "Kitchen Qual_TA        -1.549288e+04\n",
       "Low Qual Fin SF        -6.476340e+15\n",
       "BsmtFin SF 2           -9.145781e+15\n",
       "Bsmt Unf SF            -2.386686e+16\n",
       "BsmtFin SF 1           -2.524061e+16\n",
       "1st Flr SF             -4.957185e+16\n",
       "2nd Flr SF             -5.220410e+16\n",
       "dtype: float64"
      ]
     },
     "execution_count": 44,
     "metadata": {},
     "output_type": "execute_result"
    }
   ],
   "source": [
    "pd.Series(ss_pipe['lr'].coef_, index = ss_pipe[:-1]\\\n",
    "                           .get_feature_names_out()\n",
    "                          ).sort_values(ascending = False)"
   ]
  },
  {
   "cell_type": "markdown",
   "id": "66e0c4d7-42de-4129-b6dd-34b2c3653214",
   "metadata": {},
   "source": [
    "Similar to what I saw in my data analysis in notebook 1, the living area and basement area have a large positive correlation with sale price. Surprisingly, total basement, first floor, and second floor square footage all have huge negative correlations. I imagine that this might be due to a combination of multi-colinear variables creating higher variance (total basement and first floor square footage noted in notebook 1). When I iterate on this model in the next notebook, I will try to eliminate some multi-colinear variable and determine if this improves our model fit.\n",
    "\n",
    "I will finish up by saving two updated versions of the dataset, one with all the dropped features at the start of feature selection and another with just the ID, PID, preliminary model features, and sale price. I am saving the first dataset with just the dropped features in case, I wish to add features when refining my model, but I imagine that I will only be dropping features at this point."
   ]
  },
  {
   "cell_type": "code",
   "execution_count": 45,
   "id": "7de71ceb-1e92-42c0-862f-4b1ff4a5b62d",
   "metadata": {
    "tags": []
   },
   "outputs": [],
   "source": [
    "# saves the dataset with just the dropped columns which zeroed out in Ridge and LASSO cv\n",
    "homes_train.to_csv('../datasets/train_dropped.csv', index = False)"
   ]
  },
  {
   "cell_type": "code",
   "execution_count": 46,
   "id": "31c9a300-885e-4db5-b5aa-781f84d02f35",
   "metadata": {
    "tags": []
   },
   "outputs": [
    {
     "name": "stdout",
     "output_type": "stream",
     "text": [
      "29\n"
     ]
    },
    {
     "data": {
      "text/plain": [
       "['Id',\n",
       " 'Lot Area',\n",
       " 'Overall Qual',\n",
       " 'Year Built',\n",
       " 'Mas Vnr Area',\n",
       " 'BsmtFin SF 1',\n",
       " 'BsmtFin SF 2',\n",
       " 'Bsmt Unf SF',\n",
       " 'Total Bsmt SF',\n",
       " '1st Flr SF',\n",
       " '2nd Flr SF',\n",
       " 'Low Qual Fin SF',\n",
       " 'Gr Liv Area',\n",
       " 'TotRms AbvGrd',\n",
       " 'Garage Area',\n",
       " 'Wood Deck SF',\n",
       " 'Open Porch SF',\n",
       " 'Enclosed Porch',\n",
       " '3Ssn Porch',\n",
       " 'Screen Porch',\n",
       " 'Pool Area',\n",
       " 'Misc Val',\n",
       " 'SalePrice',\n",
       " 'Neighborhood_NoRidge',\n",
       " 'Neighborhood_NridgHt',\n",
       " 'Neighborhood_StoneBr',\n",
       " 'Exter Qual_TA',\n",
       " 'Kitchen Qual_Gd',\n",
       " 'Kitchen Qual_TA']"
      ]
     },
     "execution_count": 46,
     "metadata": {},
     "output_type": "execute_result"
    }
   ],
   "source": [
    "# makes a list of columns to keep with preliminary features, id, and sale price\n",
    "keep_cols = [col for col in homes_train.columns if ((col in features) or (col == 'Id') or (col == 'SalePrice'))]\n",
    "\n",
    "print(len(keep_cols))\n",
    "keep_cols"
   ]
  },
  {
   "cell_type": "code",
   "execution_count": 47,
   "id": "c7ca0ca4-9655-42ca-9d34-a200566988a5",
   "metadata": {
    "tags": []
   },
   "outputs": [
    {
     "name": "stdout",
     "output_type": "stream",
     "text": [
      "(2051, 29)\n"
     ]
    },
    {
     "data": {
      "text/html": [
       "<div>\n",
       "<style scoped>\n",
       "    .dataframe tbody tr th:only-of-type {\n",
       "        vertical-align: middle;\n",
       "    }\n",
       "\n",
       "    .dataframe tbody tr th {\n",
       "        vertical-align: top;\n",
       "    }\n",
       "\n",
       "    .dataframe thead th {\n",
       "        text-align: right;\n",
       "    }\n",
       "</style>\n",
       "<table border=\"1\" class=\"dataframe\">\n",
       "  <thead>\n",
       "    <tr style=\"text-align: right;\">\n",
       "      <th></th>\n",
       "      <th>Id</th>\n",
       "      <th>Lot Area</th>\n",
       "      <th>Overall Qual</th>\n",
       "      <th>Year Built</th>\n",
       "      <th>Mas Vnr Area</th>\n",
       "      <th>BsmtFin SF 1</th>\n",
       "      <th>BsmtFin SF 2</th>\n",
       "      <th>Bsmt Unf SF</th>\n",
       "      <th>Total Bsmt SF</th>\n",
       "      <th>1st Flr SF</th>\n",
       "      <th>...</th>\n",
       "      <th>Screen Porch</th>\n",
       "      <th>Pool Area</th>\n",
       "      <th>Misc Val</th>\n",
       "      <th>SalePrice</th>\n",
       "      <th>Neighborhood_NoRidge</th>\n",
       "      <th>Neighborhood_NridgHt</th>\n",
       "      <th>Neighborhood_StoneBr</th>\n",
       "      <th>Exter Qual_TA</th>\n",
       "      <th>Kitchen Qual_Gd</th>\n",
       "      <th>Kitchen Qual_TA</th>\n",
       "    </tr>\n",
       "  </thead>\n",
       "  <tbody>\n",
       "    <tr>\n",
       "      <th>0</th>\n",
       "      <td>109</td>\n",
       "      <td>13517</td>\n",
       "      <td>6</td>\n",
       "      <td>1976</td>\n",
       "      <td>289.0</td>\n",
       "      <td>533.0</td>\n",
       "      <td>0.0</td>\n",
       "      <td>192.0</td>\n",
       "      <td>725.0</td>\n",
       "      <td>725</td>\n",
       "      <td>...</td>\n",
       "      <td>0</td>\n",
       "      <td>0</td>\n",
       "      <td>0</td>\n",
       "      <td>130500</td>\n",
       "      <td>0</td>\n",
       "      <td>0</td>\n",
       "      <td>0</td>\n",
       "      <td>0</td>\n",
       "      <td>1</td>\n",
       "      <td>0</td>\n",
       "    </tr>\n",
       "    <tr>\n",
       "      <th>1</th>\n",
       "      <td>544</td>\n",
       "      <td>11492</td>\n",
       "      <td>7</td>\n",
       "      <td>1996</td>\n",
       "      <td>132.0</td>\n",
       "      <td>637.0</td>\n",
       "      <td>0.0</td>\n",
       "      <td>276.0</td>\n",
       "      <td>913.0</td>\n",
       "      <td>913</td>\n",
       "      <td>...</td>\n",
       "      <td>0</td>\n",
       "      <td>0</td>\n",
       "      <td>0</td>\n",
       "      <td>220000</td>\n",
       "      <td>0</td>\n",
       "      <td>0</td>\n",
       "      <td>0</td>\n",
       "      <td>0</td>\n",
       "      <td>1</td>\n",
       "      <td>0</td>\n",
       "    </tr>\n",
       "    <tr>\n",
       "      <th>2</th>\n",
       "      <td>153</td>\n",
       "      <td>7922</td>\n",
       "      <td>5</td>\n",
       "      <td>1953</td>\n",
       "      <td>0.0</td>\n",
       "      <td>731.0</td>\n",
       "      <td>0.0</td>\n",
       "      <td>326.0</td>\n",
       "      <td>1057.0</td>\n",
       "      <td>1057</td>\n",
       "      <td>...</td>\n",
       "      <td>0</td>\n",
       "      <td>0</td>\n",
       "      <td>0</td>\n",
       "      <td>109000</td>\n",
       "      <td>0</td>\n",
       "      <td>0</td>\n",
       "      <td>0</td>\n",
       "      <td>1</td>\n",
       "      <td>1</td>\n",
       "      <td>0</td>\n",
       "    </tr>\n",
       "    <tr>\n",
       "      <th>3</th>\n",
       "      <td>318</td>\n",
       "      <td>9802</td>\n",
       "      <td>5</td>\n",
       "      <td>2006</td>\n",
       "      <td>0.0</td>\n",
       "      <td>0.0</td>\n",
       "      <td>0.0</td>\n",
       "      <td>384.0</td>\n",
       "      <td>384.0</td>\n",
       "      <td>744</td>\n",
       "      <td>...</td>\n",
       "      <td>0</td>\n",
       "      <td>0</td>\n",
       "      <td>0</td>\n",
       "      <td>174000</td>\n",
       "      <td>0</td>\n",
       "      <td>0</td>\n",
       "      <td>0</td>\n",
       "      <td>1</td>\n",
       "      <td>0</td>\n",
       "      <td>1</td>\n",
       "    </tr>\n",
       "    <tr>\n",
       "      <th>4</th>\n",
       "      <td>255</td>\n",
       "      <td>14235</td>\n",
       "      <td>6</td>\n",
       "      <td>1900</td>\n",
       "      <td>0.0</td>\n",
       "      <td>0.0</td>\n",
       "      <td>0.0</td>\n",
       "      <td>676.0</td>\n",
       "      <td>676.0</td>\n",
       "      <td>831</td>\n",
       "      <td>...</td>\n",
       "      <td>0</td>\n",
       "      <td>0</td>\n",
       "      <td>0</td>\n",
       "      <td>138500</td>\n",
       "      <td>0</td>\n",
       "      <td>0</td>\n",
       "      <td>0</td>\n",
       "      <td>1</td>\n",
       "      <td>0</td>\n",
       "      <td>1</td>\n",
       "    </tr>\n",
       "  </tbody>\n",
       "</table>\n",
       "<p>5 rows × 29 columns</p>\n",
       "</div>"
      ],
      "text/plain": [
       "    Id  Lot Area  Overall Qual  Year Built  Mas Vnr Area  BsmtFin SF 1  \\\n",
       "0  109     13517             6        1976         289.0         533.0   \n",
       "1  544     11492             7        1996         132.0         637.0   \n",
       "2  153      7922             5        1953           0.0         731.0   \n",
       "3  318      9802             5        2006           0.0           0.0   \n",
       "4  255     14235             6        1900           0.0           0.0   \n",
       "\n",
       "   BsmtFin SF 2  Bsmt Unf SF  Total Bsmt SF  1st Flr SF  ...  Screen Porch  \\\n",
       "0           0.0        192.0          725.0         725  ...             0   \n",
       "1           0.0        276.0          913.0         913  ...             0   \n",
       "2           0.0        326.0         1057.0        1057  ...             0   \n",
       "3           0.0        384.0          384.0         744  ...             0   \n",
       "4           0.0        676.0          676.0         831  ...             0   \n",
       "\n",
       "   Pool Area  Misc Val  SalePrice  Neighborhood_NoRidge  Neighborhood_NridgHt  \\\n",
       "0          0         0     130500                     0                     0   \n",
       "1          0         0     220000                     0                     0   \n",
       "2          0         0     109000                     0                     0   \n",
       "3          0         0     174000                     0                     0   \n",
       "4          0         0     138500                     0                     0   \n",
       "\n",
       "   Neighborhood_StoneBr  Exter Qual_TA  Kitchen Qual_Gd  Kitchen Qual_TA  \n",
       "0                     0              0                1                0  \n",
       "1                     0              0                1                0  \n",
       "2                     0              1                1                0  \n",
       "3                     0              1                0                1  \n",
       "4                     0              1                0                1  \n",
       "\n",
       "[5 rows x 29 columns]"
      ]
     },
     "execution_count": 47,
     "metadata": {},
     "output_type": "execute_result"
    }
   ],
   "source": [
    "# creates a new dataframe with the columns to keep\n",
    "homes_prelim = homes_train[keep_cols]\n",
    "\n",
    "print(homes_prelim.shape)\n",
    "homes_prelim.head()"
   ]
  },
  {
   "cell_type": "code",
   "execution_count": 48,
   "id": "4764d7e1-94a5-406d-8204-7139df48e649",
   "metadata": {
    "tags": []
   },
   "outputs": [],
   "source": [
    "# saves the dataframe with 27 key features to datasets directory\n",
    "homes_prelim.to_csv('../datasets/prelim_model.csv', index = False)"
   ]
  },
  {
   "cell_type": "markdown",
   "id": "8426c396-6f5e-4335-a1e0-efe085270ee5",
   "metadata": {},
   "source": [
    "---\n",
    "\n",
    "## Notebook Conclusion\n",
    "\n",
    "In this notebook, I preprocessed data to expand my investigation to include categorical features in a baseline model which performed poorly in test scoring and was highly overfit. I also applied polynomial features in an attempt to look for any patterns in high interaction features. After fitting and cross-validating both Ridge and LASSO regularizations, I was able to generate a comprehensive list of features for a more automated selection. These features included the measures of home area sizes relevant to my problem statement, as well as features with the highest magnitude correlation coefficients in both regularization model. A preliminary model was built based on these key features to keep and is already scoring well.\n",
    "\n",
    "In the next notebook, I will be model tuning to see which features can be dropped from our model, and by extension, which home features sizes are less revelant in inferring the value of the home for sale."
   ]
  }
 ],
 "metadata": {
  "kernelspec": {
   "display_name": "Python [conda env:dsi] *",
   "language": "python",
   "name": "conda-env-dsi-py"
  },
  "language_info": {
   "codemirror_mode": {
    "name": "ipython",
    "version": 3
   },
   "file_extension": ".py",
   "mimetype": "text/x-python",
   "name": "python",
   "nbconvert_exporter": "python",
   "pygments_lexer": "ipython3",
   "version": "3.8.16"
  }
 },
 "nbformat": 4,
 "nbformat_minor": 5
}
