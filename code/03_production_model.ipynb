{
 "cells": [
  {
   "cell_type": "markdown",
   "id": "e5b2380c-7ef2-495e-8227-422f4f35e020",
   "metadata": {},
   "source": [
    "---\n",
    "\n",
    "# Part 3: Model Tuning and the Production Model"
   ]
  },
  {
   "cell_type": "markdown",
   "id": "cc4c4193-fa0c-4055-9d44-8f84453887b5",
   "metadata": {},
   "source": [
    "---\n",
    "\n",
    "## Notebook Summary\n",
    "\n",
    "In Part 3, I will be taking my preliminary model with 27 features at the end of Part 2 and go through repeated iterations of LASSO regularization to eliminate less salient features. At each iteration, I will evaluate and take note of which home features related to square footage are being eliminated. The final production model will then be evaluated based on its predictive power and margins of error. Included in this notebook, the reader will find:\n",
    "\n",
    "* Baseline and Preliminary Models\n",
    "* Model 1\n",
    "* Model 2\n",
    "* Model 3\n",
    "* Model 4\n",
    "* Model 5\n",
    "* Production Model\n",
    "* Notebook Conclusion"
   ]
  },
  {
   "cell_type": "markdown",
   "id": "8c3d4094-5112-4f07-9692-4ccf1d55936d",
   "metadata": {},
   "source": [
    "---\n",
    "\n",
    "## Baseline and Preliminary Models\n",
    "\n",
    "The reader will recall in Part 2, that both a baseline and preliminary model were developed. The baseline model was based on the 200+ features of all the numerical and categorical features and gave a R<sup>2</sup> score based on the mean of the training data set.\n",
    "\n",
    "In contrast, after a lot of regularization and feature selection, a preliminary model was fit which scored very high when appled to the data test set. Scores for both can be found below.\n",
    "\n",
    "|Measure|Score|\n",
    "|-----|-----|\n",
    "|Baseline Model Test Score|-0.00043|\n",
    "|Preliminary Model Training Score|0.85|\n",
    "|Preliminary Model Test Score|0.87|\n",
    "\n",
    "The preliminary model is already very well fit, as both training and test scores are high relative to the baseline and both are relatively close in value.\n",
    "\n",
    "The objective now is to iterate on this model to figure out which home features' size has greater correlation with the sale price and then by extension, which features a home developer should maximize during new construction."
   ]
  },
  {
   "cell_type": "markdown",
   "id": "4e0f76a4-6d67-4f73-9051-d3e9babb71ab",
   "metadata": {},
   "source": [
    "---\n",
    "\n",
    "## Global Variables and Functions\n",
    "\n",
    "Before iterating, I am going to define some global Pipeline variables and some functions which I will use repeatedly for LASSO regularization and then eliminating features."
   ]
  },
  {
   "cell_type": "code",
   "execution_count": 2,
   "id": "a37c0d9d-f9d1-4aa1-9b43-0a7349584d02",
   "metadata": {
    "tags": []
   },
   "outputs": [],
   "source": [
    "# import requisite libraries and modules for linear regression and evaluation metrics\n",
    "import pandas as pd\n",
    "import numpy as np\n",
    "import matplotlib.pyplot as plt\n",
    "import seaborn as sns\n",
    "\n",
    "from sklearn.linear_model import LinearRegression\n",
    "from sklearn.model_selection import train_test_split, cross_val_score\n",
    "from sklearn.metrics import r2_score\n",
    "from sklearn.preprocessing import StandardScaler, PolynomialFeatures\n",
    "from sklearn.pipeline import Pipeline\n",
    "from sklearn.linear_model import Ridge, RidgeCV, Lasso, LassoCV"
   ]
  },
  {
   "cell_type": "code",
   "execution_count": 3,
   "id": "a352498a-99f0-4cd3-befc-ebcf0cd63af6",
   "metadata": {
    "tags": []
   },
   "outputs": [],
   "source": [
    "# creates the standard scaler and linear regression Pipeline\n",
    "ss_pipe = Pipeline([\n",
    "        ('sc', StandardScaler()),\n",
    "        ('lr', LinearRegression())\n",
    "    ])"
   ]
  },
  {
   "cell_type": "code",
   "execution_count": 4,
   "id": "0d742c6b-0a8f-4ceb-a1f5-bd27743ef636",
   "metadata": {
    "tags": []
   },
   "outputs": [],
   "source": [
    "# Sets the LASSO alphas and creates the Pipeline for standard scaler and LASSO cross-val\n",
    "l_alphas = np.logspace(0, 5, 100)\n",
    "\n",
    "lasso_cv_pipe = Pipeline([\n",
    "        ('sc', StandardScaler()),\n",
    "        ('lasso_cv', LassoCV(alphas = l_alphas))\n",
    "    ])"
   ]
  },
  {
   "cell_type": "code",
   "execution_count": 5,
   "id": "555407c0-a456-41f1-9e91-85bda10cfd95",
   "metadata": {
    "tags": []
   },
   "outputs": [],
   "source": [
    "# fits a standard scaled linear regression and returns a series of the correlation coefficients\n",
    "def get_lr(X_train, y_train):\n",
    "    ss_pipe.fit(X_train, y_train)\n",
    "    return pd.Series(ss_pipe['lr'].coef_, \n",
    "                     index = ss_pipe[:-1]\\\n",
    "                     .get_feature_names_out()\n",
    "                    ).sort_values(ascending = False)"
   ]
  },
  {
   "cell_type": "code",
   "execution_count": 6,
   "id": "9386f091-de37-4ee8-8bff-5da537c5356f",
   "metadata": {
    "tags": []
   },
   "outputs": [],
   "source": [
    "# fits a standard scaled LASSO cross validation and returns a series of the correlation coefficients\n",
    "def get_lasso_cv(X_train, y_train):\n",
    "    lasso_cv_pipe.fit(X_train, y_train)\n",
    "    return pd.Series(lasso_cv_pipe['lasso_cv'].coef_, \n",
    "                     index = lasso_cv_pipe[:-1]\\\n",
    "                     .get_feature_names_out()\n",
    "                    ).sort_values(ascending = False)"
   ]
  },
  {
   "cell_type": "code",
   "execution_count": 7,
   "id": "791b7cc8-d800-4f5b-98ea-68243f516a6b",
   "metadata": {
    "tags": []
   },
   "outputs": [],
   "source": [
    "# returns a series of correlation coefficients equal to zero\n",
    "def get_zeros(coefs):\n",
    "    return coefs[coefs == 0]"
   ]
  },
  {
   "cell_type": "code",
   "execution_count": 8,
   "id": "9b255a84-c3ff-430e-8a4c-47a90d839e5c",
   "metadata": {
    "tags": []
   },
   "outputs": [],
   "source": [
    "# removes features from the list whose correlation coefficients are found in the zero list\n",
    "def cut_zeros(features, zeros):\n",
    "    for feature in features:\n",
    "        for zero in zeros.index:\n",
    "            if feature == zero:\n",
    "                features.remove(zero)\n",
    "    print(len(features))\n",
    "    return features"
   ]
  },
  {
   "cell_type": "markdown",
   "id": "c72846e4-6fca-436a-b18e-f1a3bd1d8322",
   "metadata": {},
   "source": [
    "---\n",
    "\n",
    "## Model Iteration 1\n",
    "\n",
    "Let's start by loading in the preliminary model data frame and then iterating with a LASSO cross-validation to eliminate zeroed out features. I will begin by refitting the data to our standard scaled multi-linear regression model for comparison sake with Model 1 after the LASSO and removal of features."
   ]
  },
  {
   "cell_type": "code",
   "execution_count": 9,
   "id": "3dc060df-57cc-4394-bfd2-b633ca492f66",
   "metadata": {
    "tags": []
   },
   "outputs": [
    {
     "data": {
      "text/html": [
       "<div>\n",
       "<style scoped>\n",
       "    .dataframe tbody tr th:only-of-type {\n",
       "        vertical-align: middle;\n",
       "    }\n",
       "\n",
       "    .dataframe tbody tr th {\n",
       "        vertical-align: top;\n",
       "    }\n",
       "\n",
       "    .dataframe thead th {\n",
       "        text-align: right;\n",
       "    }\n",
       "</style>\n",
       "<table border=\"1\" class=\"dataframe\">\n",
       "  <thead>\n",
       "    <tr style=\"text-align: right;\">\n",
       "      <th></th>\n",
       "      <th>Id</th>\n",
       "      <th>Lot Area</th>\n",
       "      <th>Overall Qual</th>\n",
       "      <th>Year Built</th>\n",
       "      <th>Mas Vnr Area</th>\n",
       "      <th>BsmtFin SF 1</th>\n",
       "      <th>BsmtFin SF 2</th>\n",
       "      <th>Bsmt Unf SF</th>\n",
       "      <th>Total Bsmt SF</th>\n",
       "      <th>1st Flr SF</th>\n",
       "      <th>...</th>\n",
       "      <th>Screen Porch</th>\n",
       "      <th>Pool Area</th>\n",
       "      <th>Misc Val</th>\n",
       "      <th>SalePrice</th>\n",
       "      <th>Neighborhood_NoRidge</th>\n",
       "      <th>Neighborhood_NridgHt</th>\n",
       "      <th>Neighborhood_StoneBr</th>\n",
       "      <th>Exter Qual_TA</th>\n",
       "      <th>Kitchen Qual_Gd</th>\n",
       "      <th>Kitchen Qual_TA</th>\n",
       "    </tr>\n",
       "  </thead>\n",
       "  <tbody>\n",
       "    <tr>\n",
       "      <th>0</th>\n",
       "      <td>109</td>\n",
       "      <td>13517</td>\n",
       "      <td>6</td>\n",
       "      <td>1976</td>\n",
       "      <td>289.0</td>\n",
       "      <td>533.0</td>\n",
       "      <td>0.0</td>\n",
       "      <td>192.0</td>\n",
       "      <td>725.0</td>\n",
       "      <td>725</td>\n",
       "      <td>...</td>\n",
       "      <td>0</td>\n",
       "      <td>0</td>\n",
       "      <td>0</td>\n",
       "      <td>130500</td>\n",
       "      <td>0</td>\n",
       "      <td>0</td>\n",
       "      <td>0</td>\n",
       "      <td>0</td>\n",
       "      <td>1</td>\n",
       "      <td>0</td>\n",
       "    </tr>\n",
       "    <tr>\n",
       "      <th>1</th>\n",
       "      <td>544</td>\n",
       "      <td>11492</td>\n",
       "      <td>7</td>\n",
       "      <td>1996</td>\n",
       "      <td>132.0</td>\n",
       "      <td>637.0</td>\n",
       "      <td>0.0</td>\n",
       "      <td>276.0</td>\n",
       "      <td>913.0</td>\n",
       "      <td>913</td>\n",
       "      <td>...</td>\n",
       "      <td>0</td>\n",
       "      <td>0</td>\n",
       "      <td>0</td>\n",
       "      <td>220000</td>\n",
       "      <td>0</td>\n",
       "      <td>0</td>\n",
       "      <td>0</td>\n",
       "      <td>0</td>\n",
       "      <td>1</td>\n",
       "      <td>0</td>\n",
       "    </tr>\n",
       "    <tr>\n",
       "      <th>2</th>\n",
       "      <td>153</td>\n",
       "      <td>7922</td>\n",
       "      <td>5</td>\n",
       "      <td>1953</td>\n",
       "      <td>0.0</td>\n",
       "      <td>731.0</td>\n",
       "      <td>0.0</td>\n",
       "      <td>326.0</td>\n",
       "      <td>1057.0</td>\n",
       "      <td>1057</td>\n",
       "      <td>...</td>\n",
       "      <td>0</td>\n",
       "      <td>0</td>\n",
       "      <td>0</td>\n",
       "      <td>109000</td>\n",
       "      <td>0</td>\n",
       "      <td>0</td>\n",
       "      <td>0</td>\n",
       "      <td>1</td>\n",
       "      <td>1</td>\n",
       "      <td>0</td>\n",
       "    </tr>\n",
       "    <tr>\n",
       "      <th>3</th>\n",
       "      <td>318</td>\n",
       "      <td>9802</td>\n",
       "      <td>5</td>\n",
       "      <td>2006</td>\n",
       "      <td>0.0</td>\n",
       "      <td>0.0</td>\n",
       "      <td>0.0</td>\n",
       "      <td>384.0</td>\n",
       "      <td>384.0</td>\n",
       "      <td>744</td>\n",
       "      <td>...</td>\n",
       "      <td>0</td>\n",
       "      <td>0</td>\n",
       "      <td>0</td>\n",
       "      <td>174000</td>\n",
       "      <td>0</td>\n",
       "      <td>0</td>\n",
       "      <td>0</td>\n",
       "      <td>1</td>\n",
       "      <td>0</td>\n",
       "      <td>1</td>\n",
       "    </tr>\n",
       "    <tr>\n",
       "      <th>4</th>\n",
       "      <td>255</td>\n",
       "      <td>14235</td>\n",
       "      <td>6</td>\n",
       "      <td>1900</td>\n",
       "      <td>0.0</td>\n",
       "      <td>0.0</td>\n",
       "      <td>0.0</td>\n",
       "      <td>676.0</td>\n",
       "      <td>676.0</td>\n",
       "      <td>831</td>\n",
       "      <td>...</td>\n",
       "      <td>0</td>\n",
       "      <td>0</td>\n",
       "      <td>0</td>\n",
       "      <td>138500</td>\n",
       "      <td>0</td>\n",
       "      <td>0</td>\n",
       "      <td>0</td>\n",
       "      <td>1</td>\n",
       "      <td>0</td>\n",
       "      <td>1</td>\n",
       "    </tr>\n",
       "  </tbody>\n",
       "</table>\n",
       "<p>5 rows × 29 columns</p>\n",
       "</div>"
      ],
      "text/plain": [
       "    Id  Lot Area  Overall Qual  Year Built  Mas Vnr Area  BsmtFin SF 1  \\\n",
       "0  109     13517             6        1976         289.0         533.0   \n",
       "1  544     11492             7        1996         132.0         637.0   \n",
       "2  153      7922             5        1953           0.0         731.0   \n",
       "3  318      9802             5        2006           0.0           0.0   \n",
       "4  255     14235             6        1900           0.0           0.0   \n",
       "\n",
       "   BsmtFin SF 2  Bsmt Unf SF  Total Bsmt SF  1st Flr SF  ...  Screen Porch  \\\n",
       "0           0.0        192.0          725.0         725  ...             0   \n",
       "1           0.0        276.0          913.0         913  ...             0   \n",
       "2           0.0        326.0         1057.0        1057  ...             0   \n",
       "3           0.0        384.0          384.0         744  ...             0   \n",
       "4           0.0        676.0          676.0         831  ...             0   \n",
       "\n",
       "   Pool Area  Misc Val  SalePrice  Neighborhood_NoRidge  Neighborhood_NridgHt  \\\n",
       "0          0         0     130500                     0                     0   \n",
       "1          0         0     220000                     0                     0   \n",
       "2          0         0     109000                     0                     0   \n",
       "3          0         0     174000                     0                     0   \n",
       "4          0         0     138500                     0                     0   \n",
       "\n",
       "   Neighborhood_StoneBr  Exter Qual_TA  Kitchen Qual_Gd  Kitchen Qual_TA  \n",
       "0                     0              0                1                0  \n",
       "1                     0              0                1                0  \n",
       "2                     0              1                1                0  \n",
       "3                     0              1                0                1  \n",
       "4                     0              1                0                1  \n",
       "\n",
       "[5 rows x 29 columns]"
      ]
     },
     "execution_count": 9,
     "metadata": {},
     "output_type": "execute_result"
    }
   ],
   "source": [
    "# reads in preliminary model dataframe\n",
    "homes_prelim = pd.read_csv('../datasets/prelim_model.csv')\n",
    "\n",
    "homes_prelim.head()"
   ]
  },
  {
   "cell_type": "code",
   "execution_count": 10,
   "id": "de8cea67-019c-45be-81d0-531de24b9eb2",
   "metadata": {
    "tags": []
   },
   "outputs": [
    {
     "data": {
      "text/plain": [
       "BsmtFin SF 1            4.445851e+17\n",
       "Bsmt Unf SF             4.203880e+17\n",
       "BsmtFin SF 2            1.610927e+17\n",
       "Gr Liv Area             1.448484e+17\n",
       "Overall Qual            2.441655e+04\n",
       "Year Built              1.023889e+04\n",
       "Neighborhood_NridgHt    8.944237e+03\n",
       "Neighborhood_StoneBr    7.230470e+03\n",
       "Lot Area                6.488518e+03\n",
       "Screen Porch            6.067543e+03\n",
       "TotRms AbvGrd           5.730602e+03\n",
       "Neighborhood_NoRidge    5.711136e+03\n",
       "Garage Area             5.683313e+03\n",
       "Wood Deck SF            3.862542e+03\n",
       "Mas Vnr Area            2.626249e+03\n",
       "3Ssn Porch              2.029898e+03\n",
       "Enclosed Porch          1.816639e+03\n",
       "Open Porch SF           1.708358e+03\n",
       "Exter Qual_TA          -3.211760e+03\n",
       "Pool Area              -4.994215e+03\n",
       "Misc Val               -7.538045e+03\n",
       "Kitchen Qual_Gd        -1.233126e+04\n",
       "Kitchen Qual_TA        -1.540550e+04\n",
       "Low Qual Fin SF        -1.508101e+16\n",
       "1st Flr SF             -1.154345e+17\n",
       "2nd Flr SF             -1.215641e+17\n",
       "Total Bsmt SF          -4.315060e+17\n",
       "dtype: float64"
      ]
     },
     "execution_count": 10,
     "metadata": {},
     "output_type": "execute_result"
    }
   ],
   "source": [
    "# declare features and target for prelim model, tran/test split and then call LinReg function\n",
    "X = homes_prelim.drop(columns = ['Id', 'SalePrice'])\n",
    "y = homes_prelim['SalePrice']\n",
    "\n",
    "X_train, X_test, y_train, y_test = train_test_split(X, y, random_state = 42)\n",
    "\n",
    "coefs_prelim = get_lr(X_train, y_train)\n",
    "\n",
    "coefs_prelim"
   ]
  },
  {
   "cell_type": "code",
   "execution_count": 11,
   "id": "55c87776-cbf0-4b2b-9279-938ea3e681e4",
   "metadata": {
    "tags": []
   },
   "outputs": [
    {
     "name": "stdout",
     "output_type": "stream",
     "text": [
      "Preliminary Model Cross-Validation Score: 0.7978262700625256\n",
      "Preliminary Model Training Score: 0.8450197314141747\n",
      "Preliminary Model Test Score: 0.8726916937552697\n"
     ]
    }
   ],
   "source": [
    "# print out evaluation scores of preliminary model.\n",
    "print(f'Preliminary Model Cross-Validation Score: {cross_val_score(ss_pipe, X_train, y_train).mean()}')\n",
    "print(f'Preliminary Model Training Score: {ss_pipe.score(X_train, y_train)}')\n",
    "print(f'Preliminary Model Test Score: {ss_pipe.score(X_test, y_test)}')"
   ]
  },
  {
   "cell_type": "code",
   "execution_count": 12,
   "id": "7480a81e-8d2f-4270-a28e-1cbc5055656e",
   "metadata": {
    "tags": []
   },
   "outputs": [
    {
     "data": {
      "text/plain": [
       "Overall Qual            24772.034819\n",
       "Gr Liv Area             13996.821627\n",
       "Year Built               9664.469433\n",
       "Neighborhood_NridgHt     9095.812099\n",
       "BsmtFin SF 1             8845.348449\n",
       "Neighborhood_StoneBr     7147.525295\n",
       "Lot Area                 6339.925147\n",
       "Garage Area              5959.832757\n",
       "Screen Porch             5708.856877\n",
       "Neighborhood_NoRidge     5413.739489\n",
       "TotRms AbvGrd            5312.446026\n",
       "Wood Deck SF             3615.033638\n",
       "Mas Vnr Area             2441.780500\n",
       "BsmtFin SF 2             2237.654662\n",
       "1st Flr SF               2170.996369\n",
       "3Ssn Porch               1755.071730\n",
       "Open Porch SF            1317.786572\n",
       "Enclosed Porch           1306.372684\n",
       "Total Bsmt SF            1244.140309\n",
       "2nd Flr SF                  0.000000\n",
       "Bsmt Unf SF                -0.000000\n",
       "Low Qual Fin SF          -575.533389\n",
       "Exter Qual_TA           -3244.657068\n",
       "Pool Area               -4662.900139\n",
       "Misc Val                -7136.818421\n",
       "Kitchen Qual_Gd        -10875.959816\n",
       "Kitchen Qual_TA        -14098.400476\n",
       "dtype: float64"
      ]
     },
     "execution_count": 12,
     "metadata": {},
     "output_type": "execute_result"
    }
   ],
   "source": [
    "# call LASSO coefficient function\n",
    "coefs_lasso_prelim = get_lasso_cv(X_train, y_train)\n",
    "\n",
    "coefs_lasso_prelim"
   ]
  },
  {
   "cell_type": "code",
   "execution_count": 13,
   "id": "60ce30c7-f682-424e-bb5c-763f64092e6d",
   "metadata": {
    "tags": []
   },
   "outputs": [
    {
     "name": "stdout",
     "output_type": "stream",
     "text": [
      "Preliminary Model LASSO Optimal Alpha: 236.4489412645407\n",
      "Preliminary Model LASSO Optimal Alpha Training Score: 0.8450402671695088\n",
      "Preliminary Model LASSO Optimal Alpha Test Score: 0.8738424310145548\n"
     ]
    }
   ],
   "source": [
    "# print LASSO evaluation scores\n",
    "print(f\"Preliminary Model LASSO Optimal Alpha: {lasso_cv_pipe['lasso_cv'].alpha_}\")\n",
    "print(f'Preliminary Model LASSO Optimal Alpha Training Score: {lasso_cv_pipe.score(X_train, y_train)}')\n",
    "print(f'Preliminary Model LASSO Optimal Alpha Test Score: {lasso_cv_pipe.score(X_test, y_test)}')"
   ]
  },
  {
   "cell_type": "code",
   "execution_count": 14,
   "id": "d94944c8-5b23-4348-864a-1d5ad91d1834",
   "metadata": {
    "tags": []
   },
   "outputs": [
    {
     "data": {
      "text/plain": [
       "2nd Flr SF     0.0\n",
       "Bsmt Unf SF   -0.0\n",
       "dtype: float64"
      ]
     },
     "execution_count": 14,
     "metadata": {},
     "output_type": "execute_result"
    }
   ],
   "source": [
    "# call get zeros function to pull out coefficients zeroed out\n",
    "zeros_prelim = get_zeros(coefs_lasso_prelim)\n",
    "\n",
    "zeros_prelim"
   ]
  },
  {
   "cell_type": "code",
   "execution_count": 15,
   "id": "8ca29d14-5ca7-494e-9e94-16aab37e4d83",
   "metadata": {
    "tags": []
   },
   "outputs": [
    {
     "name": "stdout",
     "output_type": "stream",
     "text": [
      "25\n"
     ]
    },
    {
     "data": {
      "text/plain": [
       "['Lot Area',\n",
       " 'Overall Qual',\n",
       " 'Year Built',\n",
       " 'Mas Vnr Area',\n",
       " 'BsmtFin SF 1',\n",
       " 'BsmtFin SF 2',\n",
       " 'Total Bsmt SF',\n",
       " '1st Flr SF',\n",
       " 'Low Qual Fin SF',\n",
       " 'Gr Liv Area',\n",
       " 'TotRms AbvGrd',\n",
       " 'Garage Area',\n",
       " 'Wood Deck SF',\n",
       " 'Open Porch SF',\n",
       " 'Enclosed Porch',\n",
       " '3Ssn Porch',\n",
       " 'Screen Porch',\n",
       " 'Pool Area',\n",
       " 'Misc Val',\n",
       " 'Neighborhood_NoRidge',\n",
       " 'Neighborhood_NridgHt',\n",
       " 'Neighborhood_StoneBr',\n",
       " 'Exter Qual_TA',\n",
       " 'Kitchen Qual_Gd',\n",
       " 'Kitchen Qual_TA']"
      ]
     },
     "execution_count": 15,
     "metadata": {},
     "output_type": "execute_result"
    }
   ],
   "source": [
    "# call cut zeros function to decrease features list for model 1\n",
    "features_1 = cut_zeros(list(X.columns), zeros_prelim)\n",
    "\n",
    "features_1"
   ]
  },
  {
   "cell_type": "markdown",
   "id": "80a80650-b03b-45e9-b320-1d9c5ebe692c",
   "metadata": {},
   "source": [
    "First thing to notice after running the first iteration of LASSO regularization is that the preliminary model and LASSO regularization perform almost as equally well according to the evaluarion metrics. The LASSO performs only slightly better.\n",
    "\n",
    "However, with LASSO, we do see that we can cut the 2nd floor square footage and basement unfinished square footage from our features. This allows us to conclude that 2nd floor and perhaps some of the basement footprint are less relevant to home sales price.\n",
    "\n",
    "Now, I will fit the model again with the reduced number of features."
   ]
  },
  {
   "cell_type": "code",
   "execution_count": 16,
   "id": "1ee02363-4405-4c27-80b7-b621009a8fed",
   "metadata": {
    "tags": []
   },
   "outputs": [
    {
     "data": {
      "text/plain": [
       "Overall Qual            24552.841782\n",
       "Gr Liv Area             13667.292856\n",
       "Year Built              10119.844571\n",
       "Neighborhood_NridgHt     9053.523650\n",
       "BsmtFin SF 1             9003.903242\n",
       "Neighborhood_StoneBr     7228.577026\n",
       "Lot Area                 6474.002896\n",
       "Screen Porch             5989.051515\n",
       "Garage Area              5895.096909\n",
       "TotRms AbvGrd            5641.681206\n",
       "Neighborhood_NoRidge     5607.510399\n",
       "Wood Deck SF             3844.312157\n",
       "BsmtFin SF 2             2493.365872\n",
       "Mas Vnr Area             2393.745025\n",
       "1st Flr SF               2050.674678\n",
       "3Ssn Porch               2035.722196\n",
       "Enclosed Porch           1766.997400\n",
       "Open Porch SF            1545.999350\n",
       "Total Bsmt SF            1178.015828\n",
       "Low Qual Fin SF          -846.363472\n",
       "Exter Qual_TA           -3253.222580\n",
       "Pool Area               -4958.661492\n",
       "Misc Val                -7441.232880\n",
       "Kitchen Qual_Gd        -12328.077391\n",
       "Kitchen Qual_TA        -15500.217960\n",
       "dtype: float64"
      ]
     },
     "execution_count": 16,
     "metadata": {},
     "output_type": "execute_result"
    }
   ],
   "source": [
    "X = homes_prelim[features_1]\n",
    "y = homes_prelim['SalePrice']\n",
    "\n",
    "X_train, X_test, y_train, y_test = train_test_split(X, y, random_state = 42)\n",
    "\n",
    "coefs_1 = get_lr(X_train, y_train)\n",
    "\n",
    "coefs_1"
   ]
  },
  {
   "cell_type": "code",
   "execution_count": 17,
   "id": "1de1f0a9-0e7f-4d98-87cc-59591e01ab14",
   "metadata": {
    "tags": []
   },
   "outputs": [
    {
     "name": "stdout",
     "output_type": "stream",
     "text": [
      "Model 1 Cross-Validation Score: 0.7977928426410619\n",
      "Model 1 Training Score: 0.8452619827463943\n",
      "Model 1 Test Score: 0.8731138091087296\n"
     ]
    }
   ],
   "source": [
    "print(f'Model 1 Cross-Validation Score: {cross_val_score(ss_pipe, X_train, y_train).mean()}')\n",
    "print(f'Model 1 Training Score: {ss_pipe.score(X_train, y_train)}')\n",
    "print(f'Model 1 Test Score: {ss_pipe.score(X_test, y_test)}')"
   ]
  },
  {
   "cell_type": "markdown",
   "id": "d351b2e9-0521-4479-a425-b9fc2d308e86",
   "metadata": {},
   "source": [
    "We can see that model 1 is performing about as well as the preliminary model and LASSO. For model 2, we will fit the LASSO again, drop features with a coefficient value of zero and then, fit to our linear regression.\n",
    "\n",
    "At this point, before I continue iterating, I am going to select a few features to drop for a Kaggle submission. The training, test, and cross-validation scores are all currently very high for Model 1. I believe that by selecting a few features which a probably multi-colinear or of small correlation on the sale price, I mgith be able to develop a good enough predictive model for the Kaggle submission in Part 5. I will eliminate three of the porch features, including screen porch, three-season porch and enclosed porch to leave just open porch square footage. Also, I will drop pool area as it appear to have a somewhat smaller negative correlation with price. I could choose to eliminate other features, but for the purposes of the Kaggle competition submission, I want to just get a slightly more simplified model with less variance without starting to sacrifice predictive performance."
   ]
  },
  {
   "cell_type": "code",
   "execution_count": 22,
   "id": "2a21f520-74a8-4a2d-b24f-21a95ca5020d",
   "metadata": {
    "tags": []
   },
   "outputs": [
    {
     "data": {
      "text/html": [
       "<div>\n",
       "<style scoped>\n",
       "    .dataframe tbody tr th:only-of-type {\n",
       "        vertical-align: middle;\n",
       "    }\n",
       "\n",
       "    .dataframe tbody tr th {\n",
       "        vertical-align: top;\n",
       "    }\n",
       "\n",
       "    .dataframe thead th {\n",
       "        text-align: right;\n",
       "    }\n",
       "</style>\n",
       "<table border=\"1\" class=\"dataframe\">\n",
       "  <thead>\n",
       "    <tr style=\"text-align: right;\">\n",
       "      <th></th>\n",
       "      <th>Overall Qual</th>\n",
       "      <th>Gr Liv Area</th>\n",
       "      <th>Year Built</th>\n",
       "      <th>Neighborhood_NridgHt</th>\n",
       "      <th>BsmtFin SF 1</th>\n",
       "      <th>Neighborhood_StoneBr</th>\n",
       "      <th>Lot Area</th>\n",
       "      <th>Garage Area</th>\n",
       "      <th>TotRms AbvGrd</th>\n",
       "      <th>Neighborhood_NoRidge</th>\n",
       "      <th>...</th>\n",
       "      <th>Mas Vnr Area</th>\n",
       "      <th>1st Flr SF</th>\n",
       "      <th>Open Porch SF</th>\n",
       "      <th>Total Bsmt SF</th>\n",
       "      <th>Low Qual Fin SF</th>\n",
       "      <th>Exter Qual_TA</th>\n",
       "      <th>Misc Val</th>\n",
       "      <th>Kitchen Qual_Gd</th>\n",
       "      <th>Kitchen Qual_TA</th>\n",
       "      <th>SalePrice</th>\n",
       "    </tr>\n",
       "  </thead>\n",
       "  <tbody>\n",
       "    <tr>\n",
       "      <th>0</th>\n",
       "      <td>6</td>\n",
       "      <td>1479</td>\n",
       "      <td>1976</td>\n",
       "      <td>0</td>\n",
       "      <td>533.0</td>\n",
       "      <td>0</td>\n",
       "      <td>13517</td>\n",
       "      <td>475.0</td>\n",
       "      <td>6</td>\n",
       "      <td>0</td>\n",
       "      <td>...</td>\n",
       "      <td>289.0</td>\n",
       "      <td>725</td>\n",
       "      <td>44</td>\n",
       "      <td>725.0</td>\n",
       "      <td>0</td>\n",
       "      <td>0</td>\n",
       "      <td>0</td>\n",
       "      <td>1</td>\n",
       "      <td>0</td>\n",
       "      <td>130500</td>\n",
       "    </tr>\n",
       "    <tr>\n",
       "      <th>1</th>\n",
       "      <td>7</td>\n",
       "      <td>2122</td>\n",
       "      <td>1996</td>\n",
       "      <td>0</td>\n",
       "      <td>637.0</td>\n",
       "      <td>0</td>\n",
       "      <td>11492</td>\n",
       "      <td>559.0</td>\n",
       "      <td>8</td>\n",
       "      <td>0</td>\n",
       "      <td>...</td>\n",
       "      <td>132.0</td>\n",
       "      <td>913</td>\n",
       "      <td>74</td>\n",
       "      <td>913.0</td>\n",
       "      <td>0</td>\n",
       "      <td>0</td>\n",
       "      <td>0</td>\n",
       "      <td>1</td>\n",
       "      <td>0</td>\n",
       "      <td>220000</td>\n",
       "    </tr>\n",
       "    <tr>\n",
       "      <th>2</th>\n",
       "      <td>5</td>\n",
       "      <td>1057</td>\n",
       "      <td>1953</td>\n",
       "      <td>0</td>\n",
       "      <td>731.0</td>\n",
       "      <td>0</td>\n",
       "      <td>7922</td>\n",
       "      <td>246.0</td>\n",
       "      <td>5</td>\n",
       "      <td>0</td>\n",
       "      <td>...</td>\n",
       "      <td>0.0</td>\n",
       "      <td>1057</td>\n",
       "      <td>52</td>\n",
       "      <td>1057.0</td>\n",
       "      <td>0</td>\n",
       "      <td>1</td>\n",
       "      <td>0</td>\n",
       "      <td>1</td>\n",
       "      <td>0</td>\n",
       "      <td>109000</td>\n",
       "    </tr>\n",
       "    <tr>\n",
       "      <th>3</th>\n",
       "      <td>5</td>\n",
       "      <td>1444</td>\n",
       "      <td>2006</td>\n",
       "      <td>0</td>\n",
       "      <td>0.0</td>\n",
       "      <td>0</td>\n",
       "      <td>9802</td>\n",
       "      <td>400.0</td>\n",
       "      <td>7</td>\n",
       "      <td>0</td>\n",
       "      <td>...</td>\n",
       "      <td>0.0</td>\n",
       "      <td>744</td>\n",
       "      <td>0</td>\n",
       "      <td>384.0</td>\n",
       "      <td>0</td>\n",
       "      <td>1</td>\n",
       "      <td>0</td>\n",
       "      <td>0</td>\n",
       "      <td>1</td>\n",
       "      <td>174000</td>\n",
       "    </tr>\n",
       "    <tr>\n",
       "      <th>4</th>\n",
       "      <td>6</td>\n",
       "      <td>1445</td>\n",
       "      <td>1900</td>\n",
       "      <td>0</td>\n",
       "      <td>0.0</td>\n",
       "      <td>0</td>\n",
       "      <td>14235</td>\n",
       "      <td>484.0</td>\n",
       "      <td>6</td>\n",
       "      <td>0</td>\n",
       "      <td>...</td>\n",
       "      <td>0.0</td>\n",
       "      <td>831</td>\n",
       "      <td>59</td>\n",
       "      <td>676.0</td>\n",
       "      <td>0</td>\n",
       "      <td>1</td>\n",
       "      <td>0</td>\n",
       "      <td>0</td>\n",
       "      <td>1</td>\n",
       "      <td>138500</td>\n",
       "    </tr>\n",
       "  </tbody>\n",
       "</table>\n",
       "<p>5 rows × 22 columns</p>\n",
       "</div>"
      ],
      "text/plain": [
       "   Overall Qual  Gr Liv Area  Year Built  Neighborhood_NridgHt  BsmtFin SF 1  \\\n",
       "0             6         1479        1976                     0         533.0   \n",
       "1             7         2122        1996                     0         637.0   \n",
       "2             5         1057        1953                     0         731.0   \n",
       "3             5         1444        2006                     0           0.0   \n",
       "4             6         1445        1900                     0           0.0   \n",
       "\n",
       "   Neighborhood_StoneBr  Lot Area  Garage Area  TotRms AbvGrd  \\\n",
       "0                     0     13517        475.0              6   \n",
       "1                     0     11492        559.0              8   \n",
       "2                     0      7922        246.0              5   \n",
       "3                     0      9802        400.0              7   \n",
       "4                     0     14235        484.0              6   \n",
       "\n",
       "   Neighborhood_NoRidge  ...  Mas Vnr Area  1st Flr SF  Open Porch SF  \\\n",
       "0                     0  ...         289.0         725             44   \n",
       "1                     0  ...         132.0         913             74   \n",
       "2                     0  ...           0.0        1057             52   \n",
       "3                     0  ...           0.0         744              0   \n",
       "4                     0  ...           0.0         831             59   \n",
       "\n",
       "   Total Bsmt SF  Low Qual Fin SF  Exter Qual_TA  Misc Val  Kitchen Qual_Gd  \\\n",
       "0          725.0                0              0         0                1   \n",
       "1          913.0                0              0         0                1   \n",
       "2         1057.0                0              1         0                1   \n",
       "3          384.0                0              1         0                0   \n",
       "4          676.0                0              1         0                0   \n",
       "\n",
       "   Kitchen Qual_TA  SalePrice  \n",
       "0                0     130500  \n",
       "1                0     220000  \n",
       "2                0     109000  \n",
       "3                1     174000  \n",
       "4                1     138500  \n",
       "\n",
       "[5 rows x 22 columns]"
      ]
     },
     "execution_count": 22,
     "metadata": {},
     "output_type": "execute_result"
    }
   ],
   "source": [
    "dropped_columns = ['Screen Porch', '3Ssn Porch', 'Enclosed Porch', 'Pool Area']\n",
    "kaggle_features = [col for col in list(coefs_1.index) if col not in dropped_columns]\n",
    "kaggle_features.append('SalePrice')\n",
    "\n",
    "kaggle_train = homes_prelim[kaggle_features]\n",
    "\n",
    "kaggle_train.head()"
   ]
  },
  {
   "cell_type": "markdown",
   "id": "f8d31b28-be49-48d0-89c2-6be74f5c0aa0",
   "metadata": {},
   "source": [
    "Now that I have created a new DataFrame with the features of interest I will save and then read it into my Part 5 notebook to complete the Kaggle submission."
   ]
  },
  {
   "cell_type": "code",
   "execution_count": 24,
   "id": "311a6e82-5410-4b60-b58d-866917d2ac14",
   "metadata": {
    "tags": []
   },
   "outputs": [],
   "source": [
    "kaggle_train.to_csv('../datasets/kaggle_train_submission.csv', index = False)"
   ]
  },
  {
   "cell_type": "markdown",
   "id": "bbea6a6c-9c15-470d-9ec7-3cb0e3664c42",
   "metadata": {},
   "source": [
    "---\n",
    "\n",
    "## Model 2"
   ]
  },
  {
   "cell_type": "code",
   "execution_count": 52,
   "id": "71c8955b-43f7-4217-a013-5e26644cdee7",
   "metadata": {
    "tags": []
   },
   "outputs": [
    {
     "data": {
      "text/plain": [
       "Overall Qual            24706.556375\n",
       "Gr Liv Area             13900.953250\n",
       "Year Built               9795.820182\n",
       "Neighborhood_NridgHt     9085.033250\n",
       "BsmtFin SF 1             8891.549195\n",
       "Neighborhood_StoneBr     7172.139118\n",
       "Lot Area                 6380.627857\n",
       "Garage Area              5940.458990\n",
       "Screen Porch             5791.262403\n",
       "Neighborhood_NoRidge     5470.774307\n",
       "TotRms AbvGrd            5408.512421\n",
       "Wood Deck SF             3682.303603\n",
       "Mas Vnr Area             2427.494215\n",
       "BsmtFin SF 2             2312.933579\n",
       "1st Flr SF               2132.657737\n",
       "3Ssn Porch               1837.797957\n",
       "Enclosed Porch           1441.495036\n",
       "Open Porch SF            1384.862851\n",
       "Total Bsmt SF            1227.223341\n",
       "Low Qual Fin SF          -655.387942\n",
       "Exter Qual_TA           -3248.110254\n",
       "Pool Area               -4749.930946\n",
       "Misc Val                -7226.219952\n",
       "Kitchen Qual_Gd        -11298.723884\n",
       "Kitchen Qual_TA        -14507.812469\n",
       "dtype: float64"
      ]
     },
     "execution_count": 52,
     "metadata": {},
     "output_type": "execute_result"
    }
   ],
   "source": [
    "# call LASSO coefficient function\n",
    "coefs_lasso_1 = get_lasso_cv(X_train, y_train)\n",
    "\n",
    "coefs_lasso_1"
   ]
  },
  {
   "cell_type": "code",
   "execution_count": 53,
   "id": "bc67fe3e-2d18-40cf-a159-ebc469a2d325",
   "metadata": {
    "tags": []
   },
   "outputs": [
    {
     "name": "stdout",
     "output_type": "stream",
     "text": [
      "Model 1 LASSO Optimal Alpha: 166.81005372000593\n",
      "Model 1 LASSO Optimal Alpha Training Score: 0.8451511172752915\n",
      "Model 1 LASSO Optimal Alpha Test Score: 0.8736709588585718\n"
     ]
    }
   ],
   "source": [
    "# print LASSO evaluation scores\n",
    "print(f\"Model 1 LASSO Optimal Alpha: {lasso_cv_pipe['lasso_cv'].alpha_}\")\n",
    "print(f'Model 1 LASSO Optimal Alpha Training Score: {lasso_cv_pipe.score(X_train, y_train)}')\n",
    "print(f'Model 1 LASSO Optimal Alpha Test Score: {lasso_cv_pipe.score(X_test, y_test)}')"
   ]
  },
  {
   "cell_type": "code",
   "execution_count": 54,
   "id": "de34d290-cf58-4b12-a37d-27fc38902016",
   "metadata": {
    "tags": []
   },
   "outputs": [
    {
     "data": {
      "text/plain": [
       "Series([], dtype: float64)"
      ]
     },
     "execution_count": 54,
     "metadata": {},
     "output_type": "execute_result"
    }
   ],
   "source": [
    "# call get zeros function to pull out coefficients zeroed out\n",
    "zeros_1 = get_zeros(coefs_lasso_1)\n",
    "\n",
    "zeros_1"
   ]
  },
  {
   "cell_type": "markdown",
   "id": "a8e56f4e-5acf-4f2f-a279-36fad91f5a7a",
   "metadata": {},
   "source": [
    "Once again, the LASSO is performing about as well as Model 1 when we compare the evaluation metrics. However, at this point there are no features zeroing out. Instead, I will try using a mask to eliminate some of the features which had a very low magnitude correlation coefficient between -2000 and 2000. This will eliminate three different porch areas, the total basement square footage, and low quality finished square footage."
   ]
  },
  {
   "cell_type": "code",
   "execution_count": 55,
   "id": "dfc46e89-9b35-43f4-a11c-4d3b5f4ed673",
   "metadata": {
    "tags": []
   },
   "outputs": [
    {
     "data": {
      "text/plain": [
       "Overall Qual            24706.556375\n",
       "Gr Liv Area             13900.953250\n",
       "Year Built               9795.820182\n",
       "Neighborhood_NridgHt     9085.033250\n",
       "BsmtFin SF 1             8891.549195\n",
       "Neighborhood_StoneBr     7172.139118\n",
       "Lot Area                 6380.627857\n",
       "Garage Area              5940.458990\n",
       "Screen Porch             5791.262403\n",
       "Neighborhood_NoRidge     5470.774307\n",
       "TotRms AbvGrd            5408.512421\n",
       "Wood Deck SF             3682.303603\n",
       "Mas Vnr Area             2427.494215\n",
       "BsmtFin SF 2             2312.933579\n",
       "1st Flr SF               2132.657737\n",
       "Exter Qual_TA           -3248.110254\n",
       "Pool Area               -4749.930946\n",
       "Misc Val                -7226.219952\n",
       "Kitchen Qual_Gd        -11298.723884\n",
       "Kitchen Qual_TA        -14507.812469\n",
       "dtype: float64"
      ]
     },
     "execution_count": 55,
     "metadata": {},
     "output_type": "execute_result"
    }
   ],
   "source": [
    "# makes a list of all features with coefficients less than magnitude 2000\n",
    "features_2 = coefs_lasso_1[abs(coefs_lasso_1) > 2000]\n",
    "\n",
    "features_2"
   ]
  },
  {
   "cell_type": "code",
   "execution_count": 56,
   "id": "946c69c9-e0c6-4e06-b389-660b3b4799bc",
   "metadata": {
    "tags": []
   },
   "outputs": [
    {
     "data": {
      "text/plain": [
       "Overall Qual            25108.204239\n",
       "Gr Liv Area             14115.496520\n",
       "Year Built               9464.898697\n",
       "BsmtFin SF 1             9304.687897\n",
       "Neighborhood_NridgHt     8934.235927\n",
       "Neighborhood_StoneBr     7090.460234\n",
       "Lot Area                 6563.811627\n",
       "Garage Area              6138.190044\n",
       "Screen Porch             5735.600569\n",
       "Neighborhood_NoRidge     5639.868950\n",
       "TotRms AbvGrd            5307.390598\n",
       "Wood Deck SF             3553.630831\n",
       "1st Flr SF               3131.174423\n",
       "BsmtFin SF 2             2559.397991\n",
       "Mas Vnr Area             2335.051396\n",
       "Exter Qual_TA           -3586.795554\n",
       "Pool Area               -4997.248172\n",
       "Misc Val                -7295.486734\n",
       "Kitchen Qual_Gd        -12186.765039\n",
       "Kitchen Qual_TA        -15191.200545\n",
       "dtype: float64"
      ]
     },
     "execution_count": 56,
     "metadata": {},
     "output_type": "execute_result"
    }
   ],
   "source": [
    "X = homes_prelim[features_2.index]\n",
    "y = homes_prelim['SalePrice']\n",
    "\n",
    "X_train, X_test, y_train, y_test = train_test_split(X, y, random_state = 42)\n",
    "\n",
    "coefs_2 = get_lr(X_train, y_train)\n",
    "\n",
    "coefs_2"
   ]
  },
  {
   "cell_type": "code",
   "execution_count": 57,
   "id": "dabc9f67-0624-4e6f-b849-fcb9a95d6011",
   "metadata": {
    "tags": []
   },
   "outputs": [
    {
     "name": "stdout",
     "output_type": "stream",
     "text": [
      "Model 2 Cross-Validation Score: 0.799627990457003\n",
      "Model 2 Training Score: 0.8438380296941601\n",
      "Model 2 Test Score: 0.8726702155450473\n"
     ]
    }
   ],
   "source": [
    "print(f'Model 2 Cross-Validation Score: {cross_val_score(ss_pipe, X_train, y_train).mean()}')\n",
    "print(f'Model 2 Training Score: {ss_pipe.score(X_train, y_train)}')\n",
    "print(f'Model 2 Test Score: {ss_pipe.score(X_test, y_test)}')"
   ]
  },
  {
   "cell_type": "markdown",
   "id": "1927cc28-668c-42a4-9d02-806482509006",
   "metadata": {},
   "source": [
    "After eliminating the five features, the model is still performing well and representing a good fit with our sales data. We can somewhat confidently say that most porch areas are not highly correlated with home sales price. We shall see if the other basement square footage measurements have a lasting impact as we continue to eliminate features on our model. However, it is important to note that in Part 1, we did see a strong correlation between first floor and total basement square footage which is unsurprising given these are probably nearly the same in most homes with a basement. Eliminating this colinear relationship also allows us to more confidently presume that our multi-linear regression assumptions are holding true.\n",
    "\n",
    "I will run another LASSO regularization to attempt to furth winnow the square footage and area features."
   ]
  },
  {
   "cell_type": "markdown",
   "id": "234224d9-97b7-43a3-b467-0ccf9070b6cf",
   "metadata": {},
   "source": [
    "---\n",
    "\n",
    "## Model 3"
   ]
  },
  {
   "cell_type": "code",
   "execution_count": 58,
   "id": "697b18b6-dab6-4ee0-a916-1bd0127abb61",
   "metadata": {},
   "outputs": [
    {
     "data": {
      "text/plain": [
       "Overall Qual            25232.530135\n",
       "Gr Liv Area             14332.293708\n",
       "Year Built               9247.493534\n",
       "BsmtFin SF 1             9172.229360\n",
       "Neighborhood_NridgHt     8987.455901\n",
       "Neighborhood_StoneBr     7040.499934\n",
       "Lot Area                 6433.928096\n",
       "Garage Area              6152.365558\n",
       "Screen Porch             5563.624898\n",
       "Neighborhood_NoRidge     5468.517356\n",
       "TotRms AbvGrd            5085.088574\n",
       "Wood Deck SF             3418.242140\n",
       "1st Flr SF               3212.308881\n",
       "Mas Vnr Area             2383.652613\n",
       "BsmtFin SF 2             2352.076997\n",
       "Exter Qual_TA           -3540.674810\n",
       "Pool Area               -4757.723700\n",
       "Misc Val                -7068.993091\n",
       "Kitchen Qual_Gd        -11074.549383\n",
       "Kitchen Qual_TA        -14138.893959\n",
       "dtype: float64"
      ]
     },
     "execution_count": 58,
     "metadata": {},
     "output_type": "execute_result"
    }
   ],
   "source": [
    "# call LASSO coefficient function\n",
    "coefs_lasso_2 = get_lasso_cv(X_train, y_train)\n",
    "\n",
    "coefs_lasso_2"
   ]
  },
  {
   "cell_type": "code",
   "execution_count": 59,
   "id": "43720277-7641-4f10-9831-c85615fe7016",
   "metadata": {},
   "outputs": [
    {
     "name": "stdout",
     "output_type": "stream",
     "text": [
      "Model 2 LASSO Optimal Alpha: 187.3817422860383\n",
      "Model 2 LASSO Optimal Alpha Training Score: 0.8437320180211089\n",
      "Model 2 LASSO Optimal Alpha Test Score: 0.8732305000716292\n"
     ]
    }
   ],
   "source": [
    "# print LASSO evaluation scores\n",
    "print(f\"Model 2 LASSO Optimal Alpha: {lasso_cv_pipe['lasso_cv'].alpha_}\")\n",
    "print(f'Model 2 LASSO Optimal Alpha Training Score: {lasso_cv_pipe.score(X_train, y_train)}')\n",
    "print(f'Model 2 LASSO Optimal Alpha Test Score: {lasso_cv_pipe.score(X_test, y_test)}')"
   ]
  },
  {
   "cell_type": "markdown",
   "id": "a7dffb8e-71af-42bc-a2a7-e11361a35f9b",
   "metadata": {},
   "source": [
    "Once again, the LASSO cross-validation is holding steady with high and close evaluation metrics, but no features cross-validation scores are zeroing out. At this point for another iteration in Model 3, I have two options. I can either do what I did in the last iteration in Model 2 and choose a low magnitude threshold of which correlation coefficients to cut from the model's features or I can return to highly correlated features from my exploratory data analysis in Part 1.\n",
    "\n",
    "Looking back at the highly correlated features from Part 1's heatmap, it looks like by Model 3 almost all of those confounding features have been eliminated. For example, garage area is still in this model with a strong correlation coefficient but garage cars is not present in this model. The only strongly obvious correlation from Part 1 is between above ground living area and total rooms above ground. In the final iteration of the model, I may choose to eliminate total rooms above ground to see if this makes a more reliable model, but for now, since both have large correlation coefficients, I will leave them both intact.\n",
    "\n",
    "I will use a mask as before to eliminate all the features with correlation coefficients below a magnitude of 4,000. This will cut the wood deck square footage, first floor square footage, masonry veneer area, basement finished area 2 square footage, and typical or average exterior quality."
   ]
  },
  {
   "cell_type": "code",
   "execution_count": 60,
   "id": "3569b5d3-741d-4bc1-b99d-f8b3ad336e3b",
   "metadata": {
    "tags": []
   },
   "outputs": [
    {
     "data": {
      "text/plain": [
       "Overall Qual            25232.530135\n",
       "Gr Liv Area             14332.293708\n",
       "Year Built               9247.493534\n",
       "BsmtFin SF 1             9172.229360\n",
       "Neighborhood_NridgHt     8987.455901\n",
       "Neighborhood_StoneBr     7040.499934\n",
       "Lot Area                 6433.928096\n",
       "Garage Area              6152.365558\n",
       "Screen Porch             5563.624898\n",
       "Neighborhood_NoRidge     5468.517356\n",
       "TotRms AbvGrd            5085.088574\n",
       "Pool Area               -4757.723700\n",
       "Misc Val                -7068.993091\n",
       "Kitchen Qual_Gd        -11074.549383\n",
       "Kitchen Qual_TA        -14138.893959\n",
       "dtype: float64"
      ]
     },
     "execution_count": 60,
     "metadata": {},
     "output_type": "execute_result"
    }
   ],
   "source": [
    "# makes a list of all features with coefficients less than magnitude 4000\n",
    "features_3 = coefs_lasso_2[abs(coefs_lasso_2) > 4000]\n",
    "\n",
    "features_3"
   ]
  },
  {
   "cell_type": "code",
   "execution_count": 61,
   "id": "5fd979e9-54cc-4533-938a-952bedb4c2aa",
   "metadata": {},
   "outputs": [
    {
     "data": {
      "text/plain": [
       "Overall Qual            26612.506176\n",
       "Gr Liv Area             16831.390807\n",
       "Year Built              10922.678144\n",
       "BsmtFin SF 1            10130.513845\n",
       "Neighborhood_NridgHt     9922.684133\n",
       "Lot Area                 7649.234901\n",
       "Neighborhood_StoneBr     7323.979439\n",
       "Garage Area              6939.017246\n",
       "Neighborhood_NoRidge     6479.113591\n",
       "Screen Porch             5641.160097\n",
       "TotRms AbvGrd            4161.454392\n",
       "Pool Area               -4460.324940\n",
       "Misc Val                -6778.097506\n",
       "Kitchen Qual_Gd        -12642.785078\n",
       "Kitchen Qual_TA        -16863.135783\n",
       "dtype: float64"
      ]
     },
     "execution_count": 61,
     "metadata": {},
     "output_type": "execute_result"
    }
   ],
   "source": [
    "X = homes_prelim[features_3.index]\n",
    "y = homes_prelim['SalePrice']\n",
    "\n",
    "X_train, X_test, y_train, y_test = train_test_split(X, y, random_state = 42)\n",
    "\n",
    "coefs_3 = get_lr(X_train, y_train)\n",
    "\n",
    "coefs_3"
   ]
  },
  {
   "cell_type": "code",
   "execution_count": 62,
   "id": "7b8b1804-c8a0-47c2-a990-8c6835fe54c8",
   "metadata": {},
   "outputs": [
    {
     "name": "stdout",
     "output_type": "stream",
     "text": [
      "Model 3 Cross-Validation Score: 0.7963998069663899\n",
      "Model 3 Training Score: 0.8387874785508521\n",
      "Model 3 Test Score: 0.862733078462389\n"
     ]
    }
   ],
   "source": [
    "print(f'Model 3 Cross-Validation Score: {cross_val_score(ss_pipe, X_train, y_train).mean()}')\n",
    "print(f'Model 3 Training Score: {ss_pipe.score(X_train, y_train)}')\n",
    "print(f'Model 3 Test Score: {ss_pipe.score(X_test, y_test)}')"
   ]
  },
  {
   "cell_type": "markdown",
   "id": "33276877-25f9-4278-b1a6-b36d73f06fc1",
   "metadata": {},
   "source": [
    "The training and test scores in Model 3 are showing a slight dip in performance, but are still very well fit to our data. I shall run at least one more LASSO cross-validation and see if I can get our final production model down to ten or so features."
   ]
  },
  {
   "cell_type": "markdown",
   "id": "36515c6d-563b-4e40-99b8-a08fd0e24099",
   "metadata": {},
   "source": [
    "---\n",
    "\n",
    "## Model 4"
   ]
  },
  {
   "cell_type": "code",
   "execution_count": 63,
   "id": "dc97c2f6-6d36-4f90-990b-60b6a1b2b7ec",
   "metadata": {},
   "outputs": [
    {
     "data": {
      "text/plain": [
       "Overall Qual            26772.368434\n",
       "Gr Liv Area             17068.787247\n",
       "Year Built              10629.432842\n",
       "BsmtFin SF 1            10018.756463\n",
       "Neighborhood_NridgHt    10004.372138\n",
       "Lot Area                 7480.436940\n",
       "Neighborhood_StoneBr     7256.393071\n",
       "Garage Area              6950.865804\n",
       "Neighborhood_NoRidge     6243.122732\n",
       "Screen Porch             5424.292571\n",
       "TotRms AbvGrd            3938.234791\n",
       "Pool Area               -4188.591034\n",
       "Misc Val                -6491.108432\n",
       "Kitchen Qual_Gd        -11272.662240\n",
       "Kitchen Qual_TA        -15547.269651\n",
       "dtype: float64"
      ]
     },
     "execution_count": 63,
     "metadata": {},
     "output_type": "execute_result"
    }
   ],
   "source": [
    "# call LASSO coefficient function\n",
    "coefs_lasso_3 = get_lasso_cv(X_train, y_train)\n",
    "\n",
    "coefs_lasso_3"
   ]
  },
  {
   "cell_type": "code",
   "execution_count": 64,
   "id": "55c0de65-4c7e-472a-b514-ca6cdb10534e",
   "metadata": {},
   "outputs": [
    {
     "name": "stdout",
     "output_type": "stream",
     "text": [
      "Model 3 LASSO Optimal Alpha: 236.4489412645407\n",
      "Model 3 LASSO Optimal Alpha Training Score: 0.838634942548947\n",
      "Model 3 LASSO Optimal Alpha Test Score: 0.8634235739635261\n"
     ]
    }
   ],
   "source": [
    "# print LASSO evaluation scores\n",
    "print(f\"Model 3 LASSO Optimal Alpha: {lasso_cv_pipe['lasso_cv'].alpha_}\")\n",
    "print(f'Model 3 LASSO Optimal Alpha Training Score: {lasso_cv_pipe.score(X_train, y_train)}')\n",
    "print(f'Model 3 LASSO Optimal Alpha Test Score: {lasso_cv_pipe.score(X_test, y_test)}')"
   ]
  },
  {
   "cell_type": "markdown",
   "id": "993eb966-c2ac-4334-81a2-c725086c718e",
   "metadata": {},
   "source": [
    "The LASSO model is still a good fit and performing well on our sales data. There are no zero coefficients again, so I will cut features whose coefficient threshold is below 6,000. This will eliminate the multi-colinear relationship between the living area and the total rooms. This will also cut the screen porch area and pool area."
   ]
  },
  {
   "cell_type": "code",
   "execution_count": 65,
   "id": "2b7ab285-a5bd-423d-9916-9b652a511d0a",
   "metadata": {},
   "outputs": [
    {
     "data": {
      "text/plain": [
       "Overall Qual            26772.368434\n",
       "Gr Liv Area             17068.787247\n",
       "Year Built              10629.432842\n",
       "BsmtFin SF 1            10018.756463\n",
       "Neighborhood_NridgHt    10004.372138\n",
       "Lot Area                 7480.436940\n",
       "Neighborhood_StoneBr     7256.393071\n",
       "Garage Area              6950.865804\n",
       "Neighborhood_NoRidge     6243.122732\n",
       "Misc Val                -6491.108432\n",
       "Kitchen Qual_Gd        -11272.662240\n",
       "Kitchen Qual_TA        -15547.269651\n",
       "dtype: float64"
      ]
     },
     "execution_count": 65,
     "metadata": {},
     "output_type": "execute_result"
    }
   ],
   "source": [
    "# makes a list of all features with coefficients less than magnitude 6000\n",
    "features_4 = coefs_lasso_3[abs(coefs_lasso_3) > 6000]\n",
    "\n",
    "features_4"
   ]
  },
  {
   "cell_type": "code",
   "execution_count": 66,
   "id": "40b18571-de5c-438f-84be-28f8f2749781",
   "metadata": {
    "tags": []
   },
   "outputs": [
    {
     "data": {
      "text/plain": [
       "Overall Qual            27051.771947\n",
       "Gr Liv Area             20481.178373\n",
       "Year Built              10114.943615\n",
       "Neighborhood_NridgHt    10046.430748\n",
       "BsmtFin SF 1             9596.185941\n",
       "Neighborhood_StoneBr     7759.377663\n",
       "Lot Area                 7365.252094\n",
       "Garage Area              7218.801742\n",
       "Neighborhood_NoRidge     6425.062843\n",
       "Misc Val                -6750.752086\n",
       "Kitchen Qual_Gd        -13065.402829\n",
       "Kitchen Qual_TA        -16869.590071\n",
       "dtype: float64"
      ]
     },
     "execution_count": 66,
     "metadata": {},
     "output_type": "execute_result"
    }
   ],
   "source": [
    "X = homes_prelim[features_4.index]\n",
    "y = homes_prelim['SalePrice']\n",
    "\n",
    "X_train, X_test, y_train, y_test = train_test_split(X, y, random_state = 42)\n",
    "\n",
    "coefs_4 = get_lr(X_train, y_train)\n",
    "\n",
    "coefs_4"
   ]
  },
  {
   "cell_type": "code",
   "execution_count": 67,
   "id": "ab8162c0-e225-48c2-b443-346a1f5b83d3",
   "metadata": {
    "tags": []
   },
   "outputs": [
    {
     "name": "stdout",
     "output_type": "stream",
     "text": [
      "Model 4 Cross-Validation Score: 0.7914864133069319\n",
      "Model 4 Training Score: 0.8304834156496079\n",
      "Model 4 Test Score: 0.870712794198351\n"
     ]
    }
   ],
   "source": [
    "print(f'Model 4 Cross-Validation Score: {cross_val_score(ss_pipe, X_train, y_train).mean()}')\n",
    "print(f'Model 4 Training Score: {ss_pipe.score(X_train, y_train)}')\n",
    "print(f'Model 4 Test Score: {ss_pipe.score(X_test, y_test)}')"
   ]
  },
  {
   "cell_type": "markdown",
   "id": "9c776f09-bcdc-4a0f-83a1-d3f1efed8210",
   "metadata": {},
   "source": [
    "Model 4 maintain high training and test scores of approximately 0.83 and 0.87, respectively. we have not compromised fitness of our model despite paring down to 12 features. I will attempt one final iteration most likely before declaring a production model."
   ]
  },
  {
   "cell_type": "markdown",
   "id": "550cfa2d-8dd4-42b6-ba57-f70ba4d0b689",
   "metadata": {},
   "source": [
    "---\n",
    "\n",
    "## Model 5\n",
    "\n",
    "In this likely final model, I will begin first by using the Model 4 features to create a heatmap to look for colinear features since this is likely the best way to eliminate any multi-colinear features and assume that our model is not violating at least one linear regression assumption."
   ]
  },
  {
   "cell_type": "code",
   "execution_count": 68,
   "id": "6c5de7d7-0f8a-4ecf-b1f1-cd44db4203fc",
   "metadata": {
    "tags": []
   },
   "outputs": [
    {
     "data": {
      "text/html": [
       "<div>\n",
       "<style scoped>\n",
       "    .dataframe tbody tr th:only-of-type {\n",
       "        vertical-align: middle;\n",
       "    }\n",
       "\n",
       "    .dataframe tbody tr th {\n",
       "        vertical-align: top;\n",
       "    }\n",
       "\n",
       "    .dataframe thead th {\n",
       "        text-align: right;\n",
       "    }\n",
       "</style>\n",
       "<table border=\"1\" class=\"dataframe\">\n",
       "  <thead>\n",
       "    <tr style=\"text-align: right;\">\n",
       "      <th></th>\n",
       "      <th>Overall Qual</th>\n",
       "      <th>Gr Liv Area</th>\n",
       "      <th>Year Built</th>\n",
       "      <th>BsmtFin SF 1</th>\n",
       "      <th>Neighborhood_NridgHt</th>\n",
       "      <th>Lot Area</th>\n",
       "      <th>Neighborhood_StoneBr</th>\n",
       "      <th>Garage Area</th>\n",
       "      <th>Neighborhood_NoRidge</th>\n",
       "      <th>Misc Val</th>\n",
       "      <th>Kitchen Qual_Gd</th>\n",
       "      <th>Kitchen Qual_TA</th>\n",
       "      <th>Id</th>\n",
       "      <th>SalePrice</th>\n",
       "    </tr>\n",
       "  </thead>\n",
       "  <tbody>\n",
       "    <tr>\n",
       "      <th>0</th>\n",
       "      <td>6</td>\n",
       "      <td>1479</td>\n",
       "      <td>1976</td>\n",
       "      <td>533.0</td>\n",
       "      <td>0</td>\n",
       "      <td>13517</td>\n",
       "      <td>0</td>\n",
       "      <td>475.0</td>\n",
       "      <td>0</td>\n",
       "      <td>0</td>\n",
       "      <td>1</td>\n",
       "      <td>0</td>\n",
       "      <td>109</td>\n",
       "      <td>130500</td>\n",
       "    </tr>\n",
       "    <tr>\n",
       "      <th>1</th>\n",
       "      <td>7</td>\n",
       "      <td>2122</td>\n",
       "      <td>1996</td>\n",
       "      <td>637.0</td>\n",
       "      <td>0</td>\n",
       "      <td>11492</td>\n",
       "      <td>0</td>\n",
       "      <td>559.0</td>\n",
       "      <td>0</td>\n",
       "      <td>0</td>\n",
       "      <td>1</td>\n",
       "      <td>0</td>\n",
       "      <td>544</td>\n",
       "      <td>220000</td>\n",
       "    </tr>\n",
       "    <tr>\n",
       "      <th>2</th>\n",
       "      <td>5</td>\n",
       "      <td>1057</td>\n",
       "      <td>1953</td>\n",
       "      <td>731.0</td>\n",
       "      <td>0</td>\n",
       "      <td>7922</td>\n",
       "      <td>0</td>\n",
       "      <td>246.0</td>\n",
       "      <td>0</td>\n",
       "      <td>0</td>\n",
       "      <td>1</td>\n",
       "      <td>0</td>\n",
       "      <td>153</td>\n",
       "      <td>109000</td>\n",
       "    </tr>\n",
       "    <tr>\n",
       "      <th>3</th>\n",
       "      <td>5</td>\n",
       "      <td>1444</td>\n",
       "      <td>2006</td>\n",
       "      <td>0.0</td>\n",
       "      <td>0</td>\n",
       "      <td>9802</td>\n",
       "      <td>0</td>\n",
       "      <td>400.0</td>\n",
       "      <td>0</td>\n",
       "      <td>0</td>\n",
       "      <td>0</td>\n",
       "      <td>1</td>\n",
       "      <td>318</td>\n",
       "      <td>174000</td>\n",
       "    </tr>\n",
       "    <tr>\n",
       "      <th>4</th>\n",
       "      <td>6</td>\n",
       "      <td>1445</td>\n",
       "      <td>1900</td>\n",
       "      <td>0.0</td>\n",
       "      <td>0</td>\n",
       "      <td>14235</td>\n",
       "      <td>0</td>\n",
       "      <td>484.0</td>\n",
       "      <td>0</td>\n",
       "      <td>0</td>\n",
       "      <td>0</td>\n",
       "      <td>1</td>\n",
       "      <td>255</td>\n",
       "      <td>138500</td>\n",
       "    </tr>\n",
       "    <tr>\n",
       "      <th>...</th>\n",
       "      <td>...</td>\n",
       "      <td>...</td>\n",
       "      <td>...</td>\n",
       "      <td>...</td>\n",
       "      <td>...</td>\n",
       "      <td>...</td>\n",
       "      <td>...</td>\n",
       "      <td>...</td>\n",
       "      <td>...</td>\n",
       "      <td>...</td>\n",
       "      <td>...</td>\n",
       "      <td>...</td>\n",
       "      <td>...</td>\n",
       "      <td>...</td>\n",
       "    </tr>\n",
       "    <tr>\n",
       "      <th>2046</th>\n",
       "      <td>8</td>\n",
       "      <td>1728</td>\n",
       "      <td>2007</td>\n",
       "      <td>1011.0</td>\n",
       "      <td>0</td>\n",
       "      <td>11449</td>\n",
       "      <td>0</td>\n",
       "      <td>520.0</td>\n",
       "      <td>0</td>\n",
       "      <td>0</td>\n",
       "      <td>1</td>\n",
       "      <td>0</td>\n",
       "      <td>1587</td>\n",
       "      <td>298751</td>\n",
       "    </tr>\n",
       "    <tr>\n",
       "      <th>2047</th>\n",
       "      <td>4</td>\n",
       "      <td>861</td>\n",
       "      <td>1940</td>\n",
       "      <td>262.0</td>\n",
       "      <td>0</td>\n",
       "      <td>12342</td>\n",
       "      <td>0</td>\n",
       "      <td>539.0</td>\n",
       "      <td>0</td>\n",
       "      <td>0</td>\n",
       "      <td>0</td>\n",
       "      <td>1</td>\n",
       "      <td>785</td>\n",
       "      <td>82500</td>\n",
       "    </tr>\n",
       "    <tr>\n",
       "      <th>2048</th>\n",
       "      <td>6</td>\n",
       "      <td>1913</td>\n",
       "      <td>1928</td>\n",
       "      <td>0.0</td>\n",
       "      <td>0</td>\n",
       "      <td>7558</td>\n",
       "      <td>0</td>\n",
       "      <td>342.0</td>\n",
       "      <td>0</td>\n",
       "      <td>0</td>\n",
       "      <td>0</td>\n",
       "      <td>1</td>\n",
       "      <td>916</td>\n",
       "      <td>177000</td>\n",
       "    </tr>\n",
       "    <tr>\n",
       "      <th>2049</th>\n",
       "      <td>4</td>\n",
       "      <td>1200</td>\n",
       "      <td>1956</td>\n",
       "      <td>155.0</td>\n",
       "      <td>0</td>\n",
       "      <td>10400</td>\n",
       "      <td>0</td>\n",
       "      <td>294.0</td>\n",
       "      <td>0</td>\n",
       "      <td>0</td>\n",
       "      <td>0</td>\n",
       "      <td>1</td>\n",
       "      <td>639</td>\n",
       "      <td>144000</td>\n",
       "    </tr>\n",
       "    <tr>\n",
       "      <th>2050</th>\n",
       "      <td>7</td>\n",
       "      <td>1804</td>\n",
       "      <td>1999</td>\n",
       "      <td>0.0</td>\n",
       "      <td>0</td>\n",
       "      <td>7500</td>\n",
       "      <td>0</td>\n",
       "      <td>442.0</td>\n",
       "      <td>0</td>\n",
       "      <td>0</td>\n",
       "      <td>1</td>\n",
       "      <td>0</td>\n",
       "      <td>10</td>\n",
       "      <td>189000</td>\n",
       "    </tr>\n",
       "  </tbody>\n",
       "</table>\n",
       "<p>2051 rows × 14 columns</p>\n",
       "</div>"
      ],
      "text/plain": [
       "      Overall Qual  Gr Liv Area  Year Built  BsmtFin SF 1  \\\n",
       "0                6         1479        1976         533.0   \n",
       "1                7         2122        1996         637.0   \n",
       "2                5         1057        1953         731.0   \n",
       "3                5         1444        2006           0.0   \n",
       "4                6         1445        1900           0.0   \n",
       "...            ...          ...         ...           ...   \n",
       "2046             8         1728        2007        1011.0   \n",
       "2047             4          861        1940         262.0   \n",
       "2048             6         1913        1928           0.0   \n",
       "2049             4         1200        1956         155.0   \n",
       "2050             7         1804        1999           0.0   \n",
       "\n",
       "      Neighborhood_NridgHt  Lot Area  Neighborhood_StoneBr  Garage Area  \\\n",
       "0                        0     13517                     0        475.0   \n",
       "1                        0     11492                     0        559.0   \n",
       "2                        0      7922                     0        246.0   \n",
       "3                        0      9802                     0        400.0   \n",
       "4                        0     14235                     0        484.0   \n",
       "...                    ...       ...                   ...          ...   \n",
       "2046                     0     11449                     0        520.0   \n",
       "2047                     0     12342                     0        539.0   \n",
       "2048                     0      7558                     0        342.0   \n",
       "2049                     0     10400                     0        294.0   \n",
       "2050                     0      7500                     0        442.0   \n",
       "\n",
       "      Neighborhood_NoRidge  Misc Val  Kitchen Qual_Gd  Kitchen Qual_TA    Id  \\\n",
       "0                        0         0                1                0   109   \n",
       "1                        0         0                1                0   544   \n",
       "2                        0         0                1                0   153   \n",
       "3                        0         0                0                1   318   \n",
       "4                        0         0                0                1   255   \n",
       "...                    ...       ...              ...              ...   ...   \n",
       "2046                     0         0                1                0  1587   \n",
       "2047                     0         0                0                1   785   \n",
       "2048                     0         0                0                1   916   \n",
       "2049                     0         0                0                1   639   \n",
       "2050                     0         0                1                0    10   \n",
       "\n",
       "      SalePrice  \n",
       "0        130500  \n",
       "1        220000  \n",
       "2        109000  \n",
       "3        174000  \n",
       "4        138500  \n",
       "...         ...  \n",
       "2046     298751  \n",
       "2047      82500  \n",
       "2048     177000  \n",
       "2049     144000  \n",
       "2050     189000  \n",
       "\n",
       "[2051 rows x 14 columns]"
      ]
     },
     "execution_count": 68,
     "metadata": {},
     "output_type": "execute_result"
    }
   ],
   "source": [
    "model_4_cols = list(features_4.index)\n",
    "model_4_cols.append('Id')\n",
    "model_4_cols.append('SalePrice')\n",
    "\n",
    "homes_4 = homes_prelim[model_4_cols]\n",
    "\n",
    "homes_4"
   ]
  },
  {
   "cell_type": "code",
   "execution_count": 69,
   "id": "5b5d464b-72ff-4ee3-8cb1-97ce9c35f67a",
   "metadata": {
    "tags": []
   },
   "outputs": [
    {
     "data": {
      "image/png": "[encoded data removed]",
      "text/plain": [
       "<Figure size 1000x1000 with 2 Axes>"
      ]
     },
     "metadata": {},
     "output_type": "display_data"
    }
   ],
   "source": [
    "mask = np.zeros_like(homes_4.drop(columns = 'Id').corr())\n",
    "mask[np.triu_indices_from(mask)] = True\n",
    "\n",
    "plt.figure(figsize = (10, 10))\n",
    "sns.heatmap(homes_4.drop(columns = 'Id').corr(),\n",
    "           vmin = -1,\n",
    "           vmax = 1,\n",
    "           square = True,\n",
    "           cmap = 'winter',\n",
    "           annot = True,\n",
    "           mask = mask);"
   ]
  },
  {
   "cell_type": "markdown",
   "id": "3f772c93-d72a-43ee-acac-7dc2ecf7fc5b",
   "metadata": {},
   "source": [
    "Looking at the heatmap above, I noticed that a kitchen quality of typical or average has strong negative correlations with overal quality, year built, and good kitchen quality. The only other strongly correlated feature might be year built which is strongly positively correlated with garage area and overall quality. After performing the LASSO cross-validation one more time, I will consider whether to eliminate these two features for Model 5 or whether to eliminate features with low magnitude coefficients."
   ]
  },
  {
   "cell_type": "code",
   "execution_count": 70,
   "id": "56da8ba2-4a64-4292-bf5c-47dc03c36e59",
   "metadata": {
    "tags": []
   },
   "outputs": [
    {
     "data": {
      "text/plain": [
       "Overall Qual            27204.001637\n",
       "Gr Liv Area             20542.233440\n",
       "Neighborhood_NridgHt    10126.138977\n",
       "Year Built               9822.390675\n",
       "BsmtFin SF 1             9513.137848\n",
       "Neighborhood_StoneBr     7662.789765\n",
       "Garage Area              7220.664193\n",
       "Lot Area                 7199.330886\n",
       "Neighborhood_NoRidge     6158.495008\n",
       "Misc Val                -6432.441768\n",
       "Kitchen Qual_Gd        -11499.396153\n",
       "Kitchen Qual_TA        -15389.498596\n",
       "dtype: float64"
      ]
     },
     "execution_count": 70,
     "metadata": {},
     "output_type": "execute_result"
    }
   ],
   "source": [
    "# call LASSO coefficient function\n",
    "coefs_lasso_4 = get_lasso_cv(X_train, y_train)\n",
    "\n",
    "coefs_lasso_4"
   ]
  },
  {
   "cell_type": "code",
   "execution_count": 71,
   "id": "bf3d9320-78f8-4dd9-ad8f-1f7ce7603878",
   "metadata": {
    "tags": []
   },
   "outputs": [
    {
     "name": "stdout",
     "output_type": "stream",
     "text": [
      "Model 4 LASSO Optimal Alpha: 265.6087782946687\n",
      "Model 4 LASSO Optimal Alpha Training Score: 0.8303160669993027\n",
      "Model 4 LASSO Optimal Alpha Test Score: 0.870323247741904\n"
     ]
    }
   ],
   "source": [
    "# print LASSO evaluation scores\n",
    "print(f\"Model 4 LASSO Optimal Alpha: {lasso_cv_pipe['lasso_cv'].alpha_}\")\n",
    "print(f'Model 4 LASSO Optimal Alpha Training Score: {lasso_cv_pipe.score(X_train, y_train)}')\n",
    "print(f'Model 4 LASSO Optimal Alpha Test Score: {lasso_cv_pipe.score(X_test, y_test)}')"
   ]
  },
  {
   "cell_type": "markdown",
   "id": "0e04332b-98b8-4f9c-9fc7-a2c0a4831fbe",
   "metadata": {},
   "source": [
    "LASSO cross-validation scores are still holding high and close. I could choose to eliminate the neighborhood of Northridge and miscellaneous value or I could eliminate the multicolinear variables from my heatmap above, year built and kitchen quality typical or average. I will try eliminating the multi-colinear variables first and see how the model performs."
   ]
  },
  {
   "cell_type": "code",
   "execution_count": 72,
   "id": "496118a3-4629-4da6-a588-cda53bdb6e64",
   "metadata": {},
   "outputs": [
    {
     "data": {
      "text/plain": [
       "['Overall Qual',\n",
       " 'Gr Liv Area',\n",
       " 'Neighborhood_NridgHt',\n",
       " 'BsmtFin SF 1',\n",
       " 'Neighborhood_StoneBr',\n",
       " 'Garage Area',\n",
       " 'Lot Area',\n",
       " 'Neighborhood_NoRidge',\n",
       " 'Misc Val',\n",
       " 'Kitchen Qual_Gd']"
      ]
     },
     "execution_count": 72,
     "metadata": {},
     "output_type": "execute_result"
    }
   ],
   "source": [
    "# makes a list of all features with coefficients less than magnitude 6000\n",
    "elim_features = ['Year Built', 'Kitchen Qual_TA']\n",
    "features_5 = [feature for feature in list(coefs_lasso_4.index) if feature not in elim_features]\n",
    "\n",
    "features_5"
   ]
  },
  {
   "cell_type": "code",
   "execution_count": 73,
   "id": "b3cc7b70-3a8a-4056-a154-5ea17542ce54",
   "metadata": {},
   "outputs": [
    {
     "data": {
      "text/plain": [
       "Overall Qual            33480.927619\n",
       "Gr Liv Area             20427.023314\n",
       "Neighborhood_NridgHt    13139.885988\n",
       "BsmtFin SF 1            11113.347092\n",
       "Garage Area              9336.595471\n",
       "Neighborhood_StoneBr     9208.037171\n",
       "Lot Area                 6852.234103\n",
       "Neighborhood_NoRidge     6381.906136\n",
       "Kitchen Qual_Gd          1760.779789\n",
       "Misc Val                -6715.699572\n",
       "dtype: float64"
      ]
     },
     "execution_count": 73,
     "metadata": {},
     "output_type": "execute_result"
    }
   ],
   "source": [
    "X = homes_prelim[features_5]\n",
    "y = homes_prelim['SalePrice']\n",
    "\n",
    "X_train, X_test, y_train, y_test = train_test_split(X, y, random_state = 42)\n",
    "\n",
    "coefs_5 = get_lr(X_train, y_train)\n",
    "\n",
    "coefs_5"
   ]
  },
  {
   "cell_type": "code",
   "execution_count": 74,
   "id": "80e193eb-787d-4bfa-91a1-bda5b21940d5",
   "metadata": {},
   "outputs": [
    {
     "name": "stdout",
     "output_type": "stream",
     "text": [
      "Model 5 Cross-Validation Score: 0.7731944350263054\n",
      "Model 5 Training Score: 0.8112832157401457\n",
      "Model 5 Test Score: 0.8467370628151956\n"
     ]
    }
   ],
   "source": [
    "print(f'Model 5 Cross-Validation Score: {cross_val_score(ss_pipe, X_train, y_train).mean()}')\n",
    "print(f'Model 5 Training Score: {ss_pipe.score(X_train, y_train)}')\n",
    "print(f'Model 5 Test Score: {ss_pipe.score(X_test, y_test)}')"
   ]
  },
  {
   "cell_type": "markdown",
   "id": "c01ed8d8-ada5-49e6-ad27-1cd0d38f3c66",
   "metadata": {},
   "source": [
    "Eliminating those two potentially multi-colinear features has shown a small but noticeable drop in the cross-validation, training, and test scores of our models, all dropping approximately by 0.02 down to approximately 0.77, 0.81, and 0.85, respectively. As a result, I will go back to the previous Model 4 features and try to eliminate using my prior method of masking out those features whose coefficient magnitudes are lower in comparison to other features, using 7,000 as our threshold, eliminating the Northridge neighborhood and the miscellaneous value."
   ]
  },
  {
   "cell_type": "code",
   "execution_count": 75,
   "id": "2a7e356a-de10-4b52-842a-3b0e94a455af",
   "metadata": {
    "tags": []
   },
   "outputs": [
    {
     "data": {
      "text/plain": [
       "Overall Qual            27204.001637\n",
       "Gr Liv Area             20542.233440\n",
       "Neighborhood_NridgHt    10126.138977\n",
       "Year Built               9822.390675\n",
       "BsmtFin SF 1             9513.137848\n",
       "Neighborhood_StoneBr     7662.789765\n",
       "Garage Area              7220.664193\n",
       "Lot Area                 7199.330886\n",
       "Kitchen Qual_Gd        -11499.396153\n",
       "Kitchen Qual_TA        -15389.498596\n",
       "dtype: float64"
      ]
     },
     "execution_count": 75,
     "metadata": {},
     "output_type": "execute_result"
    }
   ],
   "source": [
    "# makes a list of all features with coefficients less than magnitude 7000\n",
    "features_5_new = coefs_lasso_4[abs(coefs_lasso_4) > 7000]\n",
    "\n",
    "features_5_new"
   ]
  },
  {
   "cell_type": "code",
   "execution_count": 76,
   "id": "b168aa37-a74f-42d6-ad34-793f2b8df20b",
   "metadata": {
    "tags": []
   },
   "outputs": [
    {
     "data": {
      "text/plain": [
       "Overall Qual            27356.604350\n",
       "Gr Liv Area             21787.539078\n",
       "Year Built              10459.061983\n",
       "Neighborhood_NridgHt     9586.373655\n",
       "BsmtFin SF 1             8800.786646\n",
       "Garage Area              7904.537399\n",
       "Neighborhood_StoneBr     7484.675360\n",
       "Lot Area                 6577.549046\n",
       "Kitchen Qual_Gd        -12337.516247\n",
       "Kitchen Qual_TA        -16270.678176\n",
       "dtype: float64"
      ]
     },
     "execution_count": 76,
     "metadata": {},
     "output_type": "execute_result"
    }
   ],
   "source": [
    "X = homes_prelim[features_5_new.index]\n",
    "y = homes_prelim['SalePrice']\n",
    "\n",
    "X_train, X_test, y_train, y_test = train_test_split(X, y, random_state = 42)\n",
    "\n",
    "coefs_5_new = get_lr(X_train, y_train)\n",
    "\n",
    "coefs_5_new"
   ]
  },
  {
   "cell_type": "code",
   "execution_count": 77,
   "id": "20249933-0216-4c4b-95f2-5a0acf118593",
   "metadata": {
    "tags": []
   },
   "outputs": [
    {
     "name": "stdout",
     "output_type": "stream",
     "text": [
      "Model 5 Cross-Validation Score: 0.789812043704689\n",
      "Model 5 Training Score: 0.817118056561995\n",
      "Model 5 Test Score: 0.8723793694173341\n"
     ]
    }
   ],
   "source": [
    "print(f'Model 5 Cross-Validation Score: {cross_val_score(ss_pipe, X_train, y_train).mean()}')\n",
    "print(f'Model 5 Training Score: {ss_pipe.score(X_train, y_train)}')\n",
    "print(f'Model 5 Test Score: {ss_pipe.score(X_test, y_test)}')"
   ]
  },
  {
   "cell_type": "markdown",
   "id": "25f0653c-beaa-43e5-9647-89202c2988de",
   "metadata": {},
   "source": [
    "Looking at these metrics, this cross-validation score is relatively consistent with Model 4 at about 0.79. However, there is a small dip in the training score from approximately 0.83 to 0.82. The test score remained consistent at about 0.87. Model 5 saw some marginal losses in terms of evaluation metrics. However, I have arrived at a model pared down to somwhere between 10 and 12 features. Four of those features are related directly to our problem statement of which new home construction features should be maximized in layout and design to maximize sale price. For the finaly production model I will attempt to eliminate any features not directly relevant to the problem statement or any which features which ought to be held constant for the purposes of the question at hand."
   ]
  },
  {
   "cell_type": "markdown",
   "id": "35051ff7-2b91-48fa-8cce-9d8f7c54d414",
   "metadata": {},
   "source": [
    "---\n",
    "\n",
    "## Production Model\n",
    "\n",
    "In our final production model, I will include the top four area measurements most positively correlated with sale price, ground floor living area, finished basement square footage, garage area, and lot area. Since overall quality and year built are also highly positively correlated in all our iterated models, I will include them in the final production model, especially since we can presume for new construction projects that overall quality and year built will be more or less held constant and presumably both will be higher than most of the older constructed homes for sale on the market. Lastly, since the final production model is not concerned with neighborhood and kitchen quality was somewhat correlated with overall quality in our heatmap above, I can presume that we can potentially remove these feature to simplify our model and ensure that we are able to make geographically agnostic decisions, whenever possible."
   ]
  },
  {
   "cell_type": "code",
   "execution_count": 78,
   "id": "38c2eb8a-5156-4780-97a2-caf02fed9e39",
   "metadata": {
    "tags": []
   },
   "outputs": [
    {
     "data": {
      "text/plain": [
       "Overall Qual    35143.958468\n",
       "Gr Liv Area     22999.960314\n",
       "Year Built      10528.397422\n",
       "BsmtFin SF 1    10116.465289\n",
       "Garage Area      8824.518777\n",
       "Lot Area         6770.160991\n",
       "dtype: float64"
      ]
     },
     "execution_count": 78,
     "metadata": {},
     "output_type": "execute_result"
    }
   ],
   "source": [
    "production_features = ['Overall Qual', 'Gr Liv Area', 'Year Built', 'BsmtFin SF 1', 'Garage Area', 'Lot Area']\n",
    "X = homes_prelim[production_features]\n",
    "y = homes_prelim['SalePrice']\n",
    "\n",
    "X_train, X_test, y_train, y_test = train_test_split(X, y, random_state = 42)\n",
    "\n",
    "coefs_production = get_lr(X_train, y_train)\n",
    "\n",
    "coefs_production"
   ]
  },
  {
   "cell_type": "code",
   "execution_count": 79,
   "id": "51eb0440-2249-4e0b-a563-3cbe02df6812",
   "metadata": {
    "tags": []
   },
   "outputs": [
    {
     "name": "stdout",
     "output_type": "stream",
     "text": [
      "Production Model Cross-Validation Score: 0.7544171412819313\n",
      "Production Model Training Score: 0.7802646444079648\n",
      "Production Model Test Score: 0.8415366207107722\n"
     ]
    }
   ],
   "source": [
    "print(f'Production Model Cross-Validation Score: {cross_val_score(ss_pipe, X_train, y_train).mean()}')\n",
    "print(f'Production Model Training Score: {ss_pipe.score(X_train, y_train)}')\n",
    "print(f'Production Model Test Score: {ss_pipe.score(X_test, y_test)}')"
   ]
  },
  {
   "cell_type": "markdown",
   "id": "2b2cd8c1-618f-4864-bee9-1c19a1cfbd83",
   "metadata": {},
   "source": [
    "In this final production model, we can see that the evaluation metrics are a bit lower than in either models 4 or 5, with a drop from about 0.83 to 0.78 in the training score and from about 0.87 to 0.84 in the test scores. This means somewhere between a 3-5% decrease in variability in home prices which can be explained by our final production model in comparison to models 4 or 5. However, this simplified six feature model has eliminated some extraneous factors which are somewhat irrelevant to our problem statement while overall quality and year build constant, both of which we can presume would be held constant for most of our new construction.\n",
    "\n",
    "I will now create a simplified six feature dataframe of homes and save the file to our datasets."
   ]
  },
  {
   "cell_type": "code",
   "execution_count": 80,
   "id": "ac46a3ae-fea1-4b4e-bd5f-13b4e3512b54",
   "metadata": {
    "tags": []
   },
   "outputs": [
    {
     "data": {
      "text/html": [
       "<div>\n",
       "<style scoped>\n",
       "    .dataframe tbody tr th:only-of-type {\n",
       "        vertical-align: middle;\n",
       "    }\n",
       "\n",
       "    .dataframe tbody tr th {\n",
       "        vertical-align: top;\n",
       "    }\n",
       "\n",
       "    .dataframe thead th {\n",
       "        text-align: right;\n",
       "    }\n",
       "</style>\n",
       "<table border=\"1\" class=\"dataframe\">\n",
       "  <thead>\n",
       "    <tr style=\"text-align: right;\">\n",
       "      <th></th>\n",
       "      <th>Id</th>\n",
       "      <th>Overall Qual</th>\n",
       "      <th>Gr Liv Area</th>\n",
       "      <th>Year Built</th>\n",
       "      <th>BsmtFin SF 1</th>\n",
       "      <th>Garage Area</th>\n",
       "      <th>Lot Area</th>\n",
       "      <th>SalePrice</th>\n",
       "    </tr>\n",
       "  </thead>\n",
       "  <tbody>\n",
       "    <tr>\n",
       "      <th>0</th>\n",
       "      <td>109</td>\n",
       "      <td>6</td>\n",
       "      <td>1479</td>\n",
       "      <td>1976</td>\n",
       "      <td>533.0</td>\n",
       "      <td>475.0</td>\n",
       "      <td>13517</td>\n",
       "      <td>130500</td>\n",
       "    </tr>\n",
       "    <tr>\n",
       "      <th>1</th>\n",
       "      <td>544</td>\n",
       "      <td>7</td>\n",
       "      <td>2122</td>\n",
       "      <td>1996</td>\n",
       "      <td>637.0</td>\n",
       "      <td>559.0</td>\n",
       "      <td>11492</td>\n",
       "      <td>220000</td>\n",
       "    </tr>\n",
       "    <tr>\n",
       "      <th>2</th>\n",
       "      <td>153</td>\n",
       "      <td>5</td>\n",
       "      <td>1057</td>\n",
       "      <td>1953</td>\n",
       "      <td>731.0</td>\n",
       "      <td>246.0</td>\n",
       "      <td>7922</td>\n",
       "      <td>109000</td>\n",
       "    </tr>\n",
       "    <tr>\n",
       "      <th>3</th>\n",
       "      <td>318</td>\n",
       "      <td>5</td>\n",
       "      <td>1444</td>\n",
       "      <td>2006</td>\n",
       "      <td>0.0</td>\n",
       "      <td>400.0</td>\n",
       "      <td>9802</td>\n",
       "      <td>174000</td>\n",
       "    </tr>\n",
       "    <tr>\n",
       "      <th>4</th>\n",
       "      <td>255</td>\n",
       "      <td>6</td>\n",
       "      <td>1445</td>\n",
       "      <td>1900</td>\n",
       "      <td>0.0</td>\n",
       "      <td>484.0</td>\n",
       "      <td>14235</td>\n",
       "      <td>138500</td>\n",
       "    </tr>\n",
       "  </tbody>\n",
       "</table>\n",
       "</div>"
      ],
      "text/plain": [
       "    Id  Overall Qual  Gr Liv Area  Year Built  BsmtFin SF 1  Garage Area  \\\n",
       "0  109             6         1479        1976         533.0        475.0   \n",
       "1  544             7         2122        1996         637.0        559.0   \n",
       "2  153             5         1057        1953         731.0        246.0   \n",
       "3  318             5         1444        2006           0.0        400.0   \n",
       "4  255             6         1445        1900           0.0        484.0   \n",
       "\n",
       "   Lot Area  SalePrice  \n",
       "0     13517     130500  \n",
       "1     11492     220000  \n",
       "2      7922     109000  \n",
       "3      9802     174000  \n",
       "4     14235     138500  "
      ]
     },
     "execution_count": 80,
     "metadata": {},
     "output_type": "execute_result"
    }
   ],
   "source": [
    "homes_production_features = ['Id', \n",
    "                             'Overall Qual', \n",
    "                             'Gr Liv Area', \n",
    "                             'Year Built', \n",
    "                             'BsmtFin SF 1', \n",
    "                             'Garage Area', \n",
    "                             'Lot Area', \n",
    "                             'SalePrice'\n",
    "                            ]\n",
    "\n",
    "homes_production = homes_prelim[homes_production_features]\n",
    "\n",
    "homes_production.head()"
   ]
  },
  {
   "cell_type": "code",
   "execution_count": 81,
   "id": "aaeaa6d2-9388-4e4d-b5c8-a83c6978f31f",
   "metadata": {
    "tags": []
   },
   "outputs": [],
   "source": [
    "homes_production.to_csv('../datasets/homes_production.csv', index = False)"
   ]
  },
  {
   "cell_type": "markdown",
   "id": "6df1ed83-ae39-4619-99d1-7039ef4997e2",
   "metadata": {},
   "source": [
    "---\n",
    "\n",
    "## Noteboook Conclusion\n",
    "\n",
    "In this notebook, we ran through several iterations of our model, beginning with the preliminary model holding 27 features into consideration, of which 18 were related to the area or square footage of different home features. In our final production model, the top four most salient area features are considered to perform well as highly inferential and predictive measures of Ames home sale prices, holding the overall quality and year built constant. In the next notebook, I will continue to evaluate the production model and make final business recommendations."
   ]
  },
  {
   "cell_type": "code",
   "execution_count": null,
   "id": "2ad6a2ee-2064-4855-afa0-a3333899fdea",
   "metadata": {},
   "outputs": [],
   "source": [
    "kaggle_features = []\n",
    "for feature in features:\n",
    "    kaggle_features.append(feature)\n",
    "kaggle_features.append('SalePrice')\n",
    "\n",
    "kaggle_train = homes_train[kaggle_features]\n",
    "\n",
    "kaggle_train.to_csv('../datasets/kaggle_train_submission.csv', index = False)"
   ]
  }
 ],
 "metadata": {
  "kernelspec": {
   "display_name": "Python [conda env:dsi] *",
   "language": "python",
   "name": "conda-env-dsi-py"
  },
  "language_info": {
   "codemirror_mode": {
    "name": "ipython",
    "version": 3
   },
   "file_extension": ".py",
   "mimetype": "text/x-python",
   "name": "python",
   "nbconvert_exporter": "python",
   "pygments_lexer": "ipython3",
   "version": "3.8.16"
  }
 },
 "nbformat": 4,
 "nbformat_minor": 5
}
