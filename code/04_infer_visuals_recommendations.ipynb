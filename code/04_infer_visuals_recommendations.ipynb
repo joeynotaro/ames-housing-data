{
 "cells": [
  {
   "cell_type": "markdown",
   "id": "a34c17ab-f386-47dc-9783-af29a4bb30eb",
   "metadata": {},
   "source": [
    "---\n",
    "\n",
    "# Part 4: Inferential Visualizations and Business Recommendations"
   ]
  },
  {
   "cell_type": "markdown",
   "id": "1d9486a4-d5dd-4d7a-8e6c-b3d4570986e9",
   "metadata": {},
   "source": [
    "---\n",
    "\n",
    "## Notebook Summary\n",
    "\n",
    "This notebook will take the final production model from Part 3's model tuning and will do some final evaluation of the model assumptions and errors through visualization. Then, I will make final business recommendations based on our production model with any necessary cautions illuminated by errors or violations in our assummptions. Included in this notebook, the reader will find:\n",
    "\n",
    "* Production Model Overview\n",
    "* Feature Loadings\n",
    "* Inferential Visualizations\n",
    "* Business Recommendations"
   ]
  },
  {
   "cell_type": "markdown",
   "id": "ebc7f60c-b7f1-455f-8056-d2c3ab35d50c",
   "metadata": {},
   "source": [
    "---\n",
    "\n",
    "## Production Model Overview\n",
    "\n",
    "In this section, I will review the final production modelfrom the conclusion of Part 3. The reader will recall that ultimately six final features were selected, of which four were directly related to the square footage of key home features to correlate highly with maximum sales price. The model is reproduceed below."
   ]
  },
  {
   "cell_type": "code",
   "execution_count": 22,
   "id": "f09e5a73-dc8b-4b0c-86f0-07880a54c818",
   "metadata": {
    "tags": []
   },
   "outputs": [],
   "source": [
    "# import requisite libraries and modules for linear regression and evaluation metrics\n",
    "import pandas as pd\n",
    "import numpy as np\n",
    "import matplotlib.pyplot as plt\n",
    "import seaborn as sns\n",
    "\n",
    "from sklearn.linear_model import LinearRegression\n",
    "from sklearn.model_selection import train_test_split, cross_val_score\n",
    "from sklearn import metrics\n",
    "from sklearn.preprocessing import StandardScaler\n",
    "from sklearn.pipeline import Pipeline\n",
    "from pandas.plotting import table"
   ]
  },
  {
   "cell_type": "code",
   "execution_count": 2,
   "id": "9f788d29-02e6-4fe2-b8be-ee6d5102bb44",
   "metadata": {
    "tags": []
   },
   "outputs": [],
   "source": [
    "# creates the standard scaler and linear regression Pipeline\n",
    "ss_pipe = Pipeline([\n",
    "        ('sc', StandardScaler()),\n",
    "        ('lr', LinearRegression())\n",
    "    ])"
   ]
  },
  {
   "cell_type": "code",
   "execution_count": 3,
   "id": "b33eddf4-6117-4652-8cd2-f60dc23000d7",
   "metadata": {
    "tags": []
   },
   "outputs": [],
   "source": [
    "# fits a standard scaled linear regression and returns a series of the correlation coefficients\n",
    "def get_lr(X_train, y_train):\n",
    "    ss_pipe.fit(X_train, y_train)\n",
    "    return pd.Series(ss_pipe['lr'].coef_, \n",
    "                     index = ss_pipe[:-1]\\\n",
    "                     .get_feature_names_out()\n",
    "                    ).sort_values(ascending = False)"
   ]
  },
  {
   "cell_type": "code",
   "execution_count": 4,
   "id": "501f4314-2d89-47b3-bcfb-cff24069d83f",
   "metadata": {
    "tags": []
   },
   "outputs": [
    {
     "data": {
      "text/html": [
       "<div>\n",
       "<style scoped>\n",
       "    .dataframe tbody tr th:only-of-type {\n",
       "        vertical-align: middle;\n",
       "    }\n",
       "\n",
       "    .dataframe tbody tr th {\n",
       "        vertical-align: top;\n",
       "    }\n",
       "\n",
       "    .dataframe thead th {\n",
       "        text-align: right;\n",
       "    }\n",
       "</style>\n",
       "<table border=\"1\" class=\"dataframe\">\n",
       "  <thead>\n",
       "    <tr style=\"text-align: right;\">\n",
       "      <th></th>\n",
       "      <th>Id</th>\n",
       "      <th>Overall Qual</th>\n",
       "      <th>Gr Liv Area</th>\n",
       "      <th>Year Built</th>\n",
       "      <th>BsmtFin SF 1</th>\n",
       "      <th>Garage Area</th>\n",
       "      <th>Lot Area</th>\n",
       "      <th>SalePrice</th>\n",
       "    </tr>\n",
       "  </thead>\n",
       "  <tbody>\n",
       "    <tr>\n",
       "      <th>0</th>\n",
       "      <td>109</td>\n",
       "      <td>6</td>\n",
       "      <td>1479</td>\n",
       "      <td>1976</td>\n",
       "      <td>533.0</td>\n",
       "      <td>475.0</td>\n",
       "      <td>13517</td>\n",
       "      <td>130500</td>\n",
       "    </tr>\n",
       "    <tr>\n",
       "      <th>1</th>\n",
       "      <td>544</td>\n",
       "      <td>7</td>\n",
       "      <td>2122</td>\n",
       "      <td>1996</td>\n",
       "      <td>637.0</td>\n",
       "      <td>559.0</td>\n",
       "      <td>11492</td>\n",
       "      <td>220000</td>\n",
       "    </tr>\n",
       "    <tr>\n",
       "      <th>2</th>\n",
       "      <td>153</td>\n",
       "      <td>5</td>\n",
       "      <td>1057</td>\n",
       "      <td>1953</td>\n",
       "      <td>731.0</td>\n",
       "      <td>246.0</td>\n",
       "      <td>7922</td>\n",
       "      <td>109000</td>\n",
       "    </tr>\n",
       "    <tr>\n",
       "      <th>3</th>\n",
       "      <td>318</td>\n",
       "      <td>5</td>\n",
       "      <td>1444</td>\n",
       "      <td>2006</td>\n",
       "      <td>0.0</td>\n",
       "      <td>400.0</td>\n",
       "      <td>9802</td>\n",
       "      <td>174000</td>\n",
       "    </tr>\n",
       "    <tr>\n",
       "      <th>4</th>\n",
       "      <td>255</td>\n",
       "      <td>6</td>\n",
       "      <td>1445</td>\n",
       "      <td>1900</td>\n",
       "      <td>0.0</td>\n",
       "      <td>484.0</td>\n",
       "      <td>14235</td>\n",
       "      <td>138500</td>\n",
       "    </tr>\n",
       "  </tbody>\n",
       "</table>\n",
       "</div>"
      ],
      "text/plain": [
       "    Id  Overall Qual  Gr Liv Area  Year Built  BsmtFin SF 1  Garage Area  \\\n",
       "0  109             6         1479        1976         533.0        475.0   \n",
       "1  544             7         2122        1996         637.0        559.0   \n",
       "2  153             5         1057        1953         731.0        246.0   \n",
       "3  318             5         1444        2006           0.0        400.0   \n",
       "4  255             6         1445        1900           0.0        484.0   \n",
       "\n",
       "   Lot Area  SalePrice  \n",
       "0     13517     130500  \n",
       "1     11492     220000  \n",
       "2      7922     109000  \n",
       "3      9802     174000  \n",
       "4     14235     138500  "
      ]
     },
     "execution_count": 4,
     "metadata": {},
     "output_type": "execute_result"
    }
   ],
   "source": [
    "# reads in preliminary model dataframe\n",
    "homes_production = pd.read_csv('../datasets/homes_production.csv')\n",
    "\n",
    "homes_production.head()"
   ]
  },
  {
   "cell_type": "code",
   "execution_count": 5,
   "id": "fd833ffd-9e6e-40aa-afd2-9fe77033999a",
   "metadata": {
    "tags": []
   },
   "outputs": [
    {
     "data": {
      "text/plain": [
       "Overall Qual    35143.958468\n",
       "Gr Liv Area     22999.960314\n",
       "Year Built      10528.397422\n",
       "BsmtFin SF 1    10116.465289\n",
       "Garage Area      8824.518777\n",
       "Lot Area         6770.160991\n",
       "dtype: float64"
      ]
     },
     "execution_count": 5,
     "metadata": {},
     "output_type": "execute_result"
    }
   ],
   "source": [
    "# declare features and target for prelim model, tran/test split and then call LinReg function\n",
    "X = homes_production.drop(columns = ['Id', 'SalePrice'])\n",
    "y = homes_production['SalePrice']\n",
    "\n",
    "X_train, X_test, y_train, y_test = train_test_split(X, y, random_state = 42)\n",
    "\n",
    "coefs_production = get_lr(X_train, y_train)\n",
    "\n",
    "coefs_production"
   ]
  },
  {
   "cell_type": "code",
   "execution_count": 6,
   "id": "e88633cb-dd17-46c3-96d2-1f74071eb81e",
   "metadata": {
    "tags": []
   },
   "outputs": [
    {
     "name": "stdout",
     "output_type": "stream",
     "text": [
      "Production Model Cross-Validation Score: 0.7544171412819313\n",
      "Production Model Training Score: 0.7802646444079648\n",
      "Production Model Test Score: 0.8415366207107722\n"
     ]
    }
   ],
   "source": [
    "print(f'Production Model Cross-Validation Score: {cross_val_score(ss_pipe, X_train, y_train).mean()}')\n",
    "print(f'Production Model Training Score: {ss_pipe.score(X_train, y_train)}')\n",
    "print(f'Production Model Test Score: {ss_pipe.score(X_test, y_test)}')"
   ]
  },
  {
   "cell_type": "markdown",
   "id": "5a9a8cea-d532-47d6-a0c0-efcbe9817ba1",
   "metadata": {},
   "source": [
    "The reader will recall that the R<sup>2</sup> for the training and test scores were apprxoimately 0.78 and 0.84, respectively. Both evaluation metrics are relatively close and high in comparison to our original baseline model score of -0.00043. This indicates that we have a relatively well-fit model. "
   ]
  },
  {
   "cell_type": "markdown",
   "id": "42fbbaef-78a4-4353-89fd-2fa1246b7229",
   "metadata": {},
   "source": [
    "---\n",
    "\n",
    "## Feature Loadings\n",
    "\n",
    "Next, I will take a look at the feature loadings based on the correlation coefficients in the standard scaler form. Then, I will revert the coefficients based to their regular units to interpret the feature loadings."
   ]
  },
  {
   "cell_type": "code",
   "execution_count": 7,
   "id": "78160014-e6e7-4607-a692-f7a8adb68a70",
   "metadata": {
    "tags": []
   },
   "outputs": [
    {
     "data": {
      "text/html": [
       "<div>\n",
       "<style scoped>\n",
       "    .dataframe tbody tr th:only-of-type {\n",
       "        vertical-align: middle;\n",
       "    }\n",
       "\n",
       "    .dataframe tbody tr th {\n",
       "        vertical-align: top;\n",
       "    }\n",
       "\n",
       "    .dataframe thead th {\n",
       "        text-align: right;\n",
       "    }\n",
       "</style>\n",
       "<table border=\"1\" class=\"dataframe\">\n",
       "  <thead>\n",
       "    <tr style=\"text-align: right;\">\n",
       "      <th></th>\n",
       "      <th>Coefficient (St. Devs.)</th>\n",
       "    </tr>\n",
       "  </thead>\n",
       "  <tbody>\n",
       "    <tr>\n",
       "      <th>Overall Qual</th>\n",
       "      <td>35143.958468</td>\n",
       "    </tr>\n",
       "    <tr>\n",
       "      <th>Gr Liv Area</th>\n",
       "      <td>22999.960314</td>\n",
       "    </tr>\n",
       "    <tr>\n",
       "      <th>Year Built</th>\n",
       "      <td>10528.397422</td>\n",
       "    </tr>\n",
       "    <tr>\n",
       "      <th>BsmtFin SF 1</th>\n",
       "      <td>10116.465289</td>\n",
       "    </tr>\n",
       "    <tr>\n",
       "      <th>Garage Area</th>\n",
       "      <td>8824.518777</td>\n",
       "    </tr>\n",
       "    <tr>\n",
       "      <th>Lot Area</th>\n",
       "      <td>6770.160991</td>\n",
       "    </tr>\n",
       "  </tbody>\n",
       "</table>\n",
       "</div>"
      ],
      "text/plain": [
       "              Coefficient (St. Devs.)\n",
       "Overall Qual             35143.958468\n",
       "Gr Liv Area              22999.960314\n",
       "Year Built               10528.397422\n",
       "BsmtFin SF 1             10116.465289\n",
       "Garage Area               8824.518777\n",
       "Lot Area                  6770.160991"
      ]
     },
     "execution_count": 7,
     "metadata": {},
     "output_type": "execute_result"
    }
   ],
   "source": [
    "feature_loadings = pd.DataFrame(\n",
    "    coefs_production.values, \n",
    "    index = coefs_production.index, \n",
    "    columns = ['Coefficient (St. Devs.)']\n",
    ")\n",
    "\n",
    "feature_loadings"
   ]
  },
  {
   "cell_type": "code",
   "execution_count": 8,
   "id": "71935d53-0e36-45cb-89f3-2b4d3c539718",
   "metadata": {
    "tags": []
   },
   "outputs": [
    {
     "data": {
      "text/html": [
       "<div>\n",
       "<style scoped>\n",
       "    .dataframe tbody tr th:only-of-type {\n",
       "        vertical-align: middle;\n",
       "    }\n",
       "\n",
       "    .dataframe tbody tr th {\n",
       "        vertical-align: top;\n",
       "    }\n",
       "\n",
       "    .dataframe thead th {\n",
       "        text-align: right;\n",
       "    }\n",
       "</style>\n",
       "<table border=\"1\" class=\"dataframe\">\n",
       "  <thead>\n",
       "    <tr style=\"text-align: right;\">\n",
       "      <th></th>\n",
       "      <th>Coefficient (St. Devs.)</th>\n",
       "      <th>Standard Deviation</th>\n",
       "    </tr>\n",
       "  </thead>\n",
       "  <tbody>\n",
       "    <tr>\n",
       "      <th>Overall Qual</th>\n",
       "      <td>35143.958468</td>\n",
       "      <td>1.426271</td>\n",
       "    </tr>\n",
       "    <tr>\n",
       "      <th>Gr Liv Area</th>\n",
       "      <td>22999.960314</td>\n",
       "      <td>500.447829</td>\n",
       "    </tr>\n",
       "    <tr>\n",
       "      <th>Year Built</th>\n",
       "      <td>10528.397422</td>\n",
       "      <td>30.177889</td>\n",
       "    </tr>\n",
       "    <tr>\n",
       "      <th>BsmtFin SF 1</th>\n",
       "      <td>10116.465289</td>\n",
       "      <td>461.195041</td>\n",
       "    </tr>\n",
       "    <tr>\n",
       "      <th>Garage Area</th>\n",
       "      <td>8824.518777</td>\n",
       "      <td>216.135102</td>\n",
       "    </tr>\n",
       "    <tr>\n",
       "      <th>Lot Area</th>\n",
       "      <td>6770.160991</td>\n",
       "      <td>6742.488909</td>\n",
       "    </tr>\n",
       "  </tbody>\n",
       "</table>\n",
       "</div>"
      ],
      "text/plain": [
       "              Coefficient (St. Devs.)  Standard Deviation\n",
       "Overall Qual             35143.958468            1.426271\n",
       "Gr Liv Area              22999.960314          500.447829\n",
       "Year Built               10528.397422           30.177889\n",
       "BsmtFin SF 1             10116.465289          461.195041\n",
       "Garage Area               8824.518777          216.135102\n",
       "Lot Area                  6770.160991         6742.488909"
      ]
     },
     "execution_count": 8,
     "metadata": {},
     "output_type": "execute_result"
    }
   ],
   "source": [
    "feature_loadings['Standard Deviation'] = homes_production.drop(columns = ['Id', 'SalePrice']).std().values\n",
    "\n",
    "feature_loadings"
   ]
  },
  {
   "cell_type": "code",
   "execution_count": 27,
   "id": "cefc515c-78d7-411c-856a-4386f4fbe2c5",
   "metadata": {
    "tags": []
   },
   "outputs": [
    {
     "data": {
      "text/html": [
       "<div>\n",
       "<style scoped>\n",
       "    .dataframe tbody tr th:only-of-type {\n",
       "        vertical-align: middle;\n",
       "    }\n",
       "\n",
       "    .dataframe tbody tr th {\n",
       "        vertical-align: top;\n",
       "    }\n",
       "\n",
       "    .dataframe thead th {\n",
       "        text-align: right;\n",
       "    }\n",
       "</style>\n",
       "<table border=\"1\" class=\"dataframe\">\n",
       "  <thead>\n",
       "    <tr style=\"text-align: right;\">\n",
       "      <th></th>\n",
       "      <th>Coefficient (St. Devs.)</th>\n",
       "      <th>Standard Deviation</th>\n",
       "      <th>Coefficient (Units)</th>\n",
       "    </tr>\n",
       "  </thead>\n",
       "  <tbody>\n",
       "    <tr>\n",
       "      <th>Overall Qual</th>\n",
       "      <td>35143.958468</td>\n",
       "      <td>1.426271</td>\n",
       "      <td>24640.46</td>\n",
       "    </tr>\n",
       "    <tr>\n",
       "      <th>Year Built</th>\n",
       "      <td>10528.397422</td>\n",
       "      <td>30.177889</td>\n",
       "      <td>348.88</td>\n",
       "    </tr>\n",
       "    <tr>\n",
       "      <th>Gr Liv Area</th>\n",
       "      <td>22999.960314</td>\n",
       "      <td>500.447829</td>\n",
       "      <td>45.96</td>\n",
       "    </tr>\n",
       "    <tr>\n",
       "      <th>Garage Area</th>\n",
       "      <td>8824.518777</td>\n",
       "      <td>216.135102</td>\n",
       "      <td>40.83</td>\n",
       "    </tr>\n",
       "    <tr>\n",
       "      <th>BsmtFin SF 1</th>\n",
       "      <td>10116.465289</td>\n",
       "      <td>461.195041</td>\n",
       "      <td>21.94</td>\n",
       "    </tr>\n",
       "    <tr>\n",
       "      <th>Lot Area</th>\n",
       "      <td>6770.160991</td>\n",
       "      <td>6742.488909</td>\n",
       "      <td>1.00</td>\n",
       "    </tr>\n",
       "  </tbody>\n",
       "</table>\n",
       "</div>"
      ],
      "text/plain": [
       "              Coefficient (St. Devs.)  Standard Deviation  Coefficient (Units)\n",
       "Overall Qual             35143.958468            1.426271             24640.46\n",
       "Year Built               10528.397422           30.177889               348.88\n",
       "Gr Liv Area              22999.960314          500.447829                45.96\n",
       "Garage Area               8824.518777          216.135102                40.83\n",
       "BsmtFin SF 1             10116.465289          461.195041                21.94\n",
       "Lot Area                  6770.160991         6742.488909                 1.00"
      ]
     },
     "execution_count": 27,
     "metadata": {},
     "output_type": "execute_result"
    }
   ],
   "source": [
    "feature_loadings['Coefficient (Units)'] = round(feature_loadings['Coefficient (St. Devs.)'] / feature_loadings['Standard Deviation'], 2)\n",
    "\n",
    "feature_loadings = feature_loadings.sort_values(by = 'Coefficient (Units)', ascending = False)\n",
    "\n",
    "feature_loadings"
   ]
  },
  {
   "cell_type": "code",
   "execution_count": 28,
   "id": "8a9b9682-23c8-48d8-91f1-8fac495fe757",
   "metadata": {
    "tags": []
   },
   "outputs": [
    {
     "data": {
      "image/png": "[encoded data removed]",
      "text/plain": [
       "<Figure size 640x480 with 1 Axes>"
      ]
     },
     "metadata": {},
     "output_type": "display_data"
    }
   ],
   "source": [
    "ax = plt.subplot(111, frame_on=False) \n",
    "ax.xaxis.set_visible(False) \n",
    "ax.yaxis.set_visible(False) \n",
    "table(ax, feature_loadings, loc='center')\n",
    "plt.tight_layout()\n",
    "plt.savefig('../images/feature_loadings_table.png')"
   ]
  },
  {
   "cell_type": "code",
   "execution_count": 30,
   "id": "cd8246cf-746a-42e6-af22-11f67bd0c635",
   "metadata": {
    "tags": []
   },
   "outputs": [
    {
     "data": {
      "text/html": [
       "<div>\n",
       "<style scoped>\n",
       "    .dataframe tbody tr th:only-of-type {\n",
       "        vertical-align: middle;\n",
       "    }\n",
       "\n",
       "    .dataframe tbody tr th {\n",
       "        vertical-align: top;\n",
       "    }\n",
       "\n",
       "    .dataframe thead th {\n",
       "        text-align: right;\n",
       "    }\n",
       "</style>\n",
       "<table border=\"1\" class=\"dataframe\">\n",
       "  <thead>\n",
       "    <tr style=\"text-align: right;\">\n",
       "      <th></th>\n",
       "      <th>Coefficient (Units)</th>\n",
       "    </tr>\n",
       "  </thead>\n",
       "  <tbody>\n",
       "    <tr>\n",
       "      <th>Overall Qual</th>\n",
       "      <td>24640.46</td>\n",
       "    </tr>\n",
       "    <tr>\n",
       "      <th>Year Built</th>\n",
       "      <td>348.88</td>\n",
       "    </tr>\n",
       "    <tr>\n",
       "      <th>Gr Liv Area</th>\n",
       "      <td>45.96</td>\n",
       "    </tr>\n",
       "    <tr>\n",
       "      <th>Garage Area</th>\n",
       "      <td>40.83</td>\n",
       "    </tr>\n",
       "    <tr>\n",
       "      <th>BsmtFin SF 1</th>\n",
       "      <td>21.94</td>\n",
       "    </tr>\n",
       "    <tr>\n",
       "      <th>Lot Area</th>\n",
       "      <td>1.00</td>\n",
       "    </tr>\n",
       "  </tbody>\n",
       "</table>\n",
       "</div>"
      ],
      "text/plain": [
       "              Coefficient (Units)\n",
       "Overall Qual             24640.46\n",
       "Year Built                 348.88\n",
       "Gr Liv Area                 45.96\n",
       "Garage Area                 40.83\n",
       "BsmtFin SF 1                21.94\n",
       "Lot Area                     1.00"
      ]
     },
     "execution_count": 30,
     "metadata": {},
     "output_type": "execute_result"
    }
   ],
   "source": [
    "feature_loadings_simple = feature_loadings.drop(columns = ['Coefficient (St. Devs.)', 'Standard Deviation'])\n",
    "\n",
    "feature_loadings_simple"
   ]
  },
  {
   "cell_type": "code",
   "execution_count": 35,
   "id": "0d761494-95b9-433f-b398-88d991e88d0d",
   "metadata": {
    "tags": []
   },
   "outputs": [
    {
     "data": {
      "image/png": "[encoded data removed]",
      "text/plain": [
       "<Figure size 640x480 with 1 Axes>"
      ]
     },
     "metadata": {},
     "output_type": "display_data"
    }
   ],
   "source": [
    "ax = plt.subplot(111, frame_on=False) \n",
    "ax.xaxis.set_visible(False) \n",
    "ax.yaxis.set_visible(False) \n",
    "table(ax, feature_loadings_simple, loc='center')\n",
    "plt.tight_layout()\n",
    "plt.savefig('../images/feature_loadings_simple_table.png')"
   ]
  },
  {
   "cell_type": "markdown",
   "id": "5a20e2fe-64ad-4ef7-b082-3bf480d0d519",
   "metadata": {},
   "source": [
    "In the table above, I have listed the correlation coefficients for each of the six features in the production model. However, I used a standard scaler transformation in my production model to make features on different scales and magnitudes comparable when fitting the multi-linear regression. In the table above, I have included the datasets' standard deviations for each of the features in our production model and then found the correlation coefficient for each of the six features in our production model.\n",
    "\n",
    "We can interpret the coefficients converted back to their original units to mean for our four area features:\n",
    "\n",
    "* Holding all else constant, a one square foot increase in the above ground living area is correlated with a \\\\$45.96 increase in the sale price.\n",
    "* Holding all else constant, a one square foot increase in the garage area is correlated with a \\\\$40.83 increase in the sale price.\n",
    "* Holding all else constant, a one square foot increase in the finished basement is correlated with a \\\\$21.94 increase in the sale price.\n",
    "* Holding all else constant, a one square foot increase in the lot area is correlated with a \\\\$1.00 increase in the sale price.\n",
    "\n",
    "Let's now look at some of the inferential visualizations to determine errors in our residuals and whether our model assumptions are met."
   ]
  },
  {
   "cell_type": "markdown",
   "id": "099b13e9-4de0-484d-93fa-0c6db0b0b3eb",
   "metadata": {},
   "source": [
    "---\n",
    "\n",
    "## Inferential Visualizations\n",
    "\n",
    "First, I will use our production model to make predictions based on the features in the test sample. Then, I will calculate the mean absolute error, mean squared error, and root mean squared error. Then, I will look at the distribution of errors and plot the predicted values versus their residuals to evaluate our model's assumptions for mult-linear regression."
   ]
  },
  {
   "cell_type": "code",
   "execution_count": 10,
   "id": "eb50a4e2-297f-4134-acd7-78d2f5a83bf1",
   "metadata": {},
   "outputs": [],
   "source": [
    "preds_production = ss_pipe.predict(X_test)\n",
    "\n",
    "resids_production = y_test - preds_production"
   ]
  },
  {
   "cell_type": "code",
   "execution_count": 11,
   "id": "28f2cae3-f210-4a66-945d-64b9a332f367",
   "metadata": {},
   "outputs": [
    {
     "name": "stdout",
     "output_type": "stream",
     "text": [
      "The mean absolute error is $22428.42.\n"
     ]
    }
   ],
   "source": [
    "print(f'The mean absolute error is ${round(metrics.mean_absolute_error(y_test, preds_production), 2)}.')"
   ]
  },
  {
   "cell_type": "code",
   "execution_count": 12,
   "id": "c007b7f8-568f-4dc8-92fa-9fb601cf68e3",
   "metadata": {
    "tags": []
   },
   "outputs": [
    {
     "name": "stdout",
     "output_type": "stream",
     "text": [
      "The mean squared error is 972969067.68 dollars squared.\n"
     ]
    }
   ],
   "source": [
    "print(f'The mean squared error is {round(metrics.mean_squared_error(y_test, preds_production), 2)} dollars squared.')"
   ]
  },
  {
   "cell_type": "code",
   "execution_count": 13,
   "id": "828f218e-f4f5-4341-aa1b-e51b13b5f0dc",
   "metadata": {
    "tags": []
   },
   "outputs": [
    {
     "name": "stdout",
     "output_type": "stream",
     "text": [
      "The root mean squared error is $31192.45\n"
     ]
    }
   ],
   "source": [
    "print(f'The root mean squared error is ${round((metrics.mean_squared_error(y_test, preds_production)**0.5), 2)}')"
   ]
  },
  {
   "cell_type": "markdown",
   "id": "e6490c1f-2ce1-477a-b223-dd173452a8e4",
   "metadata": {},
   "source": [
    "The mean absolute error for our production model is \\\\$22,428.42 which seems like a pretty good average margin for our predictions within a range of 12-13% or so of our mean and median sale prices. Additionally, the root mean squared error is relatively close low as well as at \\\\$31,192.45."
   ]
  },
  {
   "cell_type": "code",
   "execution_count": 36,
   "id": "19197178-cd13-4844-b665-9a0a31302e80",
   "metadata": {
    "tags": []
   },
   "outputs": [
    {
     "data": {
      "image/png": "[encoded data removed]",
      "text/plain": [
       "<Figure size 640x480 with 1 Axes>"
      ]
     },
     "metadata": {},
     "output_type": "display_data"
    }
   ],
   "source": [
    "plt.hist(resids_production,\n",
    "        color = 'green',\n",
    "        bins = 20)\n",
    "plt.title('Distribution of Errors')\n",
    "plt.xlabel('Residual Errors')\n",
    "plt.ylabel('Frequency')\n",
    "plt.tight_layout()\n",
    "plt.savefig('../images/distribution_errors.png');"
   ]
  },
  {
   "cell_type": "code",
   "execution_count": 37,
   "id": "ad19229a-34e5-49a8-9a79-dde25021324d",
   "metadata": {},
   "outputs": [
    {
     "data": {
      "image/png": "[encoded data removed]",
      "text/plain": [
       "<Figure size 640x480 with 1 Axes>"
      ]
     },
     "metadata": {},
     "output_type": "display_data"
    }
   ],
   "source": [
    "plt.scatter(preds_production,\n",
    "            resids_production, \n",
    "            color = 'green', \n",
    "            s = 10, \n",
    "            alpha = 0.5)\n",
    "plt.title('Home Price Predictions vs. Residuals')\n",
    "plt.xlabel('Home Sale Predictions ($)')\n",
    "plt.ylabel('Residuals ($)')\n",
    "plt.axhline(0, color = 'orange')\n",
    "plt.tight_layout()\n",
    "plt.savefig('../images/preds_vs_resids.png');"
   ]
  },
  {
   "cell_type": "markdown",
   "id": "00e22910-cec5-41ab-aae2-9d07a4e81c2b",
   "metadata": {},
   "source": [
    "Regarding our inferential visualzations above, we can speak to some of the assumptions inherent in our multi-linear regression model.\n",
    "\n",
    "1. First, according to some of the scatterplots in the notebook in Part 1, we saw that some of the features which made it into our final production model, namely overall quality, living area, and garage area held linear relationship with the home sale price.\n",
    "\n",
    "2. Second, our independence of observations might be violated in this model because all of the home sales are from Ames, IA and all these home prices are undoubtely influenced by the overall housing market and moreso within specific neighborhoods. However, we did eliminate the neighborhoods from the final production model, which indicates that we might be able to say with more confidence that the confounding effects of home prices dependent on each other in the same neighborhood.\n",
    "\n",
    "3. Third, regarding our errors, there does appear to be a mostly normal distribution of errors with the error mean centered close to zero. This indicates that the residual errors are not skewed with respect to actual test values.\n",
    "\n",
    "4. Fourth, looking at our scatter plot of predicted values versus residuals, we can see that there does not appear to be equal variance of errors. Unfortunately, we do have a heteroscedastic distribution of errors with smaller errors closer to lower home sales and larger errors with more expensive home sales. If we were to have more time to refine the model, we might try eliminating some of the extreme home price outliers to see if the errors could be corrected to be more homoscedastic.\n",
    "\n",
    "5. Fifth, regarding multi-colinearity, we have accounted for that in our model, constantly looking back at our heatmap in Part 1 to try to effectively eliminate any linear relationships between features whenever possible. We can probably say with some confidence that many of the colinear relationships have been eliminated.\n",
    "\n",
    "We can see that many of our multi-linear regression assumptions have been met by our model although we might have pause regarding the equal variance of errors and refine our production model later by eliminating outliers and then refining the model.\n",
    "\n",
    "Lastly, I will make some final business recommendation for our construction company."
   ]
  },
  {
   "cell_type": "markdown",
   "id": "f3b6715b-42e3-4d8b-ad05-0233311d3dc1",
   "metadata": {},
   "source": [
    "---\n",
    "\n",
    "## Business Recommendations\n",
    "\n",
    "After extensive consideration of our production model for the square footage of features in new home construction, we can make some final recommendations for the architecture firm which answers the following problem statement:\n",
    "\n",
    "**For different features of new home construction, which features' square footage has the greatest predictive power in determining the home's sale price? Based on the model developed, how should these features be minimized or maximized to raise the overall sales price?**\n",
    "\n",
    "I shall summarize our findings and attendant recommendations below:\n",
    "\n",
    "---\n",
    "\n",
    "**Finding 1:** The home feature area factors most positively correlated with the home sale price are living area, garage area, finished basement area, and the lot area in that order, with respect to square footage, while holding overall quality and year built constant.\n",
    "\n",
    "**Recommendation 1:** The architecture firm in Ames, IA should design homes to maximize the size of the living area and garage area first and foremost, as both of these features are positive correlated with an increase in sale price of over \\\\$40/square foot. For homes with basements, as much of the basement should be finished at the time of construction to correlate with over \\\\$20/square foot. Lastly, while lot size is positively correlated with the sale price, this is less important as it appears to have only an incremental correlation with sale price. Citing the propert on a large lot is less important than maximimizing those three key area features.\n",
    "\n",
    "---\n",
    "\n",
    "**Finding 2:** The overall quality and year built have a very large positve correlation with home sale price with an increase of one unit of quality on a scale of 1-10 correlated with a sale price increase of nearly \\\\$25,000 and with an increase of being built one year later correlating with a sale price increase of nearly \\\\$350.\n",
    "\n",
    "**Recommendation 2:** This study was concerned with the architectural design of new home construction in Ames, IA. Therefore, the year built is irrelevant in any business decisions, but it is important to note that newer homes are highly postiviely correlated with higher sales prices, as one would typically suspect. However, despite eliminating almost all other extraneous non-area related factors in our production model, it appears that we must hold the overall quality constant to say with any cofidence that these other area factors have the positive correlation with home sale price. Therefore, the architecture firm should partner with construction companies and contractors who commit to using high-quality materials in their construction. Additionally, in our final iterations of our model, we can see that the kitchen quality being typical or average, or even just good has a negative correlation with home sale price. Therefore, the architectural firm may take care in working with the construction company or contractors to focus quality materials in the kitchen over other areas of the home, if budget is a concern.\n",
    "\n",
    "---\n",
    "\n",
    "**Finding 3:** In our Model 3 iteration, we saw that screen porch area continued to have a relatively large positive correlation with sales price. In contrast all other porches, including open porch, enclosed porch, and three-season porch all had weak positive correlations in Model 1 and were eliminated as factors for consideration in Model 2. The same is true of the wood deck square footage. Although the wood deck square footage had a large positive correlation than the other porches, it was still eliminated as a key feature of our production model in Model 3. Regarding other outdoor amenities, the pool area persitently maintained a negative correlation with home sale price in multiple iterations of our model.\n",
    "\n",
    "**Recommendation 3:** For outdoor areas, the architectural firm may decide to design with larger screen porches in mind. All other porches add little value to the home sale price. Pools may actually be less desirable, so designing new homes with pools could potentially lower the home sale price. If pools are considered a good fit for the neighborhood, the firm might considering minimizing the size.\n",
    "\n",
    "---\n",
    "\n",
    "**Finding 4:** Both second floor, first floor square footage, and total basement square footage all have positive but small correlations with our home sale price. The second floor square footage actually has zero correlation with the home sale price after our Ridge regularization, and we eliminated it as a feature for our production model at the start of Model 1. While the first floor square footage appears to have a larger positive correlation with price, it only persists through our Model 3 iteration as one of the more important factors. Total basement square footage was also elminated in Model 2 as the positive correlation too small to warrant including in our final production model.\n",
    "\n",
    "**Recommendation 4:** Perhaps surprisingly, the total area of each of the floors seems less important than how the area of the spaces within each floor is designed. For a basement, it seems key to maxmimize the area which is finished in quality. For the first floor, creating a larger living area and perhaps designing a high quality kichen seemm more important than having a larger first floor plan or even more rooms. Lastly, a second floor seems almost negligible in home sales. The firm might consider designing homes without a second floor altogether."
   ]
  }
 ],
 "metadata": {
  "kernelspec": {
   "display_name": "Python [conda env:dsi] *",
   "language": "python",
   "name": "conda-env-dsi-py"
  },
  "language_info": {
   "codemirror_mode": {
    "name": "ipython",
    "version": 3
   },
   "file_extension": ".py",
   "mimetype": "text/x-python",
   "name": "python",
   "nbconvert_exporter": "python",
   "pygments_lexer": "ipython3",
   "version": "3.8.16"
  }
 },
 "nbformat": 4,
 "nbformat_minor": 5
}
